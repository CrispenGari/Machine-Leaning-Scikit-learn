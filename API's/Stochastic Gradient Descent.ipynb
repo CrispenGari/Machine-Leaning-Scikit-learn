{
 "cells": [
  {
   "cell_type": "markdown",
   "id": "spare-cycle",
   "metadata": {},
   "source": [
    "## Stochastic Gradient Descent (SGD)\n",
    "* **Stochastic Gradient Descent (SGD)** is a simple yet very efficient approach to fitting linear classifiers and regressors under convex loss functions such as (linear) Support Vector Machines and Logistic Regression. "
   ]
  },
  {
   "cell_type": "markdown",
   "id": "absolute-travel",
   "metadata": {},
   "source": [
    "###  Classification\n",
    "* The class SGDClassifier implements a plain stochastic gradient descent learning routine which supports different loss functions and penalties for classification. Below is the decision boundary of a SGDClassifier trained with the hinge loss, equivalent to a linear SVM"
   ]
  },
  {
   "cell_type": "code",
   "execution_count": 1,
   "id": "intense-compression",
   "metadata": {},
   "outputs": [],
   "source": [
    "import pandas as pd\n",
    "import numpy as np\n",
    "import matplotlib.pyplot as plt\n",
    "import seaborn as sns\n",
    "import sklearn as sk"
   ]
  },
  {
   "cell_type": "code",
   "execution_count": 3,
   "id": "muslim-ecology",
   "metadata": {},
   "outputs": [
    {
     "data": {
      "text/plain": [
       "(3, 2)"
      ]
     },
     "execution_count": 3,
     "metadata": {},
     "output_type": "execute_result"
    }
   ],
   "source": [
    "X = np.array([[0., 0],[1, 1.], [2., 3]])\n",
    "X.shape # 3 samples and 2 features"
   ]
  },
  {
   "cell_type": "code",
   "execution_count": 9,
   "id": "numerous-immigration",
   "metadata": {},
   "outputs": [],
   "source": [
    "y = np.array([0, 1, 2]) # 2 features"
   ]
  },
  {
   "cell_type": "code",
   "execution_count": 5,
   "id": "automated-tribune",
   "metadata": {},
   "outputs": [],
   "source": [
    "from sklearn.linear_model import SGDClassifier\n",
    "\n",
    "clf = SGDClassifier(loss=\"hinge\", penalty='l2', max_iter=5)"
   ]
  },
  {
   "cell_type": "code",
   "execution_count": 10,
   "id": "beneficial-tanzania",
   "metadata": {},
   "outputs": [
    {
     "name": "stderr",
     "output_type": "stream",
     "text": [
      "C:\\Users\\crisp\\Documents\\anaconda3\\lib\\site-packages\\sklearn\\linear_model\\_stochastic_gradient.py:574: ConvergenceWarning: Maximum number of iteration reached before convergence. Consider increasing max_iter to improve the fit.\n",
      "  warnings.warn(\"Maximum number of iteration reached before \"\n"
     ]
    },
    {
     "data": {
      "text/plain": [
       "SGDClassifier(max_iter=5)"
      ]
     },
     "execution_count": 10,
     "metadata": {},
     "output_type": "execute_result"
    }
   ],
   "source": [
    "clf.fit(X, y)"
   ]
  },
  {
   "cell_type": "code",
   "execution_count": 15,
   "id": "angry-albania",
   "metadata": {},
   "outputs": [
    {
     "data": {
      "text/plain": [
       "array([0])"
      ]
     },
     "execution_count": 15,
     "metadata": {},
     "output_type": "execute_result"
    }
   ],
   "source": [
    "clf.predict(np.array([[0., 1]]))"
   ]
  },
  {
   "cell_type": "code",
   "execution_count": 19,
   "id": "minor-anime",
   "metadata": {},
   "outputs": [
    {
     "data": {
      "text/plain": [
       "array([[-9.86193294, -9.86193294],\n",
       "       [ 9.86193294, -9.86193294],\n",
       "       [ 0.        , 19.72386588]])"
      ]
     },
     "execution_count": 19,
     "metadata": {},
     "output_type": "execute_result"
    }
   ],
   "source": [
    "clf.coef_"
   ]
  },
  {
   "cell_type": "code",
   "execution_count": 20,
   "id": "frank-accessory",
   "metadata": {},
   "outputs": [
    {
     "data": {
      "text/plain": [
       "array([  9.94019928,  -0.06876845, -39.73271926])"
      ]
     },
     "execution_count": 20,
     "metadata": {},
     "output_type": "execute_result"
    }
   ],
   "source": [
    "clf.intercept_"
   ]
  },
  {
   "cell_type": "code",
   "execution_count": 21,
   "id": "assumed-biology",
   "metadata": {},
   "outputs": [
    {
     "data": {
      "text/plain": [
       "array([[-29.50753247,  -0.06876845,  -0.2849875 ]])"
      ]
     },
     "execution_count": 21,
     "metadata": {},
     "output_type": "execute_result"
    }
   ],
   "source": [
    "clf.decision_function([[2., 2.]])"
   ]
  },
  {
   "cell_type": "markdown",
   "id": "sustainable-scout",
   "metadata": {},
   "source": [
    "### Loss functions\n",
    "`loss=\"hinge\"`: (soft-margin) linear Support Vector Machine,\n",
    "\n",
    "`loss=\"modified_huber\"`: smoothed hinge loss,\n",
    "\n",
    "`loss=\"log\"`: logistic regression,"
   ]
  },
  {
   "cell_type": "markdown",
   "id": "noble-queensland",
   "metadata": {},
   "source": [
    "### Penalties\n",
    "`penalty=\"l2\"`: L2 norm penalty on coef_.\n",
    "\n",
    "`penalty=\"l1\"`: L1 norm penalty on coef_.\n",
    "\n",
    "`penalty=\"elasticnet\"`: Convex combination of L2 and L1; `(1 - l1_ratio) * L2 + l1_ratio * L1.`"
   ]
  },
  {
   "cell_type": "markdown",
   "id": "peaceful-foundation",
   "metadata": {},
   "source": [
    "##  Pipelines"
   ]
  },
  {
   "cell_type": "markdown",
   "id": "manufactured-wisconsin",
   "metadata": {},
   "source": [
    "### Pipeline: chaining estimators\n",
    "* Pipeline can be used to chain multiple estimators into one.\n",
    "> [Ref](https://scikit-learn.org/stable/modules/compose.html#combining-estimators)"
   ]
  },
  {
   "cell_type": "markdown",
   "id": "engaging-simple",
   "metadata": {},
   "source": [
    "### Basic Usage of the pipeline\n",
    "* We are going to use the pipeline in predicting the target name using iris dataset"
   ]
  },
  {
   "cell_type": "code",
   "execution_count": 26,
   "id": "pressing-draft",
   "metadata": {},
   "outputs": [],
   "source": [
    "from sklearn.datasets import load_iris\n",
    "iris = load_iris()\n",
    "iris_X, iris_y, target_names = iris.data, iris.target, iris.target_names"
   ]
  },
  {
   "cell_type": "code",
   "execution_count": 27,
   "id": "neural-factory",
   "metadata": {},
   "outputs": [
    {
     "data": {
      "text/plain": [
       "array([[5.1, 3.5, 1.4, 0.2],\n",
       "       [4.9, 3. , 1.4, 0.2]])"
      ]
     },
     "execution_count": 27,
     "metadata": {},
     "output_type": "execute_result"
    }
   ],
   "source": [
    "iris_X[:2]"
   ]
  },
  {
   "cell_type": "code",
   "execution_count": 28,
   "id": "supported-combining",
   "metadata": {},
   "outputs": [
    {
     "data": {
      "text/plain": [
       "array([0, 0])"
      ]
     },
     "execution_count": 28,
     "metadata": {},
     "output_type": "execute_result"
    }
   ],
   "source": [
    "iris_y[:2]"
   ]
  },
  {
   "cell_type": "code",
   "execution_count": 29,
   "id": "residential-breathing",
   "metadata": {},
   "outputs": [
    {
     "data": {
      "text/plain": [
       "array(['setosa', 'versicolor', 'virginica'], dtype='<U10')"
      ]
     },
     "execution_count": 29,
     "metadata": {},
     "output_type": "execute_result"
    }
   ],
   "source": [
    "target_names"
   ]
  },
  {
   "cell_type": "code",
   "execution_count": 30,
   "id": "boxed-blink",
   "metadata": {},
   "outputs": [],
   "source": [
    "from sklearn.model_selection import train_test_split"
   ]
  },
  {
   "cell_type": "code",
   "execution_count": 31,
   "id": "executed-processor",
   "metadata": {},
   "outputs": [],
   "source": [
    "X_train, X_test, y_train, y_test = train_test_split(iris_X, iris_y, \n",
    "                                                   test_size=.25, random_state = 33)"
   ]
  },
  {
   "cell_type": "code",
   "execution_count": 32,
   "id": "cooperative-sequence",
   "metadata": {},
   "outputs": [
    {
     "data": {
      "text/plain": [
       "((112, 4), (112,), (38, 4), (38,))"
      ]
     },
     "execution_count": 32,
     "metadata": {},
     "output_type": "execute_result"
    }
   ],
   "source": [
    "X_train.shape, y_train.shape, X_test.shape, y_test.shape"
   ]
  },
  {
   "cell_type": "markdown",
   "id": "executed-weekly",
   "metadata": {},
   "source": [
    "### Visualisation"
   ]
  },
  {
   "cell_type": "code",
   "execution_count": 36,
   "id": "eligible-checkout",
   "metadata": {},
   "outputs": [
    {
     "data": {
      "image/png": "[encoded data removed]",
      "text/plain": [
       "<Figure size 432x288 with 1 Axes>"
      ]
     },
     "metadata": {
      "needs_background": "light"
     },
     "output_type": "display_data"
    }
   ],
   "source": [
    "colors = [\"red\", \"green\", \"blue\"]\n",
    "for i in range(len(colors)):\n",
    "    xs = X_train[:,0][y_train== i]\n",
    "    ys = X_train[:, 1][y_train == i]\n",
    "    sns.scatterplot(x=xs, y=ys)\n",
    "plt.legend(iris.target_names)\n",
    "plt.xlabel('Sepal length')\n",
    "plt.title(\"Scatter Plot\")\n",
    "plt.ylabel('Sepal width')\n",
    "plt.show()"
   ]
  },
  {
   "cell_type": "code",
   "execution_count": null,
   "id": "chief-mounting",
   "metadata": {},
   "outputs": [],
   "source": [
    "# Creating a pipe"
   ]
  },
  {
   "cell_type": "code",
   "execution_count": 100,
   "id": "fallen-wages",
   "metadata": {},
   "outputs": [],
   "source": [
    "from sklearn.preprocessing import StandardScaler\n",
    "from sklearn.pipeline import Pipeline\n",
    "pipe = Pipeline([\n",
    "    (\"scale\", StandardScaler()),\n",
    "    (\"clf\", SGDClassifier())\n",
    "])"
   ]
  },
  {
   "cell_type": "code",
   "execution_count": 39,
   "id": "satisfied-relief",
   "metadata": {},
   "outputs": [
    {
     "data": {
      "text/plain": [
       "Pipeline(steps=[('scale', StandardScaler()), ('clf', SGDClassifier())])"
      ]
     },
     "execution_count": 39,
     "metadata": {},
     "output_type": "execute_result"
    }
   ],
   "source": [
    "pipe"
   ]
  },
  {
   "cell_type": "code",
   "execution_count": 41,
   "id": "employed-counter",
   "metadata": {},
   "outputs": [
    {
     "data": {
      "text/plain": [
       "Pipeline(steps=[('scale', StandardScaler()), ('clf', SGDClassifier())])"
      ]
     },
     "execution_count": 41,
     "metadata": {},
     "output_type": "execute_result"
    }
   ],
   "source": [
    "pipe.fit(X_train, y_train)\n"
   ]
  },
  {
   "cell_type": "code",
   "execution_count": 42,
   "id": "horizontal-concept",
   "metadata": {},
   "outputs": [
    {
     "data": {
      "text/plain": [
       "array([0])"
      ]
     },
     "execution_count": 42,
     "metadata": {},
     "output_type": "execute_result"
    }
   ],
   "source": [
    "pipe.predict([[5.1, 3.5, 1.4, 0.2]])"
   ]
  },
  {
   "cell_type": "code",
   "execution_count": 66,
   "id": "strategic-allowance",
   "metadata": {},
   "outputs": [
    {
     "name": "stdout",
     "output_type": "stream",
     "text": [
      "[1 1 0 1 2 2 0 0 2 2] [[5.7 2.9 4.2 1.3]\n",
      " [6.7 3.1 4.4 1.4]\n",
      " [4.7 3.2 1.6 0.2]\n",
      " [6.5 2.8 4.6 1.5]\n",
      " [6.1 2.6 5.6 1.4]\n",
      " [6.3 3.3 6.  2.5]\n",
      " [4.8 3.4 1.9 0.2]\n",
      " [5.1 3.5 1.4 0.3]\n",
      " [6.4 3.1 5.5 1.8]\n",
      " [6.9 3.2 5.7 2.3]]\n"
     ]
    }
   ],
   "source": [
    "print(y_test[:10], X_test[:10])"
   ]
  },
  {
   "cell_type": "code",
   "execution_count": 50,
   "id": "occupied-surgery",
   "metadata": {},
   "outputs": [
    {
     "data": {
      "text/plain": [
       "'setosa'"
      ]
     },
     "execution_count": 50,
     "metadata": {},
     "output_type": "execute_result"
    }
   ],
   "source": [
    "target_names[0]"
   ]
  },
  {
   "cell_type": "code",
   "execution_count": 59,
   "id": "fixed-universe",
   "metadata": {},
   "outputs": [],
   "source": [
    "def predictIris(data):\n",
    "    index = pipe.predict([data])[0]\n",
    "    return target_names[index]"
   ]
  },
  {
   "cell_type": "code",
   "execution_count": 60,
   "id": "tamil-graph",
   "metadata": {},
   "outputs": [
    {
     "data": {
      "text/plain": [
       "'setosa'"
      ]
     },
     "execution_count": 60,
     "metadata": {},
     "output_type": "execute_result"
    }
   ],
   "source": [
    "predictIris([5.1, 3.5, 1.4, 0.2])"
   ]
  },
  {
   "cell_type": "code",
   "execution_count": 61,
   "id": "presidential-redhead",
   "metadata": {},
   "outputs": [
    {
     "data": {
      "text/plain": [
       "'versicolor'"
      ]
     },
     "execution_count": 61,
     "metadata": {},
     "output_type": "execute_result"
    }
   ],
   "source": [
    "predictIris([5.7 ,2.9, 4.2, 1.3])"
   ]
  },
  {
   "cell_type": "code",
   "execution_count": 62,
   "id": "loving-activity",
   "metadata": {},
   "outputs": [
    {
     "data": {
      "text/plain": [
       "'versicolor'"
      ]
     },
     "execution_count": 62,
     "metadata": {},
     "output_type": "execute_result"
    }
   ],
   "source": [
    "predictIris([6.7 ,3.1, 4.4, 1.4])"
   ]
  },
  {
   "cell_type": "code",
   "execution_count": 78,
   "id": "consolidated-stone",
   "metadata": {},
   "outputs": [
    {
     "ename": "IndexError",
     "evalue": "only integers, slices (`:`), ellipsis (`...`), numpy.newaxis (`None`) and integer or boolean arrays are valid indices",
     "output_type": "error",
     "traceback": [
      "\u001b[1;31m---------------------------------------------------------------------------\u001b[0m",
      "\u001b[1;31mIndexError\u001b[0m                                Traceback (most recent call last)",
      "\u001b[1;32m<ipython-input-78-b10c06ba7062>\u001b[0m in \u001b[0;36m<module>\u001b[1;34m\u001b[0m\n\u001b[1;32m----> 1\u001b[1;33m \u001b[0mpredictIris\u001b[0m\u001b[1;33m(\u001b[0m\u001b[1;33m[\u001b[0m\u001b[1;36m4.7\u001b[0m\u001b[1;33m,\u001b[0m \u001b[1;36m3.2\u001b[0m\u001b[1;33m,\u001b[0m \u001b[1;36m1.6\u001b[0m\u001b[1;33m,\u001b[0m \u001b[1;36m0.2\u001b[0m\u001b[1;33m]\u001b[0m\u001b[1;33m)\u001b[0m\u001b[1;33m\u001b[0m\u001b[1;33m\u001b[0m\u001b[0m\n\u001b[0m",
      "\u001b[1;32m<ipython-input-59-0ef529d64d49>\u001b[0m in \u001b[0;36mpredictIris\u001b[1;34m(data)\u001b[0m\n\u001b[0;32m      1\u001b[0m \u001b[1;32mdef\u001b[0m \u001b[0mpredictIris\u001b[0m\u001b[1;33m(\u001b[0m\u001b[0mdata\u001b[0m\u001b[1;33m)\u001b[0m\u001b[1;33m:\u001b[0m\u001b[1;33m\u001b[0m\u001b[1;33m\u001b[0m\u001b[0m\n\u001b[0;32m      2\u001b[0m     \u001b[0mindex\u001b[0m \u001b[1;33m=\u001b[0m \u001b[0mpipe\u001b[0m\u001b[1;33m.\u001b[0m\u001b[0mpredict\u001b[0m\u001b[1;33m(\u001b[0m\u001b[1;33m[\u001b[0m\u001b[0mdata\u001b[0m\u001b[1;33m]\u001b[0m\u001b[1;33m)\u001b[0m\u001b[1;33m[\u001b[0m\u001b[1;36m0\u001b[0m\u001b[1;33m]\u001b[0m\u001b[1;33m\u001b[0m\u001b[1;33m\u001b[0m\u001b[0m\n\u001b[1;32m----> 3\u001b[1;33m     \u001b[1;32mreturn\u001b[0m \u001b[0mtarget_names\u001b[0m\u001b[1;33m[\u001b[0m\u001b[0mindex\u001b[0m\u001b[1;33m]\u001b[0m\u001b[1;33m\u001b[0m\u001b[1;33m\u001b[0m\u001b[0m\n\u001b[0m",
      "\u001b[1;31mIndexError\u001b[0m: only integers, slices (`:`), ellipsis (`...`), numpy.newaxis (`None`) and integer or boolean arrays are valid indices"
     ]
    }
   ],
   "source": [
    "predictIris([4.7, 3.2, 1.6, 0.2])"
   ]
  },
  {
   "cell_type": "code",
   "execution_count": 79,
   "id": "judicial-soundtrack",
   "metadata": {},
   "outputs": [
    {
     "ename": "IndexError",
     "evalue": "only integers, slices (`:`), ellipsis (`...`), numpy.newaxis (`None`) and integer or boolean arrays are valid indices",
     "output_type": "error",
     "traceback": [
      "\u001b[1;31m---------------------------------------------------------------------------\u001b[0m",
      "\u001b[1;31mIndexError\u001b[0m                                Traceback (most recent call last)",
      "\u001b[1;32m<ipython-input-79-bf82024d00b1>\u001b[0m in \u001b[0;36m<module>\u001b[1;34m\u001b[0m\n\u001b[1;32m----> 1\u001b[1;33m \u001b[0mpredictIris\u001b[0m\u001b[1;33m(\u001b[0m\u001b[1;33m[\u001b[0m\u001b[1;36m6.9\u001b[0m\u001b[1;33m,\u001b[0m \u001b[1;36m3.2\u001b[0m\u001b[1;33m,\u001b[0m \u001b[1;36m5.7\u001b[0m\u001b[1;33m,\u001b[0m \u001b[1;36m2.3\u001b[0m\u001b[1;33m]\u001b[0m\u001b[1;33m)\u001b[0m\u001b[1;33m\u001b[0m\u001b[1;33m\u001b[0m\u001b[0m\n\u001b[0m",
      "\u001b[1;32m<ipython-input-59-0ef529d64d49>\u001b[0m in \u001b[0;36mpredictIris\u001b[1;34m(data)\u001b[0m\n\u001b[0;32m      1\u001b[0m \u001b[1;32mdef\u001b[0m \u001b[0mpredictIris\u001b[0m\u001b[1;33m(\u001b[0m\u001b[0mdata\u001b[0m\u001b[1;33m)\u001b[0m\u001b[1;33m:\u001b[0m\u001b[1;33m\u001b[0m\u001b[1;33m\u001b[0m\u001b[0m\n\u001b[0;32m      2\u001b[0m     \u001b[0mindex\u001b[0m \u001b[1;33m=\u001b[0m \u001b[0mpipe\u001b[0m\u001b[1;33m.\u001b[0m\u001b[0mpredict\u001b[0m\u001b[1;33m(\u001b[0m\u001b[1;33m[\u001b[0m\u001b[0mdata\u001b[0m\u001b[1;33m]\u001b[0m\u001b[1;33m)\u001b[0m\u001b[1;33m[\u001b[0m\u001b[1;36m0\u001b[0m\u001b[1;33m]\u001b[0m\u001b[1;33m\u001b[0m\u001b[1;33m\u001b[0m\u001b[0m\n\u001b[1;32m----> 3\u001b[1;33m     \u001b[1;32mreturn\u001b[0m \u001b[0mtarget_names\u001b[0m\u001b[1;33m[\u001b[0m\u001b[0mindex\u001b[0m\u001b[1;33m]\u001b[0m\u001b[1;33m\u001b[0m\u001b[1;33m\u001b[0m\u001b[0m\n\u001b[0m",
      "\u001b[1;31mIndexError\u001b[0m: only integers, slices (`:`), ellipsis (`...`), numpy.newaxis (`None`) and integer or boolean arrays are valid indices"
     ]
    }
   ],
   "source": [
    "predictIris([6.9, 3.2, 5.7, 2.3])\n"
   ]
  },
  {
   "cell_type": "markdown",
   "id": "induced-kidney",
   "metadata": {},
   "source": [
    "### Evaluating the Model"
   ]
  },
  {
   "cell_type": "code",
   "execution_count": 68,
   "id": "going-model",
   "metadata": {},
   "outputs": [
    {
     "data": {
      "text/plain": [
       "0.9285714285714286"
      ]
     },
     "execution_count": 68,
     "metadata": {},
     "output_type": "execute_result"
    }
   ],
   "source": [
    "from sklearn.metrics import accuracy_score\n",
    "y_train_pred = pipe.predict(X_train)\n",
    "\n",
    "acc = accuracy_score(y_train, y_train_pred)\n",
    "acc"
   ]
  },
  {
   "cell_type": "markdown",
   "id": "foreign-temperature",
   "metadata": {},
   "source": [
    "> The model is `93%` accuracy on the train data one of the reason is that, **maybe** the model is still memorising the data"
   ]
  },
  {
   "cell_type": "code",
   "execution_count": 70,
   "id": "outstanding-research",
   "metadata": {
    "scrolled": true
   },
   "outputs": [
    {
     "data": {
      "text/plain": [
       "0.8947368421052632"
      ]
     },
     "execution_count": 70,
     "metadata": {},
     "output_type": "execute_result"
    }
   ],
   "source": [
    "y_test_pred = pipe.predict(X_test)\n",
    "accuracy_score(y_test, y_test_pred)"
   ]
  },
  {
   "cell_type": "markdown",
   "id": "introductory-cardiff",
   "metadata": {},
   "source": [
    "> The model is `89%` accuracy on the test data, so we made it!!!"
   ]
  },
  {
   "cell_type": "markdown",
   "id": "northern-female",
   "metadata": {},
   "source": [
    "> Note that the `SGDClassifier` can take options such as the `loss` function, `penalty`, `max_iter`, etc in the pipeline for example:\n",
    "  \n",
    "```\n",
    "pipe = Pipeline([\n",
    "    (\"scale\", StandardScaler()),\n",
    "    (\"clf\", SGDClassifier(loss=\"hinge\", max_iter=5, penalty=\"l2\"))\n",
    "])\n",
    "```"
   ]
  },
  {
   "cell_type": "code",
   "execution_count": 71,
   "id": "opening-twins",
   "metadata": {},
   "outputs": [],
   "source": [
    "pipe = Pipeline([\n",
    "    (\"scale\", StandardScaler()),\n",
    "    (\"clf\", SGDClassifier(loss=\"hinge\", max_iter=5, penalty=\"l2\"))\n",
    "])"
   ]
  },
  {
   "cell_type": "code",
   "execution_count": null,
   "id": "opened-organizer",
   "metadata": {},
   "outputs": [],
   "source": []
  },
  {
   "cell_type": "markdown",
   "id": "closed-alabama",
   "metadata": {},
   "source": [
    "###  Regression\n",
    "\n",
    "The class **SGDRegressor** implements a plain stochastic gradient descent learning routine which supports different loss functions and penalties to fit linear regression models. SGDRegressor is well suited for regression problems with a large number of training samples `(> 10.000)`, for other problems they recommend **Ridge**, **Lasso**, or **ElasticNet**.\n",
    "\n",
    "> Let's try to pridict the `iris_datasets` from the previous example using the **SGDRegressor**\n",
    "\n",
    "#### Loss Functions\n",
    "`loss=\"squared_loss\"`: Ordinary least squares,\n",
    "\n",
    "`loss=\"huber\"`: Huber loss for robust regression,\n",
    "\n",
    "`loss=\"epsilon_insensitive\"`: linear Support Vector Regression."
   ]
  },
  {
   "cell_type": "code",
   "execution_count": 72,
   "id": "reflected-month",
   "metadata": {},
   "outputs": [
    {
     "data": {
      "text/plain": [
       "(array([[5. , 2.3, 3.3, 1. ],\n",
       "        [4.9, 3.1, 1.5, 0.2]]),\n",
       " array([1, 0]),\n",
       " array([[5.7, 2.9, 4.2, 1.3],\n",
       "        [6.7, 3.1, 4.4, 1.4]]),\n",
       " array([1, 1]))"
      ]
     },
     "execution_count": 72,
     "metadata": {},
     "output_type": "execute_result"
    }
   ],
   "source": [
    "X_train[:2], y_train[:2], X_test[:2], y_test[:2]"
   ]
  },
  {
   "cell_type": "code",
   "execution_count": 73,
   "id": "above-modern",
   "metadata": {},
   "outputs": [],
   "source": [
    "from sklearn.linear_model import SGDRegressor"
   ]
  },
  {
   "cell_type": "code",
   "execution_count": 88,
   "id": "editorial-degree",
   "metadata": {},
   "outputs": [],
   "source": [
    "pipe = Pipeline([\n",
    "    (\"scale\", StandardScaler()),\n",
    "    ('clf', SGDRegressor())\n",
    "])"
   ]
  },
  {
   "cell_type": "code",
   "execution_count": 89,
   "id": "loaded-orchestra",
   "metadata": {},
   "outputs": [
    {
     "data": {
      "text/plain": [
       "Pipeline(steps=[('scale', StandardScaler()), ('clf', SGDRegressor())])"
      ]
     },
     "execution_count": 89,
     "metadata": {},
     "output_type": "execute_result"
    }
   ],
   "source": [
    "pipe.fit(X_train, y_train)"
   ]
  },
  {
   "cell_type": "code",
   "execution_count": 90,
   "id": "korean-custody",
   "metadata": {},
   "outputs": [],
   "source": [
    "def predictIris(data):\n",
    "    index = pipe.predict([data])\n",
    "    print(index)\n",
    "#     return target_names[index]"
   ]
  },
  {
   "cell_type": "code",
   "execution_count": 91,
   "id": "choice-eligibility",
   "metadata": {},
   "outputs": [
    {
     "name": "stdout",
     "output_type": "stream",
     "text": [
      "[1.89578231]\n"
     ]
    }
   ],
   "source": [
    "predictIris([6.9, 3.2, 5.7, 2.3])"
   ]
  },
  {
   "cell_type": "code",
   "execution_count": null,
   "id": "stopped-arizona",
   "metadata": {},
   "outputs": [],
   "source": [
    "predictIris([4.7, 3.2, 1.6, 0.2])\n"
   ]
  },
  {
   "cell_type": "code",
   "execution_count": null,
   "id": "activated-study",
   "metadata": {},
   "outputs": [],
   "source": [
    "predictIris([6.7 ,3.1, 4.4, 1.4])\n"
   ]
  },
  {
   "cell_type": "code",
   "execution_count": null,
   "id": "advance-still",
   "metadata": {},
   "outputs": [],
   "source": [
    "predictIris([5.7 ,2.9, 4.2, 1.3])\n"
   ]
  },
  {
   "cell_type": "code",
   "execution_count": null,
   "id": "alike-gibson",
   "metadata": {},
   "outputs": [],
   "source": [
    "predictIris([5.1, 3.5, 1.4, 0.2])"
   ]
  },
  {
   "cell_type": "code",
   "execution_count": null,
   "id": "specific-suicide",
   "metadata": {},
   "outputs": [],
   "source": []
  },
  {
   "cell_type": "code",
   "execution_count": null,
   "id": "hidden-swing",
   "metadata": {},
   "outputs": [],
   "source": [
    "X = np.array([[0., 0], [1., 1]])\n",
    "y = np.array([0, 1])\n"
   ]
  },
  {
   "cell_type": "code",
   "execution_count": 95,
   "id": "completed-driver",
   "metadata": {},
   "outputs": [],
   "source": [
    "clf = SGDRegressor(max_iter =1000)"
   ]
  },
  {
   "cell_type": "code",
   "execution_count": 96,
   "id": "adjusted-scheduling",
   "metadata": {},
   "outputs": [
    {
     "data": {
      "text/plain": [
       "SGDRegressor()"
      ]
     },
     "execution_count": 96,
     "metadata": {},
     "output_type": "execute_result"
    }
   ],
   "source": [
    "clf.fit(X, y)"
   ]
  },
  {
   "cell_type": "code",
   "execution_count": 97,
   "id": "german-namibia",
   "metadata": {},
   "outputs": [
    {
     "data": {
      "text/plain": [
       "array([0.15477472])"
      ]
     },
     "execution_count": 97,
     "metadata": {},
     "output_type": "execute_result"
    }
   ],
   "source": [
    "clf.predict([[0,0]])"
   ]
  },
  {
   "cell_type": "code",
   "execution_count": 98,
   "id": "different-orchestra",
   "metadata": {},
   "outputs": [
    {
     "data": {
      "text/plain": [
       "Pipeline(steps=[('standardscaler', StandardScaler()),\n",
       "                ('sgdregressor', SGDRegressor())])"
      ]
     },
     "execution_count": 98,
     "metadata": {},
     "output_type": "execute_result"
    }
   ],
   "source": [
    "import numpy as np\n",
    "from sklearn.linear_model import SGDRegressor\n",
    "from sklearn.pipeline import make_pipeline\n",
    "from sklearn.preprocessing import StandardScaler\n",
    "n_samples, n_features = 10, 5\n",
    "rng = np.random.RandomState(0)\n",
    "y = rng.randn(n_samples)\n",
    "X = rng.randn(n_samples, n_features)\n",
    "# Always scale the input. The most convenient way is to use a pipeline.\n",
    "reg = make_pipeline(StandardScaler(),SGDRegressor(max_iter=1000, tol=1e-3))\n",
    "reg.fit(X, y)\n",
    "Pipeline(steps=[('standardscaler', StandardScaler()),\n",
    "                ('sgdregressor', SGDRegressor())])"
   ]
  },
  {
   "cell_type": "code",
   "execution_count": 99,
   "id": "major-ireland",
   "metadata": {},
   "outputs": [
    {
     "data": {
      "text/plain": [
       "array([0.5078794])"
      ]
     },
     "execution_count": 99,
     "metadata": {},
     "output_type": "execute_result"
    }
   ],
   "source": [
    "reg.predict([np.random.rand(5)])"
   ]
  }
 ],
 "metadata": {
  "kernelspec": {
   "display_name": "Python 3",
   "language": "python",
   "name": "python3"
  },
  "language_info": {
   "codemirror_mode": {
    "name": "ipython",
    "version": 3
   },
   "file_extension": ".py",
   "mimetype": "text/x-python",
   "name": "python",
   "nbconvert_exporter": "python",
   "pygments_lexer": "ipython3",
   "version": "3.8.5"
  }
 },
 "nbformat": 4,
 "nbformat_minor": 5
}
