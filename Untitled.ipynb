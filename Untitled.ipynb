{
 "cells": [
  {
   "cell_type": "markdown",
   "id": "moral-voice",
   "metadata": {},
   "source": [
    "## Scikit-learn"
   ]
  },
  {
   "cell_type": "markdown",
   "id": "velvet-directory",
   "metadata": {},
   "source": [
    "### Installation"
   ]
  },
  {
   "cell_type": "code",
   "execution_count": 1,
   "id": "economic-defensive",
   "metadata": {},
   "outputs": [
    {
     "name": "stdout",
     "output_type": "stream",
     "text": [
      "Requirement already satisfied: scikit-learn in c:\\users\\crisp\\documents\\anaconda3\\lib\\site-packages (0.24.1)\n",
      "Requirement already satisfied: scipy>=0.19.1 in c:\\users\\crisp\\documents\\anaconda3\\lib\\site-packages (from scikit-learn) (1.6.1)\n",
      "Requirement already satisfied: threadpoolctl>=2.0.0 in c:\\users\\crisp\\documents\\anaconda3\\lib\\site-packages (from scikit-learn) (2.1.0)\n",
      "Requirement already satisfied: numpy>=1.13.3 in c:\\users\\crisp\\documents\\anaconda3\\lib\\site-packages (from scikit-learn) (1.17.3)\n",
      "Requirement already satisfied: joblib>=0.11 in c:\\users\\crisp\\documents\\anaconda3\\lib\\site-packages (from scikit-learn) (1.0.1)\n"
     ]
    }
   ],
   "source": [
    "!pip install -U scikit-learn"
   ]
  },
  {
   "cell_type": "code",
   "execution_count": null,
   "id": "outstanding-routine",
   "metadata": {},
   "outputs": [],
   "source": [
    "### Imports"
   ]
  },
  {
   "cell_type": "code",
   "execution_count": 101,
   "id": "hybrid-binding",
   "metadata": {},
   "outputs": [],
   "source": [
    "import numpy as np\n",
    "import matplotlib.pyplot as plt\n",
    "import sklearn as sk"
   ]
  },
  {
   "cell_type": "code",
   "execution_count": 102,
   "id": "organic-ceramic",
   "metadata": {},
   "outputs": [
    {
     "name": "stdout",
     "output_type": "stream",
     "text": [
      "Numpy 1.17.3\n",
      "Scikit-learn 0.24.1\n"
     ]
    }
   ],
   "source": [
    "print(\"Numpy\", np.__version__)\n",
    "print(\"Scikit-learn\", sk.__version__)"
   ]
  },
  {
   "cell_type": "markdown",
   "id": "meaningful-glass",
   "metadata": {},
   "source": [
    "### Datasets\n",
    "*As we have said, machine learning methods rely on previous experience, usually\n",
    "represented by a dataset.\n",
    "* Scikit-learn includes a few well-known datasets."
   ]
  },
  {
   "cell_type": "code",
   "execution_count": 103,
   "id": "accessory-company",
   "metadata": {},
   "outputs": [],
   "source": [
    "from sklearn import datasets"
   ]
  },
  {
   "cell_type": "code",
   "execution_count": 104,
   "id": "apart-spank",
   "metadata": {},
   "outputs": [
    {
     "data": {
      "text/plain": [
       "array([[5.1, 3.5, 1.4, 0.2],\n",
       "       [4.9, 3. , 1.4, 0.2]])"
      ]
     },
     "execution_count": 104,
     "metadata": {},
     "output_type": "execute_result"
    }
   ],
   "source": [
    "iris = datasets.load_iris()\n",
    "iris.data[:2]"
   ]
  },
  {
   "cell_type": "code",
   "execution_count": 105,
   "id": "explicit-choir",
   "metadata": {},
   "outputs": [
    {
     "name": "stdout",
     "output_type": "stream",
     "text": [
      "(150, 4)\n"
     ]
    }
   ],
   "source": [
    "print(iris.data.shape)"
   ]
  },
  {
   "cell_type": "code",
   "execution_count": 106,
   "id": "equipped-victim",
   "metadata": {},
   "outputs": [
    {
     "name": "stdout",
     "output_type": "stream",
     "text": [
      "[0 0 0 0]\n"
     ]
    }
   ],
   "source": [
    "print(iris.target[:4])"
   ]
  },
  {
   "cell_type": "code",
   "execution_count": 107,
   "id": "frequent-muslim",
   "metadata": {},
   "outputs": [],
   "source": [
    "X_iris, y_iris = iris.data, iris.target"
   ]
  },
  {
   "cell_type": "markdown",
   "id": "lyric-spring",
   "metadata": {},
   "source": [
    "**data**\n",
    " * array, where, for each instance, we have the real values for:\n",
    "        * sepal length\n",
    "        * sepal width\n",
    "        * petal length\n",
    "        * petal width **respectively**\n",
    "   \n",
    "   \n",
    "The shape of this array is `*(150, 4)*`, meaning that we have 150 rows (one for each instance) and four columns (one for each feature).\n",
    "* A target array, with values in the range of 0 to 2, corresponding to each instance of Iris species `(0: setosa, 1: versicolor, and 2: virginica)`, as you can verify by printing the `iris.target_names`"
   ]
  },
  {
   "cell_type": "code",
   "execution_count": 108,
   "id": "requested-cigarette",
   "metadata": {},
   "outputs": [
    {
     "data": {
      "text/plain": [
       "array(['setosa', 'versicolor', 'virginica'], dtype='<U10')"
      ]
     },
     "execution_count": 108,
     "metadata": {},
     "output_type": "execute_result"
    }
   ],
   "source": [
    "iris.target_names"
   ]
  },
  {
   "cell_type": "markdown",
   "id": "phantom-encoding",
   "metadata": {},
   "source": [
    "### Linear Classification\n",
    "* To get a grip on the problem of machine learning in scikit-learn, we will start with a\n",
    "very simple machine learning problem: we will try to predict the Iris flower species\n",
    "using only two attributes: sepal width and sepal length. This is an instance of a\n",
    "classification problem, where we want to assign a label (a value taken from a discrete\n",
    "set) to an item according to its features."
   ]
  },
  {
   "cell_type": "code",
   "execution_count": 109,
   "id": "registered-printer",
   "metadata": {},
   "outputs": [],
   "source": [
    "from sklearn.model_selection import train_test_split\n",
    "from sklearn import preprocessing"
   ]
  },
  {
   "cell_type": "code",
   "execution_count": 111,
   "id": "august-introduction",
   "metadata": {},
   "outputs": [
    {
     "data": {
      "text/plain": [
       "array([[5.1, 3.5],\n",
       "       [4.9, 3. ],\n",
       "       [4.7, 3.2],\n",
       "       [4.6, 3.1],\n",
       "       [5. , 3.6]])"
      ]
     },
     "execution_count": 111,
     "metadata": {},
     "output_type": "execute_result"
    }
   ],
   "source": [
    "X_iris[:, :2][:5] # takes the sepal length and width"
   ]
  },
  {
   "cell_type": "code",
   "execution_count": 112,
   "id": "effective-bargain",
   "metadata": {},
   "outputs": [],
   "source": [
    "X, y = X_iris[:,:2], y_iris"
   ]
  },
  {
   "cell_type": "code",
   "execution_count": 113,
   "id": "raised-plain",
   "metadata": {},
   "outputs": [
    {
     "data": {
      "text/plain": [
       "array([[5.1, 3.5],\n",
       "       [4.9, 3. ]])"
      ]
     },
     "execution_count": 113,
     "metadata": {},
     "output_type": "execute_result"
    }
   ],
   "source": [
    "X[:2]"
   ]
  },
  {
   "cell_type": "code",
   "execution_count": 114,
   "id": "polished-allocation",
   "metadata": {},
   "outputs": [
    {
     "data": {
      "text/plain": [
       "array([0, 0, 0])"
      ]
     },
     "execution_count": 114,
     "metadata": {},
     "output_type": "execute_result"
    }
   ],
   "source": [
    "y[:3]"
   ]
  },
  {
   "cell_type": "code",
   "execution_count": 115,
   "id": "cordless-paragraph",
   "metadata": {},
   "outputs": [],
   "source": [
    "X_train, X_test, y_train, y_test = train_test_split(X, y, test_size=0.25, random_state=33)"
   ]
  },
  {
   "cell_type": "code",
   "execution_count": 116,
   "id": "southwest-horizontal",
   "metadata": {},
   "outputs": [
    {
     "data": {
      "text/plain": [
       "array([[5. , 2.3],\n",
       "       [4.9, 3.1]])"
      ]
     },
     "execution_count": 116,
     "metadata": {},
     "output_type": "execute_result"
    }
   ],
   "source": [
    "X_train[:2]"
   ]
  },
  {
   "cell_type": "code",
   "execution_count": 117,
   "id": "charming-violation",
   "metadata": {},
   "outputs": [
    {
     "name": "stdout",
     "output_type": "stream",
     "text": [
      "(112,)\n"
     ]
    }
   ],
   "source": [
    "print(y_train.shape)"
   ]
  },
  {
   "cell_type": "markdown",
   "id": "international-ghana",
   "metadata": {},
   "source": [
    "* The idea behind **StandardScaler** is that it will transform your data such that its distribution will have a mean value 0 and standard deviation of 1. In case of multivariate data, this is done feature-wise (in other words independently for each column of the data)\n",
    "> Standadised Normal Distribution has (mean =0, std =1) - Dr Ruffin"
   ]
  },
  {
   "cell_type": "code",
   "execution_count": 118,
   "id": "transparent-newport",
   "metadata": {},
   "outputs": [
    {
     "data": {
      "text/plain": [
       "StandardScaler()"
      ]
     },
     "execution_count": 118,
     "metadata": {},
     "output_type": "execute_result"
    }
   ],
   "source": [
    "scaler = preprocessing.StandardScaler().fit(X_train)\n",
    "scaler"
   ]
  },
  {
   "cell_type": "code",
   "execution_count": 119,
   "id": "steady-prevention",
   "metadata": {},
   "outputs": [],
   "source": [
    "X_train = scaler.transform(X_train)\n",
    "X_test = scaler.transform(X_test)"
   ]
  },
  {
   "cell_type": "code",
   "execution_count": 120,
   "id": "controlled-profession",
   "metadata": {},
   "outputs": [
    {
     "data": {
      "text/plain": [
       "array([[-0.91090798, -1.59775374],\n",
       "       [-1.0271058 ,  0.08448757]])"
      ]
     },
     "execution_count": 120,
     "metadata": {},
     "output_type": "execute_result"
    }
   ],
   "source": [
    "X_train[:2]"
   ]
  },
  {
   "cell_type": "markdown",
   "id": "attractive-swaziland",
   "metadata": {},
   "source": [
    "### What is going on\n",
    "1. The train_test_split function automatically builds the training and evaluation\n",
    "datasets, randomly selecting the samples. \n",
    "2. The last three lines of the previous code modify the training set in a process usually\n",
    "called feature scaling. For each feature, calculate the average, subtract the mean\n",
    "value from the feature value, and divide the result by their standard deviation. After\n",
    "scaling, each feature will have a zero average, with a standard deviation of one."
   ]
  },
  {
   "cell_type": "code",
   "execution_count": 121,
   "id": "heard-trinidad",
   "metadata": {},
   "outputs": [],
   "source": [
    "import seaborn as sns\n"
   ]
  },
  {
   "cell_type": "code",
   "execution_count": 122,
   "id": "aggressive-cowboy",
   "metadata": {},
   "outputs": [],
   "source": [
    "colors = [\"red\", \"green\", \"blue\"]"
   ]
  },
  {
   "cell_type": "code",
   "execution_count": 124,
   "id": "through-assessment",
   "metadata": {},
   "outputs": [
    {
     "data": {
      "image/png": "[encoded data removed]",
      "text/plain": [
       "<Figure size 432x288 with 1 Axes>"
      ]
     },
     "metadata": {
      "needs_background": "light"
     },
     "output_type": "display_data"
    }
   ],
   "source": [
    "for i in range(len(colors)):\n",
    "    xs = X_train[:,0][y_train== i]\n",
    "    ys = X_train[:, 1][y_train == i]\n",
    "    sns.lineplot(x=xs, y=ys)\n",
    "plt.legend(iris.target_names)\n",
    "plt.xlabel('Sepal length')\n",
    "plt.title(\"Line Plot\")\n",
    "plt.ylabel('Sepal width')\n",
    "plt.show()"
   ]
  },
  {
   "cell_type": "code",
   "execution_count": 125,
   "id": "commercial-reward",
   "metadata": {},
   "outputs": [
    {
     "data": {
      "image/png": "[encoded data removed]",
      "text/plain": [
       "<Figure size 432x288 with 1 Axes>"
      ]
     },
     "metadata": {
      "needs_background": "light"
     },
     "output_type": "display_data"
    }
   ],
   "source": [
    "for i in range(len(colors)):\n",
    "    xs = X_train[:,0][y_train== i]\n",
    "    ys = X_train[:, 1][y_train == i]\n",
    "    sns.scatterplot(x=xs, y=ys)\n",
    "plt.legend(iris.target_names)\n",
    "plt.xlabel('Sepal length')\n",
    "plt.title(\"Scatter\")\n",
    "plt.ylabel('Sepal width')\n",
    "plt.show()"
   ]
  },
  {
   "cell_type": "markdown",
   "id": "authorized-ethnic",
   "metadata": {},
   "source": [
    "* To implement linear classification, we will use the SGDClassifier from scikit-learn. **SGD** stands for **Stochastic Gradient Descent**, a very popular numerical procedure\n",
    "to find the local minimum of a function (in this case, the loss function, which\n",
    "measures how far every instance is from our boundary). The algorithm will learn the\n",
    "coefficients of the hyperplane by minimizing the loss function."
   ]
  },
  {
   "cell_type": "code",
   "execution_count": 126,
   "id": "maritime-pickup",
   "metadata": {},
   "outputs": [],
   "source": [
    "from sklearn.linear_model import SGDClassifier"
   ]
  },
  {
   "cell_type": "code",
   "execution_count": 127,
   "id": "photographic-liabilities",
   "metadata": {},
   "outputs": [
    {
     "data": {
      "text/plain": [
       "SGDClassifier()"
      ]
     },
     "execution_count": 127,
     "metadata": {},
     "output_type": "execute_result"
    }
   ],
   "source": [
    "clf = SGDClassifier()\n",
    "clf.fit(X_train, y_train)"
   ]
  },
  {
   "cell_type": "code",
   "execution_count": 128,
   "id": "civil-valuation",
   "metadata": {},
   "outputs": [
    {
     "data": {
      "text/plain": [
       "array([[-3.00828646e+01,  8.96104173e+00],\n",
       "       [-2.33903032e+00, -5.64384245e+00],\n",
       "       [ 4.21515701e+00, -6.11554338e-14]])"
      ]
     },
     "execution_count": 128,
     "metadata": {},
     "output_type": "execute_result"
    }
   ],
   "source": [
    "clf.coef_"
   ]
  },
  {
   "cell_type": "code",
   "execution_count": 129,
   "id": "worldwide-jewel",
   "metadata": {},
   "outputs": [
    {
     "data": {
      "text/plain": [
       "array([-10.8985282 ,  -3.45378846,  -5.11896431])"
      ]
     },
     "execution_count": 129,
     "metadata": {},
     "output_type": "execute_result"
    }
   ],
   "source": [
    "clf.intercept_"
   ]
  },
  {
   "cell_type": "markdown",
   "id": "saving-looking",
   "metadata": {},
   "source": [
    "### Making predictions\n",
    "* Now, the end of the story: suppose that we have a new flower with a sepal width of 4.7 and a sepal length of 3.1, and we want to predict its class."
   ]
  },
  {
   "cell_type": "code",
   "execution_count": 130,
   "id": "critical-boutique",
   "metadata": {},
   "outputs": [
    {
     "data": {
      "text/plain": [
       "array([[-1.25950146,  0.08448757]])"
      ]
     },
     "execution_count": 130,
     "metadata": {},
     "output_type": "execute_result"
    }
   ],
   "source": [
    "scaled_data = scaler.transform([[4.7, 3.1]])\n",
    "scaled_data"
   ]
  },
  {
   "cell_type": "code",
   "execution_count": 131,
   "id": "black-offset",
   "metadata": {},
   "outputs": [
    {
     "data": {
      "text/plain": [
       "array([0])"
      ]
     },
     "execution_count": 131,
     "metadata": {},
     "output_type": "execute_result"
    }
   ],
   "source": [
    "clf.predict(scaled_data)"
   ]
  },
  {
   "cell_type": "code",
   "execution_count": 132,
   "id": "spectacular-creek",
   "metadata": {},
   "outputs": [
    {
     "data": {
      "text/plain": [
       "array(['setosa', 'versicolor', 'virginica'], dtype='<U10')"
      ]
     },
     "execution_count": 132,
     "metadata": {},
     "output_type": "execute_result"
    }
   ],
   "source": [
    "iris.target_names"
   ]
  },
  {
   "cell_type": "code",
   "execution_count": 133,
   "id": "agricultural-memorial",
   "metadata": {},
   "outputs": [
    {
     "data": {
      "text/plain": [
       "'setosa'"
      ]
     },
     "execution_count": 133,
     "metadata": {},
     "output_type": "execute_result"
    }
   ],
   "source": [
    "iris.target_names[clf.predict(scaled_data)][0]"
   ]
  },
  {
   "cell_type": "code",
   "execution_count": 134,
   "id": "acute-mount",
   "metadata": {},
   "outputs": [
    {
     "name": "stdout",
     "output_type": "stream",
     "text": [
      "[5.1 3.5 1.4 0.2] setosa 0\n"
     ]
    }
   ],
   "source": [
    "# Predict on the existing data\n",
    "print(iris.data[0], iris.target_names[0], iris.target[0])"
   ]
  },
  {
   "cell_type": "code",
   "execution_count": 135,
   "id": "classical-tanzania",
   "metadata": {},
   "outputs": [
    {
     "data": {
      "text/plain": [
       "array([0])"
      ]
     },
     "execution_count": 135,
     "metadata": {},
     "output_type": "execute_result"
    }
   ],
   "source": [
    "scaled_data = scaler.transform([[5.1 ,3.5]])\n",
    "clf.predict(scaled_data)"
   ]
  },
  {
   "cell_type": "code",
   "execution_count": 137,
   "id": "ordered-semester",
   "metadata": {},
   "outputs": [
    {
     "data": {
      "text/plain": [
       "array([[ 27.74798027,  -0.98461087, -10.42796073]])"
      ]
     },
     "execution_count": 137,
     "metadata": {},
     "output_type": "execute_result"
    }
   ],
   "source": [
    "clf.decision_function(scaler.transform([[4.7, 3.1]]))"
   ]
  },
  {
   "cell_type": "markdown",
   "id": "equal-bottle",
   "metadata": {},
   "source": [
    "###  Evaluating our results\n",
    "* We want to be a little more formal when we talk about a good classifier. What does\n",
    "that mean? The performance of a classifier is a measure of its effectiveness. The\n",
    "simplest performance measure is accuracy: given a classifier and an evaluation\n",
    "dataset, it measures the proportion of instances correctly classified by the classifier.\n",
    "First, let's test the accuracy on the training set:"
   ]
  },
  {
   "cell_type": "code",
   "execution_count": 142,
   "id": "sunrise-battlefield",
   "metadata": {},
   "outputs": [
    {
     "data": {
      "text/plain": [
       "0.7946428571428571"
      ]
     },
     "execution_count": 142,
     "metadata": {},
     "output_type": "execute_result"
    }
   ],
   "source": [
    "from sklearn.metrics import accuracy_score\n",
    "y_train_pred = clf.predict(X_train)\n",
    "\n",
    "acc = accuracy_score(y_train, y_train_pred)\n",
    "acc"
   ]
  },
  {
   "cell_type": "code",
   "execution_count": 147,
   "id": "distinguished-romance",
   "metadata": {},
   "outputs": [
    {
     "data": {
      "text/plain": [
       "0.6578947368421053"
      ]
     },
     "execution_count": 147,
     "metadata": {},
     "output_type": "execute_result"
    }
   ],
   "source": [
    "y_predict = clf.predict(X_test)\n",
    "acc = accuracy_score(y_test, y_predict)\n",
    "acc"
   ]
  },
  {
   "cell_type": "code",
   "execution_count": null,
   "id": "narrative-conditioning",
   "metadata": {},
   "outputs": [],
   "source": []
  },
  {
   "cell_type": "code",
   "execution_count": null,
   "id": "bright-aaron",
   "metadata": {},
   "outputs": [],
   "source": []
  },
  {
   "cell_type": "code",
   "execution_count": null,
   "id": "scientific-recommendation",
   "metadata": {},
   "outputs": [],
   "source": []
  }
 ],
 "metadata": {
  "kernelspec": {
   "display_name": "Python 3",
   "language": "python",
   "name": "python3"
  },
  "language_info": {
   "codemirror_mode": {
    "name": "ipython",
    "version": 3
   },
   "file_extension": ".py",
   "mimetype": "text/x-python",
   "name": "python",
   "nbconvert_exporter": "python",
   "pygments_lexer": "ipython3",
   "version": "3.8.5"
  }
 },
 "nbformat": 4,
 "nbformat_minor": 5
}
