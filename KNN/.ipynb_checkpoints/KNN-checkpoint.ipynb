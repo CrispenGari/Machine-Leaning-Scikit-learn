{
 "cells": [
  {
   "cell_type": "markdown",
   "id": "obvious-resource",
   "metadata": {},
   "source": [
    "## K-Nearest Neighbors (KNN)\n",
    "> In KNN, K is the number of nearest neighbors. The number of neighbors is the core deciding factor. K is generally an odd number if the number of classes is 2. When K=1, then the algorithm is known as the nearest neighbor algorithm."
   ]
  },
  {
   "cell_type": "markdown",
   "id": "numerous-university",
   "metadata": {},
   "source": [
    "### KNN Classifier\n",
    "* We are going to create a simple `KNN` classifier with our defined data wich has two features `weather` and `temperature`"
   ]
  },
  {
   "cell_type": "code",
   "execution_count": 127,
   "id": "latest-creek",
   "metadata": {},
   "outputs": [],
   "source": [
    "from sklearn.preprocessing import LabelEncoder\n",
    "from sklearn.neighbors import KNeighborsClassifier"
   ]
  },
  {
   "cell_type": "code",
   "execution_count": 128,
   "id": "declared-refund",
   "metadata": {},
   "outputs": [],
   "source": [
    "weather=['Sunny','Sunny','Overcast','Rainy','Rainy','Rainy','Overcast','Sunny','Sunny',\n",
    "'Rainy','Sunny','Overcast','Overcast','Rainy']\n",
    "temp=['Hot','Hot','Hot','Mild','Cool','Cool','Cool','Mild','Cool','Mild','Mild','Mild','Hot','Mild']\n",
    "play=['No','No','Yes','Yes','Yes','No','Yes','No','Yes','Yes','Yes','Yes','Yes','No']"
   ]
  },
  {
   "cell_type": "markdown",
   "id": "dangerous-romance",
   "metadata": {},
   "source": [
    "> In this dataset, you have two features (`weather` and `temperature`) and one label(`play`)."
   ]
  },
  {
   "cell_type": "markdown",
   "id": "affected-demand",
   "metadata": {},
   "source": [
    "### Encoding data columns\n",
    "> Various machine learning algorithms require numerical input data, so you need to represent categorical columns in a numerical column."
   ]
  },
  {
   "cell_type": "code",
   "execution_count": 129,
   "id": "simple-return",
   "metadata": {},
   "outputs": [],
   "source": [
    "encoder = LabelEncoder()"
   ]
  },
  {
   "cell_type": "code",
   "execution_count": 130,
   "id": "associate-gardening",
   "metadata": {},
   "outputs": [],
   "source": [
    "weather_encorded = encoder.fit_transform(weather)"
   ]
  },
  {
   "cell_type": "code",
   "execution_count": 131,
   "id": "fundamental-ontario",
   "metadata": {},
   "outputs": [
    {
     "data": {
      "text/plain": [
       "array([2, 2, 0, 1, 1, 1, 0, 2, 2, 1, 2, 0, 0, 1], dtype=int64)"
      ]
     },
     "execution_count": 131,
     "metadata": {},
     "output_type": "execute_result"
    }
   ],
   "source": [
    "weather_encorded"
   ]
  },
  {
   "cell_type": "markdown",
   "id": "published-brake",
   "metadata": {},
   "source": [
    "#### ? How does the encoder works?\n",
    "> Well it sorts array of strings in alphabetical order, then it create a set from a list then give each element of a list the integer that corresponds to it's index."
   ]
  },
  {
   "cell_type": "code",
   "execution_count": 132,
   "id": "virgin-elimination",
   "metadata": {},
   "outputs": [
    {
     "data": {
      "text/plain": [
       "array([1, 1, 1, 2, 0, 0, 0, 2, 0, 2, 2, 2, 1, 2], dtype=int64)"
      ]
     },
     "execution_count": 132,
     "metadata": {},
     "output_type": "execute_result"
    }
   ],
   "source": [
    "temp_encoded = encoder.fit_transform(temp)\n",
    "temp_encoded"
   ]
  },
  {
   "cell_type": "markdown",
   "id": "systematic-insert",
   "metadata": {},
   "source": [
    "> Now we can combine the two featues "
   ]
  },
  {
   "cell_type": "code",
   "execution_count": 133,
   "id": "efficient-sword",
   "metadata": {},
   "outputs": [
    {
     "data": {
      "text/plain": [
       "[(1, 2), (1, 2)]"
      ]
     },
     "execution_count": 133,
     "metadata": {},
     "output_type": "execute_result"
    }
   ],
   "source": [
    "features = list(zip(temp_encoded,weather_encorded ))\n",
    "features[:2]"
   ]
  },
  {
   "cell_type": "code",
   "execution_count": 134,
   "id": "polished-residence",
   "metadata": {},
   "outputs": [
    {
     "data": {
      "text/plain": [
       "array([0, 0, 1, 1, 1, 0, 1, 0, 1, 1, 1, 1, 1, 0], dtype=int64)"
      ]
     },
     "execution_count": 134,
     "metadata": {},
     "output_type": "execute_result"
    }
   ],
   "source": [
    "labels = encoder.fit_transform(play)\n",
    "labels"
   ]
  },
  {
   "cell_type": "markdown",
   "id": "reserved-median",
   "metadata": {},
   "source": [
    "### Creating a KNN classifier model"
   ]
  },
  {
   "cell_type": "code",
   "execution_count": 135,
   "id": "crazy-bedroom",
   "metadata": {},
   "outputs": [],
   "source": [
    "from sklearn.neighbors import KNeighborsClassifier"
   ]
  },
  {
   "cell_type": "code",
   "execution_count": 136,
   "id": "boolean-sheriff",
   "metadata": {},
   "outputs": [],
   "source": [
    "model =  KNeighborsClassifier(n_neighbors=3)"
   ]
  },
  {
   "cell_type": "code",
   "execution_count": 137,
   "id": "alpine-jewelry",
   "metadata": {},
   "outputs": [
    {
     "data": {
      "text/plain": [
       "KNeighborsClassifier(n_neighbors=3)"
      ]
     },
     "execution_count": 137,
     "metadata": {},
     "output_type": "execute_result"
    }
   ],
   "source": [
    "model.fit(features, labels)"
   ]
  },
  {
   "cell_type": "code",
   "execution_count": 138,
   "id": "going-bryan",
   "metadata": {},
   "outputs": [
    {
     "data": {
      "text/plain": [
       "0.7142857142857143"
      ]
     },
     "execution_count": 138,
     "metadata": {},
     "output_type": "execute_result"
    }
   ],
   "source": [
    "model.score(features, labels)"
   ]
  },
  {
   "cell_type": "code",
   "execution_count": 139,
   "id": "irish-exercise",
   "metadata": {},
   "outputs": [
    {
     "data": {
      "text/plain": [
       "array([0], dtype=int64)"
      ]
     },
     "execution_count": 139,
     "metadata": {},
     "output_type": "execute_result"
    }
   ],
   "source": [
    "predicted= model.predict([[0,2]])\n",
    "predicted"
   ]
  },
  {
   "cell_type": "markdown",
   "id": "metric-healing",
   "metadata": {},
   "source": [
    "### The wine dataset-sklearn"
   ]
  },
  {
   "cell_type": "code",
   "execution_count": 140,
   "id": "hazardous-national",
   "metadata": {},
   "outputs": [],
   "source": [
    "from sklearn import datasets\n",
    "wine = datasets.load_wine()"
   ]
  },
  {
   "cell_type": "code",
   "execution_count": null,
   "id": "floppy-simulation",
   "metadata": {},
   "outputs": [],
   "source": []
  },
  {
   "cell_type": "code",
   "execution_count": 141,
   "id": "southern-pickup",
   "metadata": {},
   "outputs": [],
   "source": [
    "X = wine.data\n",
    "y = wine.target\n",
    "labels= wine.target_names"
   ]
  },
  {
   "cell_type": "code",
   "execution_count": 142,
   "id": "respiratory-classroom",
   "metadata": {},
   "outputs": [
    {
     "data": {
      "text/plain": [
       "((178, 13), (178,))"
      ]
     },
     "execution_count": 142,
     "metadata": {},
     "output_type": "execute_result"
    }
   ],
   "source": [
    "X.shape, y.shape"
   ]
  },
  {
   "cell_type": "code",
   "execution_count": null,
   "id": "buried-announcement",
   "metadata": {},
   "outputs": [],
   "source": []
  },
  {
   "cell_type": "markdown",
   "id": "settled-transsexual",
   "metadata": {},
   "source": [
    "> We have 3 targets which are `0`, `1`, `2`. let's if the targets are evenly distributed."
   ]
  },
  {
   "cell_type": "code",
   "execution_count": 143,
   "id": "outdoor-kitchen",
   "metadata": {},
   "outputs": [
    {
     "data": {
      "text/plain": [
       "(59, 71, 48)"
      ]
     },
     "execution_count": 143,
     "metadata": {},
     "output_type": "execute_result"
    }
   ],
   "source": [
    "list(y).count(0), list(y).count(1), list(y).count(2)"
   ]
  },
  {
   "cell_type": "code",
   "execution_count": null,
   "id": "affecting-palace",
   "metadata": {},
   "outputs": [],
   "source": []
  },
  {
   "cell_type": "code",
   "execution_count": 144,
   "id": "sticky-duration",
   "metadata": {},
   "outputs": [
    {
     "name": "stderr",
     "output_type": "stream",
     "text": [
      "C:\\Users\\crisp\\Documents\\anaconda3\\lib\\site-packages\\seaborn\\_decorators.py:36: FutureWarning: Pass the following variable as a keyword arg: x. From version 0.12, the only valid positional argument will be `data`, and passing other arguments without an explicit keyword will result in an error or misinterpretation.\n",
      "  warnings.warn(\n"
     ]
    },
    {
     "data": {
      "text/plain": [
       "<AxesSubplot:ylabel='count'>"
      ]
     },
     "execution_count": 144,
     "metadata": {},
     "output_type": "execute_result"
    },
    {
     "data": {
      "image/png": "[encoded data removed]",
      "text/plain": [
       "<Figure size 432x288 with 1 Axes>"
      ]
     },
     "metadata": {
      "needs_background": "light"
     },
     "output_type": "display_data"
    }
   ],
   "source": [
    "import seaborn as sns\n",
    "sns.countplot(y)\n"
   ]
  },
  {
   "cell_type": "markdown",
   "id": "weekly-conservative",
   "metadata": {},
   "source": [
    "> class `3` has less sample so we want to balance the samples"
   ]
  },
  {
   "cell_type": "markdown",
   "id": "august-dublin",
   "metadata": {},
   "source": [
    "> The first `59` belongs to `class 0` the second `71` belongs to `class 1` and then finally the last `48` belongs to  `class 2`. "
   ]
  },
  {
   "cell_type": "code",
   "execution_count": 145,
   "id": "respective-knowing",
   "metadata": {},
   "outputs": [
    {
     "data": {
      "text/plain": [
       "(13,)"
      ]
     },
     "execution_count": 145,
     "metadata": {},
     "output_type": "execute_result"
    }
   ],
   "source": [
    "X[0].shape"
   ]
  },
  {
   "cell_type": "code",
   "execution_count": 146,
   "id": "superior-tokyo",
   "metadata": {},
   "outputs": [
    {
     "data": {
      "text/plain": [
       "(59, 71, 48, 59, 71, 48)"
      ]
     },
     "execution_count": 146,
     "metadata": {},
     "output_type": "execute_result"
    }
   ],
   "source": [
    "X_class_0 = []\n",
    "X_class_1 = []\n",
    "X_class_2 = []\n",
    "y_class_0 = []\n",
    "y_class_1 = []\n",
    "y_class_2 = []\n",
    "\n",
    "for i in range(len(y)):\n",
    "    if y[i] == 0:\n",
    "        X_class_0.append(X[i])\n",
    "        y_class_0.append(y[i])\n",
    "    elif y[i] == 1:\n",
    "        X_class_1.append(X[i])\n",
    "        y_class_1.append(y[i])\n",
    "    else:\n",
    "        X_class_2.append(X[i])\n",
    "        y_class_2.append(y[i])\n",
    "\n",
    "len(X_class_0), len(X_class_1), len(X_class_2), len(y_class_0), len(y_class_1), len(y_class_2)"
   ]
  },
  {
   "cell_type": "code",
   "execution_count": 147,
   "id": "stuck-brunei",
   "metadata": {},
   "outputs": [
    {
     "data": {
      "text/plain": [
       "(48, 48, 48, 48, 48, 48)"
      ]
     },
     "execution_count": 147,
     "metadata": {},
     "output_type": "execute_result"
    }
   ],
   "source": [
    "X_class_0_trimmed = X_class_0[:48]\n",
    "X_class_1_trimmed = X_class_1[:48]\n",
    "X_class_2_trimmed = X_class_2[:48]\n",
    "y_class_0_trimmed = y_class_0[:48]\n",
    "y_class_1_trimmed = y_class_1[:48]\n",
    "y_class_2_trimmed = y_class_2[:48]\n",
    "len(X_class_0_trimmed), len(X_class_1_trimmed), len(X_class_2_trimmed), len(y_class_0_trimmed), len(y_class_1_trimmed), len(y_class_2_trimmed)"
   ]
  },
  {
   "cell_type": "code",
   "execution_count": 80,
   "id": "preliminary-quantity",
   "metadata": {},
   "outputs": [
    {
     "data": {
      "text/plain": [
       "(13,)"
      ]
     },
     "execution_count": 80,
     "metadata": {},
     "output_type": "execute_result"
    }
   ],
   "source": [
    "np.array(X_class_2_trimmed[0]).shape"
   ]
  },
  {
   "cell_type": "markdown",
   "id": "civilian-bobby",
   "metadata": {},
   "source": [
    "> Now we can merge the values"
   ]
  },
  {
   "cell_type": "code",
   "execution_count": 148,
   "id": "blind-portland",
   "metadata": {},
   "outputs": [
    {
     "data": {
      "text/plain": [
       "((144, 13), (144,), array([0, 0, 0]), array([2, 2, 2]))"
      ]
     },
     "execution_count": 148,
     "metadata": {},
     "output_type": "execute_result"
    }
   ],
   "source": [
    "X_data = np.array(X_class_0_trimmed + X_class_1_trimmed + X_class_2_trimmed)\n",
    "y_data = np.array(y_class_0_trimmed + y_class_1_trimmed + y_class_2_trimmed)\n",
    "X_data.shape, y_data.shape , y_data[:3],  y_data[-3:]"
   ]
  },
  {
   "cell_type": "code",
   "execution_count": null,
   "id": "flexible-cosmetic",
   "metadata": {},
   "outputs": [],
   "source": []
  },
  {
   "cell_type": "code",
   "execution_count": 149,
   "id": "checked-gateway",
   "metadata": {},
   "outputs": [
    {
     "data": {
      "text/plain": [
       "[1, 1]"
      ]
     },
     "execution_count": 149,
     "metadata": {},
     "output_type": "execute_result"
    }
   ],
   "source": [
    "y_class_1_trimmed[:2]"
   ]
  },
  {
   "cell_type": "code",
   "execution_count": 150,
   "id": "familiar-provincial",
   "metadata": {},
   "outputs": [],
   "source": [
    "from sklearn.model_selection import train_test_split\n",
    "from sklearn.preprocessing import StandardScaler\n",
    "from sklearn.pipeline import Pipeline\n",
    "import numpy as np\n",
    "from sklearn.svm import SVC\n",
    "from sklearn.tree import DecisionTreeClassifier"
   ]
  },
  {
   "cell_type": "code",
   "execution_count": 151,
   "id": "outstanding-oasis",
   "metadata": {},
   "outputs": [],
   "source": [
    "X_train, X_test, y_train, y_test = train_test_split(X_data, y_data, random_state=99, test_size=.2)"
   ]
  },
  {
   "cell_type": "code",
   "execution_count": 152,
   "id": "vietnamese-south",
   "metadata": {},
   "outputs": [
    {
     "data": {
      "text/plain": [
       "(115, 29, 29)"
      ]
     },
     "execution_count": 152,
     "metadata": {},
     "output_type": "execute_result"
    }
   ],
   "source": [
    "X_train.shape[0],  len( X_test), len( y_test)"
   ]
  },
  {
   "cell_type": "code",
   "execution_count": null,
   "id": "collected-operator",
   "metadata": {},
   "outputs": [],
   "source": []
  },
  {
   "cell_type": "code",
   "execution_count": 172,
   "id": "active-cabin",
   "metadata": {},
   "outputs": [
    {
     "data": {
      "text/plain": [
       "Pipeline(steps=[('scale', StandardScaler()),\n",
       "                ('clf', KNeighborsClassifier(n_neighbors=1))])"
      ]
     },
     "execution_count": 172,
     "metadata": {},
     "output_type": "execute_result"
    }
   ],
   "source": [
    "pipe = Pipeline([\n",
    "    ('scale', StandardScaler())\n",
    "    ,('clf', KNeighborsClassifier(n_neighbors=1))\n",
    "])\n",
    "pipe"
   ]
  },
  {
   "cell_type": "code",
   "execution_count": 173,
   "id": "correct-jacksonville",
   "metadata": {},
   "outputs": [
    {
     "data": {
      "text/plain": [
       "Pipeline(steps=[('scale', StandardScaler()),\n",
       "                ('clf', KNeighborsClassifier(n_neighbors=1))])"
      ]
     },
     "execution_count": 173,
     "metadata": {},
     "output_type": "execute_result"
    }
   ],
   "source": [
    "pipe.fit(X_train, y_train)"
   ]
  },
  {
   "cell_type": "code",
   "execution_count": 174,
   "id": "conscious-guard",
   "metadata": {},
   "outputs": [
    {
     "data": {
      "text/plain": [
       "(115, 13)"
      ]
     },
     "execution_count": 174,
     "metadata": {},
     "output_type": "execute_result"
    }
   ],
   "source": [
    "X_train.shape"
   ]
  },
  {
   "cell_type": "code",
   "execution_count": null,
   "id": "related-bunch",
   "metadata": {},
   "outputs": [],
   "source": []
  },
  {
   "cell_type": "code",
   "execution_count": null,
   "id": "assisted-formation",
   "metadata": {},
   "outputs": [],
   "source": []
  },
  {
   "cell_type": "markdown",
   "id": "former-validity",
   "metadata": {},
   "source": [
    "### Scoring the model"
   ]
  },
  {
   "cell_type": "code",
   "execution_count": 175,
   "id": "romance-wages",
   "metadata": {},
   "outputs": [
    {
     "data": {
      "text/plain": [
       "1.0"
      ]
     },
     "execution_count": 175,
     "metadata": {},
     "output_type": "execute_result"
    }
   ],
   "source": [
    "pipe.score(X_train, y_train)"
   ]
  },
  {
   "cell_type": "code",
   "execution_count": 176,
   "id": "regulation-grass",
   "metadata": {},
   "outputs": [
    {
     "data": {
      "text/plain": [
       "0.9310344827586207"
      ]
     },
     "execution_count": 176,
     "metadata": {},
     "output_type": "execute_result"
    }
   ],
   "source": [
    "pipe.score(X_test, y_test)"
   ]
  },
  {
   "cell_type": "markdown",
   "id": "hearing-military",
   "metadata": {},
   "source": [
    "### performance"
   ]
  },
  {
   "cell_type": "code",
   "execution_count": 177,
   "id": "mobile-nature",
   "metadata": {},
   "outputs": [],
   "source": [
    "from sklearn.metrics import f1_score"
   ]
  },
  {
   "cell_type": "code",
   "execution_count": 178,
   "id": "invalid-yeast",
   "metadata": {},
   "outputs": [
    {
     "data": {
      "text/plain": [
       "array([1., 1., 1.])"
      ]
     },
     "execution_count": 178,
     "metadata": {},
     "output_type": "execute_result"
    }
   ],
   "source": [
    "f1_score(y_train, pipe.predict(X_train), labels=[0,1,2], average=None)"
   ]
  },
  {
   "cell_type": "markdown",
   "id": "mounted-fancy",
   "metadata": {},
   "source": [
    "### Making predictions"
   ]
  },
  {
   "cell_type": "code",
   "execution_count": 179,
   "id": "welsh-pepper",
   "metadata": {},
   "outputs": [
    {
     "data": {
      "text/plain": [
       "(array([1, 0, 2, 0, 1]), (13,))"
      ]
     },
     "execution_count": 179,
     "metadata": {},
     "output_type": "execute_result"
    }
   ],
   "source": [
    "y_test[:5], X_test[0].shape"
   ]
  },
  {
   "cell_type": "code",
   "execution_count": 190,
   "id": "grave-drove",
   "metadata": {},
   "outputs": [
    {
     "data": {
      "text/plain": [
       "array([1])"
      ]
     },
     "execution_count": 190,
     "metadata": {},
     "output_type": "execute_result"
    }
   ],
   "source": [
    "pipe.predict([X_test[0]])"
   ]
  },
  {
   "cell_type": "code",
   "execution_count": 192,
   "id": "neither-consent",
   "metadata": {},
   "outputs": [
    {
     "name": "stdout",
     "output_type": "stream",
     "text": [
      "[1] 1\n",
      "[0] 0\n",
      "[2] 2\n",
      "[0] 0\n",
      "[1] 1\n",
      "[2] 2\n",
      "[0] 0\n",
      "[1] 1\n",
      "[1] 1\n",
      "[0] 0\n",
      "[0] 0\n",
      "[0] 0\n",
      "[2] 2\n",
      "[2] 2\n",
      "[2] 1\n",
      "[2] 2\n",
      "[2] 2\n",
      "[0] 0\n",
      "[1] 1\n",
      "[1] 1\n",
      "[2] 2\n",
      "[0] 0\n",
      "[0] 0\n",
      "[1] 1\n",
      "[0] 0\n",
      "[2] 1\n",
      "[1] 1\n",
      "[2] 2\n",
      "[0] 0\n"
     ]
    }
   ],
   "source": [
    "for x, y in zip(X_test, y_test):\n",
    "    print(pipe.predict([x]), y)"
   ]
  },
  {
   "cell_type": "markdown",
   "id": "attached-raising",
   "metadata": {},
   "source": [
    "> Done"
   ]
  }
 ],
 "metadata": {
  "kernelspec": {
   "display_name": "Python 3",
   "language": "python",
   "name": "python3"
  },
  "language_info": {
   "codemirror_mode": {
    "name": "ipython",
    "version": 3
   },
   "file_extension": ".py",
   "mimetype": "text/x-python",
   "name": "python",
   "nbconvert_exporter": "python",
   "pygments_lexer": "ipython3",
   "version": "3.8.5"
  }
 },
 "nbformat": 4,
 "nbformat_minor": 5
}
