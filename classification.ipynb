{
 "cells": [
  {
   "cell_type": "markdown",
   "id": "stunning-december",
   "metadata": {},
   "source": [
    "## Scikit-learn"
   ]
  },
  {
   "cell_type": "markdown",
   "id": "brief-initial",
   "metadata": {},
   "source": [
    "### Installation"
   ]
  },
  {
   "cell_type": "code",
   "execution_count": 1,
   "id": "refined-macintosh",
   "metadata": {},
   "outputs": [
    {
     "name": "stdout",
     "output_type": "stream",
     "text": [
      "Requirement already satisfied: scikit-learn in c:\\users\\crisp\\documents\\anaconda3\\lib\\site-packages (0.24.1)\n",
      "Requirement already satisfied: scipy>=0.19.1 in c:\\users\\crisp\\documents\\anaconda3\\lib\\site-packages (from scikit-learn) (1.6.1)\n",
      "Requirement already satisfied: threadpoolctl>=2.0.0 in c:\\users\\crisp\\documents\\anaconda3\\lib\\site-packages (from scikit-learn) (2.1.0)\n",
      "Requirement already satisfied: numpy>=1.13.3 in c:\\users\\crisp\\documents\\anaconda3\\lib\\site-packages (from scikit-learn) (1.17.3)\n",
      "Requirement already satisfied: joblib>=0.11 in c:\\users\\crisp\\documents\\anaconda3\\lib\\site-packages (from scikit-learn) (1.0.1)\n"
     ]
    }
   ],
   "source": [
    "!pip install -U scikit-learn"
   ]
  },
  {
   "cell_type": "markdown",
   "id": "valued-jurisdiction",
   "metadata": {},
   "source": [
    "### Imports"
   ]
  },
  {
   "cell_type": "code",
   "execution_count": 49,
   "id": "extraordinary-reference",
   "metadata": {},
   "outputs": [],
   "source": [
    "import numpy as np\n",
    "import matplotlib.pyplot as plt\n",
    "import sklearn as sk\n",
    "import pandas as pd"
   ]
  },
  {
   "cell_type": "code",
   "execution_count": 2,
   "id": "seeing-ensemble",
   "metadata": {},
   "outputs": [
    {
     "name": "stdout",
     "output_type": "stream",
     "text": [
      "Numpy 1.17.3\n",
      "Scikit-learn 0.24.1\n"
     ]
    }
   ],
   "source": [
    "print(\"Numpy\", np.__version__)\n",
    "print(\"Scikit-learn\", sk.__version__)"
   ]
  },
  {
   "cell_type": "markdown",
   "id": "presidential-assault",
   "metadata": {},
   "source": [
    "### Datasets\n",
    "*As we have said, machine learning methods rely on previous experience, usually\n",
    "represented by a dataset.\n",
    "* Scikit-learn includes a few well-known datasets."
   ]
  },
  {
   "cell_type": "code",
   "execution_count": 3,
   "id": "instrumental-screw",
   "metadata": {},
   "outputs": [],
   "source": [
    "from sklearn import datasets"
   ]
  },
  {
   "cell_type": "markdown",
   "id": "every-belgium",
   "metadata": {},
   "source": [
    "> Listing all available datasets insklearn datasets"
   ]
  },
  {
   "cell_type": "code",
   "execution_count": 5,
   "id": "adult-suicide",
   "metadata": {},
   "outputs": [
    {
     "data": {
      "text/plain": [
       "['__all__',\n",
       " '__builtins__',\n",
       " '__cached__',\n",
       " '__doc__',\n",
       " '__file__',\n",
       " '__loader__',\n",
       " '__name__',\n",
       " '__package__',\n",
       " '__path__',\n",
       " '__spec__',\n",
       " '_base',\n",
       " '_california_housing',\n",
       " '_covtype',\n",
       " '_kddcup99',\n",
       " '_lfw',\n",
       " '_olivetti_faces',\n",
       " '_openml',\n",
       " '_rcv1',\n",
       " '_samples_generator',\n",
       " '_species_distributions',\n",
       " '_svmlight_format_fast',\n",
       " '_svmlight_format_io',\n",
       " '_twenty_newsgroups',\n",
       " 'clear_data_home',\n",
       " 'dump_svmlight_file',\n",
       " 'fetch_20newsgroups',\n",
       " 'fetch_20newsgroups_vectorized',\n",
       " 'fetch_california_housing',\n",
       " 'fetch_covtype',\n",
       " 'fetch_kddcup99',\n",
       " 'fetch_lfw_pairs',\n",
       " 'fetch_lfw_people',\n",
       " 'fetch_olivetti_faces',\n",
       " 'fetch_openml',\n",
       " 'fetch_rcv1',\n",
       " 'fetch_species_distributions',\n",
       " 'get_data_home',\n",
       " 'load_boston',\n",
       " 'load_breast_cancer',\n",
       " 'load_diabetes',\n",
       " 'load_digits',\n",
       " 'load_files',\n",
       " 'load_iris',\n",
       " 'load_linnerud',\n",
       " 'load_sample_image',\n",
       " 'load_sample_images',\n",
       " 'load_svmlight_file',\n",
       " 'load_svmlight_files',\n",
       " 'load_wine',\n",
       " 'make_biclusters',\n",
       " 'make_blobs',\n",
       " 'make_checkerboard',\n",
       " 'make_circles',\n",
       " 'make_classification',\n",
       " 'make_friedman1',\n",
       " 'make_friedman2',\n",
       " 'make_friedman3',\n",
       " 'make_gaussian_quantiles',\n",
       " 'make_hastie_10_2',\n",
       " 'make_low_rank_matrix',\n",
       " 'make_moons',\n",
       " 'make_multilabel_classification',\n",
       " 'make_regression',\n",
       " 'make_s_curve',\n",
       " 'make_sparse_coded_signal',\n",
       " 'make_sparse_spd_matrix',\n",
       " 'make_sparse_uncorrelated',\n",
       " 'make_spd_matrix',\n",
       " 'make_swiss_roll']"
      ]
     },
     "execution_count": 5,
     "metadata": {},
     "output_type": "execute_result"
    }
   ],
   "source": [
    "dir(datasets)"
   ]
  },
  {
   "cell_type": "code",
   "execution_count": 4,
   "id": "tight-titanium",
   "metadata": {},
   "outputs": [
    {
     "data": {
      "text/plain": [
       "array([[5.1, 3.5, 1.4, 0.2],\n",
       "       [4.9, 3. , 1.4, 0.2]])"
      ]
     },
     "execution_count": 4,
     "metadata": {},
     "output_type": "execute_result"
    }
   ],
   "source": [
    "iris = datasets.load_iris()\n",
    "iris.data[:2]"
   ]
  },
  {
   "cell_type": "code",
   "execution_count": 6,
   "id": "configured-question",
   "metadata": {},
   "outputs": [
    {
     "name": "stdout",
     "output_type": "stream",
     "text": [
      "(150, 4)\n"
     ]
    }
   ],
   "source": [
    "print(iris.data.shape)"
   ]
  },
  {
   "cell_type": "code",
   "execution_count": 7,
   "id": "possible-novelty",
   "metadata": {},
   "outputs": [
    {
     "name": "stdout",
     "output_type": "stream",
     "text": [
      "[0 0 0 0]\n"
     ]
    }
   ],
   "source": [
    "print(iris.target[:4])"
   ]
  },
  {
   "cell_type": "code",
   "execution_count": 8,
   "id": "regular-software",
   "metadata": {},
   "outputs": [],
   "source": [
    "X_iris, y_iris = iris.data, iris.target"
   ]
  },
  {
   "cell_type": "markdown",
   "id": "noted-boulder",
   "metadata": {},
   "source": [
    "**data**\n",
    " * array, where, for each instance, we have the real values for:\n",
    "        * sepal length\n",
    "        * sepal width\n",
    "        * petal length\n",
    "        * petal width **respectively**\n",
    "   \n",
    "   \n",
    "The shape of this array is `*(150, 4)*`, meaning that we have 150 rows (one for each instance) and four columns (one for each feature).\n",
    "* A target array, with values in the range of 0 to 2, corresponding to each instance of Iris species `(0: setosa, 1: versicolor, and 2: virginica)`, as you can verify by printing the `iris.target_names`"
   ]
  },
  {
   "cell_type": "code",
   "execution_count": 9,
   "id": "immediate-dimension",
   "metadata": {},
   "outputs": [
    {
     "data": {
      "text/plain": [
       "array(['setosa', 'versicolor', 'virginica'], dtype='<U10')"
      ]
     },
     "execution_count": 9,
     "metadata": {},
     "output_type": "execute_result"
    }
   ],
   "source": [
    "iris.target_names"
   ]
  },
  {
   "cell_type": "markdown",
   "id": "expressed-partnership",
   "metadata": {},
   "source": [
    "### Linear Classification\n",
    "* To get a grip on the problem of machine learning in scikit-learn, we will start with a\n",
    "very simple machine learning problem: we will try to predict the Iris flower species\n",
    "using only two attributes: sepal width and sepal length. This is an instance of a\n",
    "classification problem, where we want to assign a label (a value taken from a discrete\n",
    "set) to an item according to its features."
   ]
  },
  {
   "cell_type": "code",
   "execution_count": 10,
   "id": "continued-rebecca",
   "metadata": {},
   "outputs": [],
   "source": [
    "from sklearn.model_selection import train_test_split\n",
    "from sklearn import preprocessing"
   ]
  },
  {
   "cell_type": "code",
   "execution_count": 11,
   "id": "satisfied-order",
   "metadata": {},
   "outputs": [
    {
     "data": {
      "text/plain": [
       "array([[5.1, 3.5],\n",
       "       [4.9, 3. ],\n",
       "       [4.7, 3.2],\n",
       "       [4.6, 3.1],\n",
       "       [5. , 3.6]])"
      ]
     },
     "execution_count": 11,
     "metadata": {},
     "output_type": "execute_result"
    }
   ],
   "source": [
    "X_iris[:, :2][:5] # takes the sepal length and width"
   ]
  },
  {
   "cell_type": "code",
   "execution_count": 12,
   "id": "individual-touch",
   "metadata": {},
   "outputs": [],
   "source": [
    "X, y = X_iris[:,:2], y_iris"
   ]
  },
  {
   "cell_type": "code",
   "execution_count": 13,
   "id": "silver-youth",
   "metadata": {},
   "outputs": [
    {
     "data": {
      "text/plain": [
       "array([[5.1, 3.5],\n",
       "       [4.9, 3. ]])"
      ]
     },
     "execution_count": 13,
     "metadata": {},
     "output_type": "execute_result"
    }
   ],
   "source": [
    "X[:2]"
   ]
  },
  {
   "cell_type": "code",
   "execution_count": 14,
   "id": "brief-phenomenon",
   "metadata": {},
   "outputs": [
    {
     "data": {
      "text/plain": [
       "array([0, 0, 0])"
      ]
     },
     "execution_count": 14,
     "metadata": {},
     "output_type": "execute_result"
    }
   ],
   "source": [
    "y[:3]"
   ]
  },
  {
   "cell_type": "code",
   "execution_count": 15,
   "id": "mounted-victim",
   "metadata": {},
   "outputs": [],
   "source": [
    "X_train, X_test, y_train, y_test = train_test_split(X, y, test_size=0.25, random_state=33)"
   ]
  },
  {
   "cell_type": "code",
   "execution_count": 16,
   "id": "analyzed-marketplace",
   "metadata": {},
   "outputs": [
    {
     "data": {
      "text/plain": [
       "array([[5. , 2.3],\n",
       "       [4.9, 3.1]])"
      ]
     },
     "execution_count": 16,
     "metadata": {},
     "output_type": "execute_result"
    }
   ],
   "source": [
    "X_train[:2]"
   ]
  },
  {
   "cell_type": "code",
   "execution_count": 17,
   "id": "simple-ending",
   "metadata": {},
   "outputs": [
    {
     "name": "stdout",
     "output_type": "stream",
     "text": [
      "(112,)\n"
     ]
    }
   ],
   "source": [
    "print(y_train.shape)"
   ]
  },
  {
   "cell_type": "markdown",
   "id": "matched-burke",
   "metadata": {},
   "source": [
    "* The idea behind **StandardScaler** is that it will transform your data such that its distribution will have a mean value 0 and standard deviation of 1. In case of multivariate data, this is done feature-wise (in other words independently for each column of the data)\n",
    "> Standadised Normal Distribution has (mean =0, std =1) - Dr Ruffin"
   ]
  },
  {
   "cell_type": "code",
   "execution_count": 18,
   "id": "suitable-paint",
   "metadata": {},
   "outputs": [
    {
     "data": {
      "text/plain": [
       "StandardScaler()"
      ]
     },
     "execution_count": 18,
     "metadata": {},
     "output_type": "execute_result"
    }
   ],
   "source": [
    "scaler = preprocessing.StandardScaler().fit(X_train)\n",
    "scaler"
   ]
  },
  {
   "cell_type": "code",
   "execution_count": 19,
   "id": "spare-force",
   "metadata": {},
   "outputs": [],
   "source": [
    "X_train = scaler.transform(X_train)\n",
    "X_test = scaler.transform(X_test)"
   ]
  },
  {
   "cell_type": "code",
   "execution_count": 20,
   "id": "solved-school",
   "metadata": {},
   "outputs": [
    {
     "data": {
      "text/plain": [
       "array([[-0.91090798, -1.59775374],\n",
       "       [-1.0271058 ,  0.08448757]])"
      ]
     },
     "execution_count": 20,
     "metadata": {},
     "output_type": "execute_result"
    }
   ],
   "source": [
    "X_train[:2]"
   ]
  },
  {
   "cell_type": "markdown",
   "id": "sunrise-water",
   "metadata": {},
   "source": [
    "### What is going on\n",
    "1. The train_test_split function automatically builds the training and evaluation\n",
    "datasets, randomly selecting the samples. \n",
    "2. The last three lines of the previous code modify the training set in a process usually\n",
    "called feature scaling. For each feature, calculate the average, subtract the mean\n",
    "value from the feature value, and divide the result by their standard deviation. After\n",
    "scaling, each feature will have a zero average, with a standard deviation of one."
   ]
  },
  {
   "cell_type": "code",
   "execution_count": 21,
   "id": "heated-hampton",
   "metadata": {},
   "outputs": [],
   "source": [
    "import seaborn as sns"
   ]
  },
  {
   "cell_type": "code",
   "execution_count": 22,
   "id": "configured-iraqi",
   "metadata": {},
   "outputs": [],
   "source": [
    "colors = [\"red\", \"green\", \"blue\"]"
   ]
  },
  {
   "cell_type": "code",
   "execution_count": 23,
   "id": "revolutionary-potential",
   "metadata": {},
   "outputs": [
    {
     "data": {
      "image/png": "[encoded data removed]",
      "text/plain": [
       "<Figure size 432x288 with 1 Axes>"
      ]
     },
     "metadata": {
      "needs_background": "light"
     },
     "output_type": "display_data"
    }
   ],
   "source": [
    "for i in range(len(colors)):\n",
    "    xs = X_train[:,0][y_train== i]\n",
    "    ys = X_train[:, 1][y_train == i]\n",
    "    sns.lineplot(x=xs, y=ys)\n",
    "plt.legend(iris.target_names)\n",
    "plt.xlabel('Sepal length')\n",
    "plt.title(\"Line Plot\")\n",
    "plt.ylabel('Sepal width')\n",
    "plt.show()"
   ]
  },
  {
   "cell_type": "code",
   "execution_count": 24,
   "id": "literary-blink",
   "metadata": {},
   "outputs": [
    {
     "data": {
      "image/png": "[encoded data removed]",
      "text/plain": [
       "<Figure size 432x288 with 1 Axes>"
      ]
     },
     "metadata": {
      "needs_background": "light"
     },
     "output_type": "display_data"
    }
   ],
   "source": [
    "for i in range(len(colors)):\n",
    "    xs = X_train[:,0][y_train== i]\n",
    "    ys = X_train[:, 1][y_train == i]\n",
    "    sns.scatterplot(x=xs, y=ys)\n",
    "plt.legend(iris.target_names)\n",
    "plt.xlabel('Sepal length')\n",
    "plt.title(\"Scatter\")\n",
    "plt.ylabel('Sepal width')\n",
    "plt.show()"
   ]
  },
  {
   "cell_type": "markdown",
   "id": "mysterious-reproduction",
   "metadata": {},
   "source": [
    "* To implement linear classification, we will use the SGDClassifier from scikit-learn. **SGD** stands for **Stochastic Gradient Descent**, a very popular numerical procedure\n",
    "to find the local minimum of a function (in this case, the loss function, which\n",
    "measures how far every instance is from our boundary). The algorithm will learn the\n",
    "coefficients of the hyperplane by minimizing the loss function."
   ]
  },
  {
   "cell_type": "code",
   "execution_count": 25,
   "id": "former-starter",
   "metadata": {},
   "outputs": [],
   "source": [
    "from sklearn.linear_model import SGDClassifier"
   ]
  },
  {
   "cell_type": "code",
   "execution_count": 26,
   "id": "preceding-flesh",
   "metadata": {},
   "outputs": [
    {
     "data": {
      "text/plain": [
       "SGDClassifier()"
      ]
     },
     "execution_count": 26,
     "metadata": {},
     "output_type": "execute_result"
    }
   ],
   "source": [
    "clf = SGDClassifier()\n",
    "clf.fit(X_train, y_train)"
   ]
  },
  {
   "cell_type": "code",
   "execution_count": 27,
   "id": "casual-bridal",
   "metadata": {},
   "outputs": [
    {
     "data": {
      "text/plain": [
       "array([[-2.62090575e+01,  1.24381316e+01],\n",
       "       [-2.12078533e-01, -5.37310145e+00],\n",
       "       [ 9.32739591e+00, -8.35515664e-14]])"
      ]
     },
     "execution_count": 27,
     "metadata": {},
     "output_type": "execute_result"
    }
   ],
   "source": [
    "clf.coef_"
   ]
  },
  {
   "cell_type": "code",
   "execution_count": 28,
   "id": "olympic-copyright",
   "metadata": {},
   "outputs": [
    {
     "data": {
      "text/plain": [
       "array([-18.22010578,  -3.0202139 ,  -5.4343458 ])"
      ]
     },
     "execution_count": 28,
     "metadata": {},
     "output_type": "execute_result"
    }
   ],
   "source": [
    "clf.intercept_"
   ]
  },
  {
   "cell_type": "markdown",
   "id": "improving-brush",
   "metadata": {},
   "source": [
    "### Making predictions\n",
    "* Now, the end of the story: suppose that we have a new flower with a sepal width of 4.7 and a sepal length of 3.1, and we want to predict its class."
   ]
  },
  {
   "cell_type": "code",
   "execution_count": 29,
   "id": "center-friendly",
   "metadata": {},
   "outputs": [
    {
     "data": {
      "text/plain": [
       "array([[-1.25950146,  0.08448757]])"
      ]
     },
     "execution_count": 29,
     "metadata": {},
     "output_type": "execute_result"
    }
   ],
   "source": [
    "scaled_data = scaler.transform([[4.7, 3.1]])\n",
    "scaled_data"
   ]
  },
  {
   "cell_type": "code",
   "execution_count": 30,
   "id": "sticky-uruguay",
   "metadata": {},
   "outputs": [
    {
     "data": {
      "text/plain": [
       "array([0])"
      ]
     },
     "execution_count": 30,
     "metadata": {},
     "output_type": "execute_result"
    }
   ],
   "source": [
    "clf.predict(scaled_data)"
   ]
  },
  {
   "cell_type": "code",
   "execution_count": 31,
   "id": "disciplinary-diana",
   "metadata": {},
   "outputs": [
    {
     "data": {
      "text/plain": [
       "array(['setosa', 'versicolor', 'virginica'], dtype='<U10')"
      ]
     },
     "execution_count": 31,
     "metadata": {},
     "output_type": "execute_result"
    }
   ],
   "source": [
    "iris.target_names"
   ]
  },
  {
   "cell_type": "code",
   "execution_count": 32,
   "id": "nutritional-festival",
   "metadata": {},
   "outputs": [
    {
     "data": {
      "text/plain": [
       "'setosa'"
      ]
     },
     "execution_count": 32,
     "metadata": {},
     "output_type": "execute_result"
    }
   ],
   "source": [
    "iris.target_names[clf.predict(scaled_data)][0]"
   ]
  },
  {
   "cell_type": "code",
   "execution_count": 33,
   "id": "superior-bread",
   "metadata": {},
   "outputs": [
    {
     "name": "stdout",
     "output_type": "stream",
     "text": [
      "[5.1 3.5 1.4 0.2] setosa 0\n"
     ]
    }
   ],
   "source": [
    "# Predict on the existing data\n",
    "print(iris.data[0], iris.target_names[0], iris.target[0])"
   ]
  },
  {
   "cell_type": "code",
   "execution_count": 34,
   "id": "purple-skiing",
   "metadata": {},
   "outputs": [
    {
     "data": {
      "text/plain": [
       "array([0])"
      ]
     },
     "execution_count": 34,
     "metadata": {},
     "output_type": "execute_result"
    }
   ],
   "source": [
    "scaled_data = scaler.transform([[5.1 ,3.5]])\n",
    "clf.predict(scaled_data)"
   ]
  },
  {
   "cell_type": "code",
   "execution_count": 35,
   "id": "efficient-trademark",
   "metadata": {},
   "outputs": [
    {
     "data": {
      "text/plain": [
       "array([[ 15.84110782,  -3.20706094, -17.18221458]])"
      ]
     },
     "execution_count": 35,
     "metadata": {},
     "output_type": "execute_result"
    }
   ],
   "source": [
    "clf.decision_function(scaler.transform([[4.7, 3.1]]))"
   ]
  },
  {
   "cell_type": "markdown",
   "id": "super-exclusive",
   "metadata": {},
   "source": [
    "###  Evaluating our results\n",
    "* We want to be a little more formal when we talk about a good classifier. What does\n",
    "that mean? The performance of a classifier is a measure of its effectiveness. The\n",
    "simplest performance measure is accuracy: given a classifier and an evaluation\n",
    "dataset, it measures the proportion of instances correctly classified by the classifier.\n",
    "First, let's test the accuracy on the training set:"
   ]
  },
  {
   "cell_type": "code",
   "execution_count": 36,
   "id": "interim-frost",
   "metadata": {},
   "outputs": [
    {
     "data": {
      "text/plain": [
       "0.8482142857142857"
      ]
     },
     "execution_count": 36,
     "metadata": {},
     "output_type": "execute_result"
    }
   ],
   "source": [
    "from sklearn.metrics import accuracy_score\n",
    "y_train_pred = clf.predict(X_train)\n",
    "\n",
    "acc = accuracy_score(y_train, y_train_pred)\n",
    "acc"
   ]
  },
  {
   "cell_type": "code",
   "execution_count": 37,
   "id": "aging-alfred",
   "metadata": {},
   "outputs": [
    {
     "data": {
      "text/plain": [
       "0.6578947368421053"
      ]
     },
     "execution_count": 37,
     "metadata": {},
     "output_type": "execute_result"
    }
   ],
   "source": [
    "y_predict = clf.predict(X_test)\n",
    "acc = accuracy_score(y_test, y_predict)\n",
    "acc"
   ]
  },
  {
   "cell_type": "markdown",
   "id": "nervous-hostel",
   "metadata": {},
   "source": [
    ">We obtained an accuracy of 68 percent in our testing set. Usually, accuracy on the\n",
    "testing set is lower than the accuracy on the training set, since the model is actually\n",
    "modeling the training set, not the testing set."
   ]
  },
  {
   "cell_type": "markdown",
   "id": "subtle-jewel",
   "metadata": {},
   "source": [
    "> Computing precision"
   ]
  },
  {
   "cell_type": "code",
   "execution_count": 39,
   "id": "structural-significance",
   "metadata": {},
   "outputs": [],
   "source": [
    "from sklearn.metrics import classification_report"
   ]
  },
  {
   "cell_type": "code",
   "execution_count": 44,
   "id": "described-check",
   "metadata": {},
   "outputs": [
    {
     "data": {
      "text/plain": [
       "(array([1, 1, 0, 1, 2, 2, 0, 0, 2, 2, 2, 0, 2, 1, 2, 1, 2, 0, 1, 2, 0, 0,\n",
       "        2, 0, 2, 2, 1, 1, 2, 2, 1, 1, 2, 2, 2, 2, 2, 1]),\n",
       " array([1, 2, 0, 2, 1, 2, 0, 0, 2, 2, 2, 0, 2, 1, 2, 2, 1, 0, 2, 2, 0, 0,\n",
       "        2, 0, 1, 1, 2, 1, 2, 1, 1, 2, 1, 2, 2, 2, 1, 1]),\n",
       " array(['setosa', 'versicolor', 'virginica'], dtype='<U10'))"
      ]
     },
     "execution_count": 44,
     "metadata": {},
     "output_type": "execute_result"
    }
   ],
   "source": [
    "y_test, y_predict, iris.target_names"
   ]
  },
  {
   "cell_type": "code",
   "execution_count": 46,
   "id": "sweet-serial",
   "metadata": {},
   "outputs": [],
   "source": [
    "report = classification_report(y_test, y_predict, target_names = iris.target_names)"
   ]
  },
  {
   "cell_type": "code",
   "execution_count": 52,
   "id": "loving-india",
   "metadata": {},
   "outputs": [
    {
     "name": "stdout",
     "output_type": "stream",
     "text": [
      "              precision    recall  f1-score   support\n",
      "\n",
      "      setosa       1.00      1.00      1.00         8\n",
      "  versicolor       0.42      0.45      0.43        11\n",
      "   virginica       0.67      0.63      0.65        19\n",
      "\n",
      "    accuracy                           0.66        38\n",
      "   macro avg       0.69      0.70      0.69        38\n",
      "weighted avg       0.66      0.66      0.66        38\n",
      "\n"
     ]
    }
   ],
   "source": [
    "print(report)"
   ]
  },
  {
   "cell_type": "markdown",
   "id": "worst-convert",
   "metadata": {},
   "source": [
    "* The classifier obtained 1.0 precision and recall in the setosa class. This\n",
    "means that for precision, 100 percent of the instances that are classified as\n",
    "setosa are really setosa instances, and for recall, that 100 percent of the setosa\n",
    "instances were classified as setosa.\n",
    "* On the other hand, in the versicolor class, the results are not as good:\n",
    "we have a precision of 0.43, that is, only 43 percent of the instances that are\n",
    "classified as versicolor are really versicolor instances. Also, for versicolor, we\n",
    "have a recall of 0.27, that is, only 27 percent of the versicolor instances are\n",
    "correctly classified."
   ]
  },
  {
   "cell_type": "markdown",
   "id": "institutional-transaction",
   "metadata": {},
   "source": [
    "#### Cross Validation\n",
    "* To finish our evaluation process, we will introduce a very useful method known\n",
    "as cross-validation. As we explained before, we have to partition our dataset into\n",
    "a training set and a testing set. However, partitioning the data, results such that\n",
    "there are fewer instances to train on, and also, depending on the particular partition\n",
    "we make (usually made randomly), we can get either better or worse results.\n",
    "Cross-validation allows us to avoid this particular case, reducing result variance and\n",
    "producing a more realistic score for our models"
   ]
  },
  {
   "cell_type": "code",
   "execution_count": 59,
   "id": "modern-mentor",
   "metadata": {},
   "outputs": [],
   "source": [
    "from sklearn.model_selection import cross_val_score, KFold\n",
    "from sklearn.pipeline import Pipeline\n",
    "from sklearn.preprocessing import StandardScaler"
   ]
  },
  {
   "cell_type": "code",
   "execution_count": 60,
   "id": "satisfied-barbados",
   "metadata": {},
   "outputs": [],
   "source": [
    " # create a composite estimator made by a pipeline of the standarization and the linear model\n",
    "\n",
    "clf = Pipeline([\n",
    "    (\"scaler\", StandardScaler()),\n",
    "    (\"linear_model\", SGDClassifier())\n",
    "])"
   ]
  },
  {
   "cell_type": "code",
   "execution_count": 65,
   "id": "written-bedroom",
   "metadata": {},
   "outputs": [],
   "source": [
    "# create a k-fold cross validation iterator of k=5 folds\n",
    "cv = KFold(n_splits=5, shuffle=True, random_state=33)\n",
    "# by default the score used is the one returned by score method of the estimator (accuracy)\n",
    "scores = cross_val_score(clf, X, y, cv=cv)"
   ]
  },
  {
   "cell_type": "code",
   "execution_count": 66,
   "id": "incorporated-password",
   "metadata": {},
   "outputs": [
    {
     "data": {
      "text/plain": [
       "array([0.7       , 0.76666667, 0.76666667, 0.86666667, 0.6       ])"
      ]
     },
     "execution_count": 66,
     "metadata": {},
     "output_type": "execute_result"
    }
   ],
   "source": [
    "scores"
   ]
  },
  {
   "cell_type": "markdown",
   "id": "massive-granny",
   "metadata": {},
   "source": [
    "> We obtained an array with the k scores. We can calculate the mean and the standard\n",
    "error to obtain a final figure:"
   ]
  },
  {
   "cell_type": "code",
   "execution_count": 67,
   "id": "artificial-tuesday",
   "metadata": {},
   "outputs": [],
   "source": [
    "from scipy.stats import sem"
   ]
  },
  {
   "cell_type": "code",
   "execution_count": 68,
   "id": "continuous-eclipse",
   "metadata": {},
   "outputs": [
    {
     "name": "stdout",
     "output_type": "stream",
     "text": [
      "Mean score:  0.74 (+/- 0.04396968652757641 )\n"
     ]
    }
   ],
   "source": [
    "print(\"Mean score: \", np.mean(scores), \"(+/-\", sem(scores), \")\")"
   ]
  },
  {
   "cell_type": "markdown",
   "id": "massive-understanding",
   "metadata": {},
   "source": [
    "> Our model is 0.74 accuracy"
   ]
  },
  {
   "cell_type": "markdown",
   "id": "nuclear-bonus",
   "metadata": {},
   "source": [
    "## Machine learning categories\n",
    "Classification is only one of the possible machine learning problems that can be\n",
    "addressed with scikit-learn.\n"
   ]
  },
  {
   "cell_type": "markdown",
   "id": "political-amendment",
   "metadata": {},
   "source": [
    "> In the previous example, we had a set of instances (that is, a set of data\n",
    "collected from a population) represented by certain features and with a\n",
    "particular target attribute. **Supervised learning** algorithms try to build a\n",
    "model from this data, which lets us predict the target attribute for new\n",
    "instances, knowing only these instance features. When the target class\n",
    "belongs to a discrete set (such as a list of flower species), we are facing a\n",
    "classification problem.\n",
    "\n",
    "> Sometimes the class we want to predict, instead of belonging to a discrete\n",
    "set, ranges on a continuous set, such as the real number line. In this case, we\n",
    "are trying to solve a **regression** problem (the term was coined by Francis\n",
    "Galton, who observed that the heights of tall ancestors tend to regress down\n",
    "towards a normal value, the average human height). For example, we could\n",
    "try to predict the petal width based on the other three features. We will see\n",
    "that the methods used for regression are quite different from those used for\n",
    "classification.\n",
    "\n",
    ">Another different type of machine learning problem is that of **unsupervised\n",
    "learning**. In this case, we do not have a target class to predict but instead\n",
    "want to group instances according to some similarity measure based on the\n",
    "available set of features. For example, suppose you have a dataset composed\n",
    "of e-mails and want to group them by their main topic (the task of grouping\n",
    "instances is called **clustering**). We can use it as features, for example, the\n",
    "different words used in each of them."
   ]
  },
  {
   "cell_type": "markdown",
   "id": "incoming-tobacco",
   "metadata": {},
   "source": [
    "However, we should also take into account Einstein's words:\n",
    "\n",
    "\"_Everything should be made as simple as possible, but not simpler._\"\n"
   ]
  }
 ],
 "metadata": {
  "kernelspec": {
   "display_name": "Python 3",
   "language": "python",
   "name": "python3"
  },
  "language_info": {
   "codemirror_mode": {
    "name": "ipython",
    "version": 3
   },
   "file_extension": ".py",
   "mimetype": "text/x-python",
   "name": "python",
   "nbconvert_exporter": "python",
   "pygments_lexer": "ipython3",
   "version": "3.8.5"
  }
 },
 "nbformat": 4,
 "nbformat_minor": 5
}
