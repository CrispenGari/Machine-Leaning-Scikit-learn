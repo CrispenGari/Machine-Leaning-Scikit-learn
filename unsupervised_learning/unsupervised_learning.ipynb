{
 "cells": [
  {
   "cell_type": "markdown",
   "id": "hispanic-edmonton",
   "metadata": {},
   "source": [
    "## Unsupervised Learning\n",
    "* Nowadays, it is a common assertion that huge amounts of data are available from\n",
    "the Internet for learning. \n",
    "* **Clustering** - Grouping elements, things that belongs to the same category in the same group.  Clustering involves finding groups\n",
    "where all elements in the group are similar, but objects in different groups are not. \n",
    "\n",
    "### Clustering methods\n",
    "* k-means\n",
    "* affinity propagation\n",
    "* mean shift\n",
    "* Gaussian Mixture Models.\n",
    "\n",
    "> Another example of unsupervised learning is **Dimensionality Reduction**. Suppose\n",
    "we represent learning instances with a large number of attributes and want to\n",
    "visualize them to identify their principal patterns. This is very difficult when the\n",
    "number of features is more than three, simply because we cannot visualize more than\n",
    "three dimensions. **Dimensionality Reduction** methods present a way to represent\n",
    "data points of a high dimensional dataset in a lower dimensional space, keeping (at\n",
    "least partly) their pattern structure.\n",
    "\n",
    "### Principal Component Analysis\n",
    "* **Principal Component Analysis (PCA)** is an orthogonal linear transformation that\n",
    "turns a set of possibly correlated variables into a new set of variables that are as\n",
    "uncorrelated as possible. "
   ]
  },
  {
   "cell_type": "markdown",
   "id": "negative-photographer",
   "metadata": {},
   "source": [
    "### 1. KMeans\n",
    "\n",
    "```\n",
    "sklearn.cluster.KMeans(n_clusters=8, *, init='k-means++', n_init=10, max_iter=300, tol=0.0001, precompute_distances='deprecated', verbose=0, random_state=None, copy_x=True, n_jobs='deprecated', algorithm='auto')\n",
    "```\n",
    "\n",
    "The KMeans algorithm clusters data by trying to separate samples in n groups of equal variance, minimizing a criterion known as the inertia or within-cluster sum-of-squares. This algorithm requires the number of clusters to be specified. It scales well to large number of samples and has been used across a large range of application areas in many different fields."
   ]
  },
  {
   "cell_type": "markdown",
   "id": "waiting-union",
   "metadata": {},
   "source": [
    "#### simple example"
   ]
  },
  {
   "cell_type": "code",
   "execution_count": 1,
   "id": "latest-compatibility",
   "metadata": {},
   "outputs": [],
   "source": [
    "from sklearn.cluster import KMeans\n",
    "import numpy as np"
   ]
  },
  {
   "cell_type": "code",
   "execution_count": 2,
   "id": "military-equipment",
   "metadata": {},
   "outputs": [],
   "source": [
    "X = np.array([\n",
    "    [1, 2], [1, 4], [1, 0],\n",
    "    [10, 2], [10, 4], [10, 0]\n",
    "])"
   ]
  },
  {
   "cell_type": "code",
   "execution_count": 8,
   "id": "scheduled-symphony",
   "metadata": {},
   "outputs": [
    {
     "data": {
      "text/plain": [
       "KMeans(n_clusters=3, random_state=42)"
      ]
     },
     "execution_count": 8,
     "metadata": {},
     "output_type": "execute_result"
    }
   ],
   "source": [
    "kmeans = KMeans(n_clusters=3, random_state=42)\n",
    "kmeans.fit(X)"
   ]
  },
  {
   "cell_type": "code",
   "execution_count": 9,
   "id": "exceptional-exercise",
   "metadata": {},
   "outputs": [
    {
     "data": {
      "text/plain": [
       "array([1, 2, 1, 0, 0, 0])"
      ]
     },
     "execution_count": 9,
     "metadata": {},
     "output_type": "execute_result"
    }
   ],
   "source": [
    "kmeans.labels_"
   ]
  },
  {
   "cell_type": "code",
   "execution_count": 10,
   "id": "moved-completion",
   "metadata": {},
   "outputs": [
    {
     "data": {
      "text/plain": [
       "array([1, 0, 0])"
      ]
     },
     "execution_count": 10,
     "metadata": {},
     "output_type": "execute_result"
    }
   ],
   "source": [
    "kmeans.predict([[0, 0], [12, 3], [14, 0]])"
   ]
  },
  {
   "cell_type": "code",
   "execution_count": 11,
   "id": "narrow-status",
   "metadata": {},
   "outputs": [
    {
     "data": {
      "text/plain": [
       "array([[10.,  2.],\n",
       "       [ 1.,  1.],\n",
       "       [ 1.,  4.]])"
      ]
     },
     "execution_count": 11,
     "metadata": {},
     "output_type": "execute_result"
    }
   ],
   "source": [
    "kmeans.cluster_centers_"
   ]
  },
  {
   "cell_type": "code",
   "execution_count": 12,
   "id": "confused-impact",
   "metadata": {},
   "outputs": [
    {
     "data": {
      "text/plain": [
       "-10.0"
      ]
     },
     "execution_count": 12,
     "metadata": {},
     "output_type": "execute_result"
    }
   ],
   "source": [
    "kmeans.score(X)"
   ]
  },
  {
   "cell_type": "markdown",
   "id": "needed-damages",
   "metadata": {},
   "source": [
    "## Introduction\n",
    "> K-means clustering is one of the most widely used unsupervised machine learning algorithms that forms clusters of data based on the similarity between data instances. For this particular algorithm to work, the number of clusters has to be defined beforehand. The K in the K-means refers to the number of clusters."
   ]
  },
  {
   "cell_type": "markdown",
   "id": "portuguese-scoop",
   "metadata": {},
   "source": [
    "### How does K-Means works\n",
    "* The K-means algorithm starts by randomly choosing a centroid value for each cluster. After that the algorithm iteratively performs three steps: \n",
    "1. Find the Euclidean distance between each data instance and centroids of all the clusters; \n",
    "2. Assign the data instances to the cluster of the centroid with nearest distance.\n",
    "3. Calculate new centroid values based on the mean values of the coordinates of all the data instances from the corresponding cluster."
   ]
  },
  {
   "cell_type": "markdown",
   "id": "synthetic-merit",
   "metadata": {},
   "source": [
    "### Example:\n",
    "\n",
    "### 1. Create Data"
   ]
  },
  {
   "cell_type": "code",
   "execution_count": 13,
   "id": "governmental-being",
   "metadata": {},
   "outputs": [],
   "source": [
    "import matplotlib.pyplot as plt\n",
    "import numpy as np\n",
    "import seaborn as sns\n",
    "from sklearn.cluster import KMeans"
   ]
  },
  {
   "cell_type": "code",
   "execution_count": 14,
   "id": "absent-blast",
   "metadata": {},
   "outputs": [
    {
     "data": {
      "text/plain": [
       "(10, 2)"
      ]
     },
     "execution_count": 14,
     "metadata": {},
     "output_type": "execute_result"
    }
   ],
   "source": [
    "X = np.array([\n",
    "      [5,3],\n",
    "     [10,15],\n",
    "     [15,12],\n",
    "     [24,10],\n",
    "     [30,45],\n",
    "     [85,70],\n",
    "     [71,80],\n",
    "     [60,78],\n",
    "     [55,52],\n",
    "     [80,91]\n",
    "])\n",
    "X.shape"
   ]
  },
  {
   "cell_type": "markdown",
   "id": "desirable-words",
   "metadata": {},
   "source": [
    "### Visualise the data\n",
    "> Let's visualise each point here on a scatter plot\n"
   ]
  },
  {
   "cell_type": "code",
   "execution_count": 17,
   "id": "improving-analysis",
   "metadata": {},
   "outputs": [
    {
     "data": {
      "text/plain": [
       "(array([ 5, 10, 15, 24, 30, 85, 71, 60, 55, 80]),\n",
       " array([ 3, 15, 12, 10, 45, 70, 80, 78, 52, 91]))"
      ]
     },
     "execution_count": 17,
     "metadata": {},
     "output_type": "execute_result"
    }
   ],
   "source": [
    "x, y = X[:,0], X[:, -1]\n",
    "x, y"
   ]
  },
  {
   "cell_type": "code",
   "execution_count": 21,
   "id": "ongoing-cyprus",
   "metadata": {},
   "outputs": [
    {
     "data": {
      "image/png": "[encoded data removed]",
      "text/plain": [
       "<Figure size 432x288 with 1 Axes>"
      ]
     },
     "metadata": {
      "needs_background": "light"
     },
     "output_type": "display_data"
    }
   ],
   "source": [
    "sns.scatterplot(x=x, y=y)\n",
    "plt.show()"
   ]
  },
  {
   "cell_type": "markdown",
   "id": "cutting-petite",
   "metadata": {},
   "source": [
    "> From the visualisation now we can be able to see that we have two clusters and each cluster contains 5 points."
   ]
  },
  {
   "cell_type": "markdown",
   "id": "affecting-imaging",
   "metadata": {},
   "source": [
    "#### Create a Cluster"
   ]
  },
  {
   "cell_type": "code",
   "execution_count": 22,
   "id": "motivated-blanket",
   "metadata": {},
   "outputs": [
    {
     "data": {
      "text/plain": [
       "KMeans(n_clusters=2)"
      ]
     },
     "execution_count": 22,
     "metadata": {},
     "output_type": "execute_result"
    }
   ],
   "source": [
    "kmeans = KMeans(n_clusters=2)\n",
    "kmeans.fit(X)"
   ]
  },
  {
   "cell_type": "code",
   "execution_count": 23,
   "id": "damaged-recorder",
   "metadata": {},
   "outputs": [
    {
     "data": {
      "text/plain": [
       "array([1, 1, 1, 1, 1, 0, 0, 0, 0, 0])"
      ]
     },
     "execution_count": 23,
     "metadata": {},
     "output_type": "execute_result"
    }
   ],
   "source": [
    "kmeans.labels_"
   ]
  },
  {
   "cell_type": "markdown",
   "id": "amended-finger",
   "metadata": {},
   "source": [
    "> Now let's see what centroid values the algorithm generated for the final clusters."
   ]
  },
  {
   "cell_type": "code",
   "execution_count": 24,
   "id": "english-creek",
   "metadata": {},
   "outputs": [
    {
     "data": {
      "text/plain": [
       "array([[70.2, 74.2],\n",
       "       [16.8, 17. ]])"
      ]
     },
     "execution_count": 24,
     "metadata": {},
     "output_type": "execute_result"
    }
   ],
   "source": [
    "kmeans.cluster_centers_"
   ]
  },
  {
   "cell_type": "markdown",
   "id": "concrete-building",
   "metadata": {},
   "source": [
    "> Since we have 2 clusters then, which means the first row represents the coodinates of the first centroid and the last two  represent the coodinates of the last centroid. "
   ]
  },
  {
   "cell_type": "code",
   "execution_count": 26,
   "id": "great-department",
   "metadata": {},
   "outputs": [
    {
     "data": {
      "text/plain": [
       "(array([70.2, 74.2]), array([16.8, 17. ]))"
      ]
     },
     "execution_count": 26,
     "metadata": {},
     "output_type": "execute_result"
    }
   ],
   "source": [
    "centroid_A, centroid_B = kmeans.cluster_centers_\n",
    "centroid_A, centroid_B "
   ]
  },
  {
   "cell_type": "markdown",
   "id": "through-pressure",
   "metadata": {},
   "source": [
    "> **Visualisation**"
   ]
  },
  {
   "cell_type": "code",
   "execution_count": 34,
   "id": "angry-commonwealth",
   "metadata": {},
   "outputs": [
    {
     "data": {
      "image/png": "[encoded data removed]",
      "text/plain": [
       "<Figure size 432x288 with 1 Axes>"
      ]
     },
     "metadata": {
      "needs_background": "light"
     },
     "output_type": "display_data"
    }
   ],
   "source": [
    "plt.scatter(x=x, y=y)\n",
    "plt.scatter(x=centroid_A[0], y =centroid_A[1], c=\"red\", marker=\"^\")\n",
    "plt.scatter(x=centroid_B[0], y =centroid_B[1], c=\"green\", marker=\"^\")\n",
    "\n",
    "plt.show()"
   ]
  },
  {
   "cell_type": "code",
   "execution_count": 39,
   "id": "single-portal",
   "metadata": {},
   "outputs": [
    {
     "data": {
      "image/png": "[encoded data removed]",
      "text/plain": [
       "<Figure size 432x288 with 1 Axes>"
      ]
     },
     "metadata": {
      "needs_background": "light"
     },
     "output_type": "display_data"
    }
   ],
   "source": [
    "plt.scatter(x,y, c=kmeans.labels_, cmap='rainbow', edgecolor=\"blue\")\n",
    "plt.show()"
   ]
  },
  {
   "cell_type": "markdown",
   "id": "qualified-course",
   "metadata": {},
   "source": [
    "> That's it about clustering."
   ]
  },
  {
   "cell_type": "markdown",
   "id": "logical-punch",
   "metadata": {},
   "source": [
    "### Hand Written Digits SKlearn dataset"
   ]
  },
  {
   "cell_type": "code",
   "execution_count": null,
   "id": "satisfactory-pressing",
   "metadata": {},
   "outputs": [],
   "source": []
  },
  {
   "cell_type": "code",
   "execution_count": 40,
   "id": "special-acrobat",
   "metadata": {},
   "outputs": [
    {
     "data": {
      "text/plain": [
       "(array([0, 1, 2, ..., 8, 9, 8]),\n",
       " array([0, 1, 2, 3, 4, 5, 6, 7, 8, 9]),\n",
       " array([[ 0.,  0.,  5., ...,  0.,  0.,  0.],\n",
       "        [ 0.,  0.,  0., ..., 10.,  0.,  0.],\n",
       "        [ 0.,  0.,  0., ..., 16.,  9.,  0.],\n",
       "        ...,\n",
       "        [ 0.,  0.,  1., ...,  6.,  0.,  0.],\n",
       "        [ 0.,  0.,  2., ..., 12.,  0.,  0.],\n",
       "        [ 0.,  0., 10., ..., 12.,  1.,  0.]]))"
      ]
     },
     "execution_count": 40,
     "metadata": {},
     "output_type": "execute_result"
    }
   ],
   "source": [
    "from sklearn.datasets import load_digits\n",
    "digits = load_digits()\n",
    "digits.target, digits.target_names, digits.data"
   ]
  },
  {
   "cell_type": "markdown",
   "id": "raised-reputation",
   "metadata": {},
   "source": [
    "> So we can see that we have digits from `0-9`"
   ]
  },
  {
   "cell_type": "code",
   "execution_count": 43,
   "id": "outer-steering",
   "metadata": {},
   "outputs": [
    {
     "data": {
      "image/png": "[encoded data removed]",
      "text/plain": [
       "<Figure size 432x288 with 1 Axes>"
      ]
     },
     "metadata": {
      "needs_background": "light"
     },
     "output_type": "display_data"
    },
    {
     "data": {
      "text/plain": [
       "(None, (1797, 64))"
      ]
     },
     "execution_count": 43,
     "metadata": {},
     "output_type": "execute_result"
    }
   ],
   "source": [
    "plt.imshow(digits.data[0].reshape(8, -1), cmap=\"gray\")\n",
    "plt.show(), digits.data.shape"
   ]
  },
  {
   "cell_type": "markdown",
   "id": "aggregate-hughes",
   "metadata": {},
   "source": [
    "> Data"
   ]
  },
  {
   "cell_type": "code",
   "execution_count": 44,
   "id": "authorized-grant",
   "metadata": {},
   "outputs": [],
   "source": [
    "X = digits.data\n",
    "y= digits.target"
   ]
  },
  {
   "cell_type": "markdown",
   "id": "prescribed-privilege",
   "metadata": {},
   "source": [
    "### PCA\n",
    "* Principal component analysis (PCA).\n",
    "> Linear dimensionality reduction using Singular Value Decomposition of the data to project it to a lower dimensional space. The input data is centered but not scaled for each feature before applying the SVD.\n",
    "\n",
    "```\n",
    "class sklearn.decomposition.PCA(n_components=None, *, copy=True, whiten=False, svd_solver='auto', tol=0.0, iterated_power='auto', random_state=None)\n",
    "```\n",
    "\n",
    "**n_components** - Number of components to keep. if n_components is not set all components are kept\n",
    "\n",
    "> [Docs](https://scikit-learn.org/stable/modules/generated/sklearn.decomposition.PCA.html)"
   ]
  },
  {
   "cell_type": "code",
   "execution_count": 48,
   "id": "packed-worth",
   "metadata": {},
   "outputs": [],
   "source": [
    "from sklearn.decomposition import PCA\n",
    "estimator = PCA(n_components=10) ## We have 10 digits from 0 - 9\n",
    "X_pca = estimator.fit_transform(X)"
   ]
  },
  {
   "cell_type": "code",
   "execution_count": 53,
   "id": "underlying-company",
   "metadata": {},
   "outputs": [
    {
     "data": {
      "image/png": "[encoded data removed]",
      "text/plain": [
       "<Figure size 432x288 with 1 Axes>"
      ]
     },
     "metadata": {
      "needs_background": "light"
     },
     "output_type": "display_data"
    }
   ],
   "source": [
    "def plot_pca_scatter():\n",
    "    \n",
    "    colors = ['black', 'blue', 'purple', 'yellow', 'white',\n",
    " 'red', 'lime', 'cyan', 'orange', 'gray']\n",
    "    for i in range(len(colors)):\n",
    "        px = X_pca[:, 0][y == i]\n",
    "        py = X_pca[:, 1][y == i]\n",
    "        plt.scatter(px, py, c=colors[i])\n",
    "    plt.legend(digits.target_names)\n",
    "    plt.xlabel('First Principal Component')\n",
    "    plt.ylabel('Second Principal Component')\n",
    "    \n",
    "plot_pca_scatter()"
   ]
  },
  {
   "cell_type": "markdown",
   "id": "mysterious-potter",
   "metadata": {},
   "source": [
    "**Ref: Raúl Garreta, Guillermo Moncecchi - Learning scikit-learn_ Machine Learning in Python (2013, Packt) - libgen.lc Page 67**"
   ]
  },
  {
   "cell_type": "markdown",
   "id": "rocky-scotland",
   "metadata": {},
   "source": [
    "### Clustering handwritten digits with `k-means`"
   ]
  },
  {
   "cell_type": "code",
   "execution_count": 85,
   "id": "present-ozone",
   "metadata": {},
   "outputs": [],
   "source": [
    "from sklearn.model_selection import train_test_split"
   ]
  },
  {
   "cell_type": "code",
   "execution_count": 86,
   "id": "coastal-terrain",
   "metadata": {},
   "outputs": [],
   "source": [
    "images = digits.images"
   ]
  },
  {
   "cell_type": "code",
   "execution_count": 87,
   "id": "possible-consensus",
   "metadata": {},
   "outputs": [],
   "source": [
    "X_train, X_test, y_train, y_test, images_train, images_test = train_test_split(X, y, images, test_size=.3, random_state=33)"
   ]
  },
  {
   "cell_type": "code",
   "execution_count": 88,
   "id": "shaped-triangle",
   "metadata": {},
   "outputs": [
    {
     "data": {
      "text/plain": [
       "((1257, 64), (540, 64), (1257,), (540,), (1257, 8, 8))"
      ]
     },
     "execution_count": 88,
     "metadata": {},
     "output_type": "execute_result"
    }
   ],
   "source": [
    "X_train.shape, X_test.shape, y_train.shape, y_test.shape, images_train.shape"
   ]
  },
  {
   "cell_type": "code",
   "execution_count": 89,
   "id": "involved-subdivision",
   "metadata": {},
   "outputs": [
    {
     "data": {
      "text/plain": [
       "10"
      ]
     },
     "execution_count": 89,
     "metadata": {},
     "output_type": "execute_result"
    }
   ],
   "source": [
    "n_digits = len(digits.target_names)\n",
    "n_digits # Number of clusters"
   ]
  },
  {
   "cell_type": "code",
   "execution_count": 90,
   "id": "active-discretion",
   "metadata": {},
   "outputs": [
    {
     "data": {
      "text/plain": [
       "KMeans(n_clusters=10, random_state=33)"
      ]
     },
     "execution_count": 90,
     "metadata": {},
     "output_type": "execute_result"
    }
   ],
   "source": [
    "from sklearn.cluster import KMeans\n",
    "kmeans = KMeans(n_clusters= n_digits, random_state=33)\n",
    "kmeans"
   ]
  },
  {
   "cell_type": "code",
   "execution_count": 91,
   "id": "leading-bunch",
   "metadata": {},
   "outputs": [
    {
     "data": {
      "text/plain": [
       "KMeans(n_clusters=10, random_state=33)"
      ]
     },
     "execution_count": 91,
     "metadata": {},
     "output_type": "execute_result"
    }
   ],
   "source": [
    "kmeans.fit(X_train)"
   ]
  },
  {
   "cell_type": "code",
   "execution_count": 94,
   "id": "million-restriction",
   "metadata": {},
   "outputs": [
    {
     "data": {
      "text/plain": [
       "(4, <matplotlib.image.AxesImage at 0x27bc93b70d0>)"
      ]
     },
     "execution_count": 94,
     "metadata": {},
     "output_type": "execute_result"
    },
    {
     "data": {
      "image/png": "[encoded data removed]",
      "text/plain": [
       "<Figure size 432x288 with 1 Axes>"
      ]
     },
     "metadata": {
      "needs_background": "light"
     },
     "output_type": "display_data"
    }
   ],
   "source": [
    "kmeans.labels_[0], plt.imshow(images_train[0], cmap=\"gray\")"
   ]
  },
  {
   "cell_type": "markdown",
   "id": "geological-manufacturer",
   "metadata": {},
   "source": [
    "> We are getting `4` and `1`.\n",
    "\n",
    "> **Note:** that the cluster number has nothing to do with the real number value.\n",
    "Remember that we have not used the class to classify; we only grouped images by\n",
    "similarity. Let's see how our algorithm behaves on the testing data.\n"
   ]
  },
  {
   "cell_type": "markdown",
   "id": "committed-durham",
   "metadata": {},
   "source": [
    "### Alternative clustering methods\n",
    "The scikit-learn toolkit includes several clustering algorithms, all of them including\n",
    "similar methods and parameters to those we used in k-means. In this section we will\n",
    "briefly review some of them, suggesting some of their advantages."
   ]
  },
  {
   "cell_type": "markdown",
   "id": "initial-mitchell",
   "metadata": {},
   "source": [
    "> [Docs](https://scikit-learn.org/stable/modules/classes.html#module-sklearn.cluster)"
   ]
  }
 ],
 "metadata": {
  "kernelspec": {
   "display_name": "Python 3",
   "language": "python",
   "name": "python3"
  },
  "language_info": {
   "codemirror_mode": {
    "name": "ipython",
    "version": 3
   },
   "file_extension": ".py",
   "mimetype": "text/x-python",
   "name": "python",
   "nbconvert_exporter": "python",
   "pygments_lexer": "ipython3",
   "version": "3.8.5"
  }
 },
 "nbformat": 4,
 "nbformat_minor": 5
}
