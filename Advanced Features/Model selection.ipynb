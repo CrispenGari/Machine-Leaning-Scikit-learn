{
 "cells": [
  {
   "cell_type": "markdown",
   "id": "preliminary-preservation",
   "metadata": {},
   "source": [
    "## Model selection\n",
    "> Selecting models' hyper parameters"
   ]
  },
  {
   "cell_type": "markdown",
   "id": "outside-sight",
   "metadata": {},
   "source": [
    "## Text Classification Problem"
   ]
  },
  {
   "cell_type": "code",
   "execution_count": 10,
   "id": "smaller-front",
   "metadata": {},
   "outputs": [],
   "source": [
    "import numpy as np\n",
    "from sklearn.model_selection import train_test_split\n",
    "from sklearn.feature_extraction.text import CountVectorizer, TfidfVectorizer\n",
    "from sklearn import datasets"
   ]
  },
  {
   "cell_type": "code",
   "execution_count": 3,
   "id": "right-elevation",
   "metadata": {},
   "outputs": [],
   "source": [
    "news = datasets.fetch_20newsgroups(subset='all')"
   ]
  },
  {
   "cell_type": "code",
   "execution_count": 8,
   "id": "billion-russian",
   "metadata": {},
   "outputs": [],
   "source": [
    "X = news.data\n",
    "y = news.target"
   ]
  },
  {
   "cell_type": "markdown",
   "id": "residential-exercise",
   "metadata": {},
   "source": [
    "### Split the data"
   ]
  },
  {
   "cell_type": "code",
   "execution_count": 9,
   "id": "proud-check",
   "metadata": {},
   "outputs": [],
   "source": [
    "X_train, X_test, y_train, y_test = train_test_split(X, y, random_state=33, test_size=.25)"
   ]
  },
  {
   "cell_type": "markdown",
   "id": "offshore-portuguese",
   "metadata": {},
   "source": [
    "### Bag of words"
   ]
  },
  {
   "cell_type": "code",
   "execution_count": 43,
   "id": "infectious-weapon",
   "metadata": {},
   "outputs": [],
   "source": [
    "vectorizer = CountVectorizer(stop_words='english', binary=True)\n",
    "X_train_vectors = vectorizer.fit_transform(X_train)\n",
    "X_test_vectors = vectorizer.transform(X_test)"
   ]
  },
  {
   "cell_type": "code",
   "execution_count": 18,
   "id": "israeli-synthetic",
   "metadata": {},
   "outputs": [],
   "source": [
    "from sklearn.naive_bayes import MultinomialNB\n",
    "from sklearn.pipeline import Pipeline\n",
    "from sklearn.preprocessing import StandardScaler"
   ]
  },
  {
   "cell_type": "markdown",
   "id": "indie-collectible",
   "metadata": {},
   "source": [
    "### Creating a Classifier with a Pipeline"
   ]
  },
  {
   "cell_type": "code",
   "execution_count": 44,
   "id": "functional-nutrition",
   "metadata": {},
   "outputs": [],
   "source": [
    "clf = Pipeline([\n",
    "    ('vect', CountVectorizer(stop_words='english', binary=True)),\n",
    "    ('clf', MultinomialNB())\n",
    "])"
   ]
  },
  {
   "cell_type": "code",
   "execution_count": 45,
   "id": "advisory-bundle",
   "metadata": {},
   "outputs": [
    {
     "data": {
      "text/plain": [
       "Pipeline(steps=[('vect', CountVectorizer(binary=True, stop_words='english')),\n",
       "                ('clf', MultinomialNB())])"
      ]
     },
     "execution_count": 45,
     "metadata": {},
     "output_type": "execute_result"
    }
   ],
   "source": [
    "clf.fit(X_train, y_train)"
   ]
  },
  {
   "cell_type": "code",
   "execution_count": 46,
   "id": "personalized-breast",
   "metadata": {},
   "outputs": [
    {
     "data": {
      "text/plain": [
       "0.8758488964346349"
      ]
     },
     "execution_count": 46,
     "metadata": {},
     "output_type": "execute_result"
    }
   ],
   "source": [
    "clf.score(X_test, y_test)"
   ]
  },
  {
   "cell_type": "code",
   "execution_count": 47,
   "id": "obvious-envelope",
   "metadata": {},
   "outputs": [
    {
     "data": {
      "text/plain": [
       "0.9607329842931938"
      ]
     },
     "execution_count": 47,
     "metadata": {},
     "output_type": "execute_result"
    }
   ],
   "source": [
    "clf.score(X_train, y_train)"
   ]
  },
  {
   "cell_type": "markdown",
   "id": "traditional-porcelain",
   "metadata": {},
   "source": [
    "## Creating a Model Without a pipeline"
   ]
  },
  {
   "cell_type": "code",
   "execution_count": 48,
   "id": "another-shelf",
   "metadata": {},
   "outputs": [],
   "source": [
    "model = MultinomialNB()"
   ]
  },
  {
   "cell_type": "code",
   "execution_count": 49,
   "id": "gorgeous-rochester",
   "metadata": {},
   "outputs": [
    {
     "data": {
      "text/plain": [
       "MultinomialNB()"
      ]
     },
     "execution_count": 49,
     "metadata": {},
     "output_type": "execute_result"
    }
   ],
   "source": [
    "model.fit(X_train_vectors, y_train)"
   ]
  },
  {
   "cell_type": "code",
   "execution_count": 50,
   "id": "pending-nerve",
   "metadata": {},
   "outputs": [
    {
     "data": {
      "text/plain": [
       "0.9607329842931938"
      ]
     },
     "execution_count": 50,
     "metadata": {},
     "output_type": "execute_result"
    }
   ],
   "source": [
    "model.score(X_train_vectors, y_train)"
   ]
  },
  {
   "cell_type": "code",
   "execution_count": 51,
   "id": "advance-chosen",
   "metadata": {},
   "outputs": [
    {
     "data": {
      "text/plain": [
       "0.8758488964346349"
      ]
     },
     "execution_count": 51,
     "metadata": {},
     "output_type": "execute_result"
    }
   ],
   "source": [
    "model.score(X_test_vectors, y_test)"
   ]
  },
  {
   "cell_type": "code",
   "execution_count": 52,
   "id": "endangered-multimedia",
   "metadata": {},
   "outputs": [],
   "source": [
    "x_pred_vectors = vectorizer.transform(X_test[:5])"
   ]
  },
  {
   "cell_type": "code",
   "execution_count": 53,
   "id": "rubber-cleaners",
   "metadata": {},
   "outputs": [
    {
     "data": {
      "text/plain": [
       "(array([ 8, 15, 13,  7, 18]), array([ 8, 15, 13, 12, 19]))"
      ]
     },
     "execution_count": 53,
     "metadata": {},
     "output_type": "execute_result"
    }
   ],
   "source": [
    "model.predict(x_pred_vectors), y_test[:5]"
   ]
  },
  {
   "cell_type": "code",
   "execution_count": null,
   "id": "prescription-february",
   "metadata": {},
   "outputs": [],
   "source": []
  },
  {
   "cell_type": "code",
   "execution_count": null,
   "id": "waiting-inclusion",
   "metadata": {},
   "outputs": [],
   "source": [
    "## The GridSearchCV\n",
    "> This helps us to find the best parameters for our classifiers"
   ]
  },
  {
   "cell_type": "code",
   "execution_count": 55,
   "id": "wicked-poverty",
   "metadata": {},
   "outputs": [],
   "source": [
    "from sklearn.model_selection import GridSearchCV"
   ]
  },
  {
   "cell_type": "code",
   "execution_count": 70,
   "id": "pending-evans",
   "metadata": {},
   "outputs": [],
   "source": [
    "parameters = {\n",
    " 'clf__fit_prior': np.array([True, False]),\n",
    "  'clf__alpha': np.array([0,  .5, 1]),\n",
    " }\n",
    "clf = Pipeline([\n",
    "    ('vect', CountVectorizer()),\n",
    "    ('clf', MultinomialNB())\n",
    "])\n",
    "gs = GridSearchCV(clf, parameters, verbose=2, refit=False, cv=3)"
   ]
  },
  {
   "cell_type": "code",
   "execution_count": 68,
   "id": "fifty-junction",
   "metadata": {},
   "outputs": [
    {
     "data": {
      "text/plain": [
       "{'memory': None,\n",
       " 'steps': [('vect', CountVectorizer()), ('clf', MultinomialNB())],\n",
       " 'verbose': False,\n",
       " 'vect': CountVectorizer(),\n",
       " 'clf': MultinomialNB(),\n",
       " 'vect__analyzer': 'word',\n",
       " 'vect__binary': False,\n",
       " 'vect__decode_error': 'strict',\n",
       " 'vect__dtype': numpy.int64,\n",
       " 'vect__encoding': 'utf-8',\n",
       " 'vect__input': 'content',\n",
       " 'vect__lowercase': True,\n",
       " 'vect__max_df': 1.0,\n",
       " 'vect__max_features': None,\n",
       " 'vect__min_df': 1,\n",
       " 'vect__ngram_range': (1, 1),\n",
       " 'vect__preprocessor': None,\n",
       " 'vect__stop_words': None,\n",
       " 'vect__strip_accents': None,\n",
       " 'vect__token_pattern': '(?u)\\\\b\\\\w\\\\w+\\\\b',\n",
       " 'vect__tokenizer': None,\n",
       " 'vect__vocabulary': None,\n",
       " 'clf__alpha': 1.0,\n",
       " 'clf__class_prior': None,\n",
       " 'clf__fit_prior': True}"
      ]
     },
     "execution_count": 68,
     "metadata": {},
     "output_type": "execute_result"
    }
   ],
   "source": [
    "clf.get_params()"
   ]
  },
  {
   "cell_type": "code",
   "execution_count": 71,
   "id": "novel-brain",
   "metadata": {},
   "outputs": [
    {
     "name": "stdout",
     "output_type": "stream",
     "text": [
      "Fitting 3 folds for each of 6 candidates, totalling 18 fits\n"
     ]
    },
    {
     "name": "stderr",
     "output_type": "stream",
     "text": [
      "C:\\Users\\crisp\\Documents\\anaconda3\\lib\\site-packages\\sklearn\\naive_bayes.py:508: UserWarning: alpha too small will result in numeric errors, setting alpha = 1.0e-10\n",
      "  warnings.warn('alpha too small will result in numeric errors, '\n"
     ]
    },
    {
     "name": "stdout",
     "output_type": "stream",
     "text": [
      "[CV] END ................clf__alpha=0.0, clf__fit_prior=True; total time=   7.0s\n"
     ]
    },
    {
     "name": "stderr",
     "output_type": "stream",
     "text": [
      "C:\\Users\\crisp\\Documents\\anaconda3\\lib\\site-packages\\sklearn\\naive_bayes.py:508: UserWarning: alpha too small will result in numeric errors, setting alpha = 1.0e-10\n",
      "  warnings.warn('alpha too small will result in numeric errors, '\n"
     ]
    },
    {
     "name": "stdout",
     "output_type": "stream",
     "text": [
      "[CV] END ................clf__alpha=0.0, clf__fit_prior=True; total time=   6.2s\n"
     ]
    },
    {
     "name": "stderr",
     "output_type": "stream",
     "text": [
      "C:\\Users\\crisp\\Documents\\anaconda3\\lib\\site-packages\\sklearn\\naive_bayes.py:508: UserWarning: alpha too small will result in numeric errors, setting alpha = 1.0e-10\n",
      "  warnings.warn('alpha too small will result in numeric errors, '\n"
     ]
    },
    {
     "name": "stdout",
     "output_type": "stream",
     "text": [
      "[CV] END ................clf__alpha=0.0, clf__fit_prior=True; total time=   7.1s\n"
     ]
    },
    {
     "name": "stderr",
     "output_type": "stream",
     "text": [
      "C:\\Users\\crisp\\Documents\\anaconda3\\lib\\site-packages\\sklearn\\naive_bayes.py:508: UserWarning: alpha too small will result in numeric errors, setting alpha = 1.0e-10\n",
      "  warnings.warn('alpha too small will result in numeric errors, '\n"
     ]
    },
    {
     "name": "stdout",
     "output_type": "stream",
     "text": [
      "[CV] END ...............clf__alpha=0.0, clf__fit_prior=False; total time=   6.8s\n"
     ]
    },
    {
     "name": "stderr",
     "output_type": "stream",
     "text": [
      "C:\\Users\\crisp\\Documents\\anaconda3\\lib\\site-packages\\sklearn\\naive_bayes.py:508: UserWarning: alpha too small will result in numeric errors, setting alpha = 1.0e-10\n",
      "  warnings.warn('alpha too small will result in numeric errors, '\n"
     ]
    },
    {
     "name": "stdout",
     "output_type": "stream",
     "text": [
      "[CV] END ...............clf__alpha=0.0, clf__fit_prior=False; total time=   6.8s\n"
     ]
    },
    {
     "name": "stderr",
     "output_type": "stream",
     "text": [
      "C:\\Users\\crisp\\Documents\\anaconda3\\lib\\site-packages\\sklearn\\naive_bayes.py:508: UserWarning: alpha too small will result in numeric errors, setting alpha = 1.0e-10\n",
      "  warnings.warn('alpha too small will result in numeric errors, '\n"
     ]
    },
    {
     "name": "stdout",
     "output_type": "stream",
     "text": [
      "[CV] END ...............clf__alpha=0.0, clf__fit_prior=False; total time=   6.5s\n",
      "[CV] END ................clf__alpha=0.5, clf__fit_prior=True; total time=   6.7s\n",
      "[CV] END ................clf__alpha=0.5, clf__fit_prior=True; total time=   6.7s\n",
      "[CV] END ................clf__alpha=0.5, clf__fit_prior=True; total time=   6.3s\n",
      "[CV] END ...............clf__alpha=0.5, clf__fit_prior=False; total time=   6.7s\n",
      "[CV] END ...............clf__alpha=0.5, clf__fit_prior=False; total time=   6.7s\n",
      "[CV] END ...............clf__alpha=0.5, clf__fit_prior=False; total time=   6.4s\n",
      "[CV] END ................clf__alpha=1.0, clf__fit_prior=True; total time=   6.3s\n",
      "[CV] END ................clf__alpha=1.0, clf__fit_prior=True; total time=   6.3s\n",
      "[CV] END ................clf__alpha=1.0, clf__fit_prior=True; total time=   6.7s\n",
      "[CV] END ...............clf__alpha=1.0, clf__fit_prior=False; total time=   7.0s\n",
      "[CV] END ...............clf__alpha=1.0, clf__fit_prior=False; total time=   6.4s\n",
      "[CV] END ...............clf__alpha=1.0, clf__fit_prior=False; total time=   6.9s\n"
     ]
    },
    {
     "data": {
      "text/plain": [
       "GridSearchCV(cv=3,\n",
       "             estimator=Pipeline(steps=[('vect', CountVectorizer()),\n",
       "                                       ('clf', MultinomialNB())]),\n",
       "             param_grid={'clf__alpha': array([0. , 0.5, 1. ]),\n",
       "                         'clf__fit_prior': array([ True, False])},\n",
       "             refit=False, verbose=2)"
      ]
     },
     "execution_count": 71,
     "metadata": {},
     "output_type": "execute_result"
    }
   ],
   "source": [
    "gs.fit(X_train, y_train)"
   ]
  },
  {
   "cell_type": "code",
   "execution_count": 72,
   "id": "interstate-staff",
   "metadata": {},
   "outputs": [
    {
     "data": {
      "text/plain": [
       "0.861680680995976"
      ]
     },
     "execution_count": 72,
     "metadata": {},
     "output_type": "execute_result"
    }
   ],
   "source": [
    "gs.best_score_"
   ]
  },
  {
   "cell_type": "code",
   "execution_count": 73,
   "id": "skilled-proposition",
   "metadata": {},
   "outputs": [
    {
     "data": {
      "text/plain": [
       "{'clf__alpha': 0.0, 'clf__fit_prior': False}"
      ]
     },
     "execution_count": 73,
     "metadata": {},
     "output_type": "execute_result"
    }
   ],
   "source": [
    "gs.best_params_"
   ]
  },
  {
   "cell_type": "markdown",
   "id": "optimum-milton",
   "metadata": {},
   "source": [
    "### Summary"
   ]
  },
  {
   "cell_type": "markdown",
   "id": "pediatric-hanging",
   "metadata": {},
   "source": [
    "* **Semi-supervised learning**  methods are the middle ground between\n",
    "supervised and unsupervised learning. They combine small amounts of\n",
    "annotated data with huge amounts of unlabeled data. Usually, unlabeled\n",
    "data can reveal the underlying distribution of elements and obtain better\n",
    "results in combination with a small, labeled dataset.\n",
    "* ** Active learning** is a particular case within semi-supervised methods. Again,\n",
    "it is useful when labeled data is scarce or hard to obtain. In active learning,\n",
    "the algorithm actively queries a human expert to answer the label of certain\n",
    "unlabeled instances, and thus learn the concept over a reduced set of labeled\n",
    "instances.\n",
    "* **Reinforcement learning** proposes methods where an agent learns from\n",
    "feedback (rewards or reinforcements) after performing actions within an\n",
    "environment. The agent learns to perform a task by trying to maximize the\n",
    "cumulative reward. These methods have been very successful in robotics and\n",
    "video games.\n",
    "* **Sequential classification** (very commonly used in **Natural Language\n",
    "Processing (NLP)**) assigns a sequence of labels to a sequence of items; for\n",
    "example, the parts of speech of the words in a sentence"
   ]
  },
  {
   "cell_type": "code",
   "execution_count": null,
   "id": "faced-stephen",
   "metadata": {},
   "outputs": [],
   "source": []
  }
 ],
 "metadata": {
  "kernelspec": {
   "display_name": "Python 3",
   "language": "python",
   "name": "python3"
  },
  "language_info": {
   "codemirror_mode": {
    "name": "ipython",
    "version": 3
   },
   "file_extension": ".py",
   "mimetype": "text/x-python",
   "name": "python",
   "nbconvert_exporter": "python",
   "pygments_lexer": "ipython3",
   "version": "3.8.5"
  }
 },
 "nbformat": 4,
 "nbformat_minor": 5
}
