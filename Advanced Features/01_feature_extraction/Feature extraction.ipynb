{
 "cells": [
  {
   "cell_type": "code",
   "execution_count": 1,
   "id": "naked-terrorist",
   "metadata": {},
   "outputs": [],
   "source": [
    "import numpy as np\n",
    "import pandas as pd"
   ]
  },
  {
   "cell_type": "markdown",
   "id": "present-patio",
   "metadata": {},
   "source": [
    "#### OneHotEncoder\n",
    "> Encode categorical features as a one-hot numeric array.\n"
   ]
  },
  {
   "cell_type": "code",
   "execution_count": 2,
   "id": "funny-concern",
   "metadata": {},
   "outputs": [],
   "source": [
    "from sklearn.preprocessing import OneHotEncoder"
   ]
  },
  {
   "cell_type": "code",
   "execution_count": 7,
   "id": "sufficient-posting",
   "metadata": {},
   "outputs": [],
   "source": [
    "X = np.array([\"Male\", \"Female\", \"Female\", \"Male\", \"Female\"])"
   ]
  },
  {
   "cell_type": "code",
   "execution_count": 5,
   "id": "elect-craft",
   "metadata": {},
   "outputs": [],
   "source": [
    "enc = OneHotEncoder(handle_unknown='ignore')"
   ]
  },
  {
   "cell_type": "code",
   "execution_count": 8,
   "id": "pleased-medicaid",
   "metadata": {},
   "outputs": [
    {
     "data": {
      "text/plain": [
       "OneHotEncoder(handle_unknown='ignore')"
      ]
     },
     "execution_count": 8,
     "metadata": {},
     "output_type": "execute_result"
    }
   ],
   "source": [
    "enc.fit(X.reshape(1, -1))"
   ]
  },
  {
   "cell_type": "code",
   "execution_count": 10,
   "id": "surrounded-sunrise",
   "metadata": {},
   "outputs": [
    {
     "data": {
      "text/plain": [
       "[array(['Male'], dtype='<U6'),\n",
       " array(['Female'], dtype='<U6'),\n",
       " array(['Female'], dtype='<U6'),\n",
       " array(['Male'], dtype='<U6'),\n",
       " array(['Female'], dtype='<U6')]"
      ]
     },
     "execution_count": 10,
     "metadata": {},
     "output_type": "execute_result"
    }
   ],
   "source": [
    "enc.categories_"
   ]
  },
  {
   "cell_type": "code",
   "execution_count": 13,
   "id": "attended-basket",
   "metadata": {},
   "outputs": [
    {
     "data": {
      "text/plain": [
       "array([[1., 1., 0., 0., 1.]])"
      ]
     },
     "execution_count": 13,
     "metadata": {},
     "output_type": "execute_result"
    }
   ],
   "source": [
    "enc.transform(np.array([\"Male\", \"Female\", \"Male\", \"Female\", \"Female\"]).reshape(1, -1)).toarray()"
   ]
  },
  {
   "cell_type": "markdown",
   "id": "hungry-definition",
   "metadata": {},
   "source": [
    "#### Docs Example"
   ]
  },
  {
   "cell_type": "code",
   "execution_count": 14,
   "id": "simplified-initial",
   "metadata": {},
   "outputs": [
    {
     "data": {
      "text/plain": [
       "[array(['Female', 'Male'], dtype=object), array([1, 2, 3], dtype=object)]"
      ]
     },
     "execution_count": 14,
     "metadata": {},
     "output_type": "execute_result"
    }
   ],
   "source": [
    "X = [['Male', 1], ['Female', 3], ['Female', 2]]\n",
    "enc.fit(X)\n",
    "enc.categories_"
   ]
  },
  {
   "cell_type": "code",
   "execution_count": 16,
   "id": "defined-verification",
   "metadata": {},
   "outputs": [
    {
     "data": {
      "text/plain": [
       "array([[1., 0., 1., 0., 0.],\n",
       "       [0., 1., 0., 0., 0.]])"
      ]
     },
     "execution_count": 16,
     "metadata": {},
     "output_type": "execute_result"
    }
   ],
   "source": [
    "enc.transform([['Female', 1], ['Male', 4]]).toarray()"
   ]
  },
  {
   "cell_type": "markdown",
   "id": "integral-insider",
   "metadata": {},
   "source": [
    "### LabelEncoder\n",
    "* Encode target labels with value between 0 and n_classes-1."
   ]
  },
  {
   "cell_type": "code",
   "execution_count": 18,
   "id": "subtle-midwest",
   "metadata": {},
   "outputs": [],
   "source": [
    "from sklearn.preprocessing import LabelEncoder"
   ]
  },
  {
   "cell_type": "code",
   "execution_count": 19,
   "id": "frozen-charity",
   "metadata": {},
   "outputs": [],
   "source": [
    "enc = LabelEncoder()"
   ]
  },
  {
   "cell_type": "code",
   "execution_count": 20,
   "id": "separated-barbados",
   "metadata": {},
   "outputs": [
    {
     "data": {
      "text/plain": [
       "LabelEncoder()"
      ]
     },
     "execution_count": 20,
     "metadata": {},
     "output_type": "execute_result"
    }
   ],
   "source": [
    "X = np.array([\"Male\", \"Female\", \"Female\", \"Male\", \"Female\"])\n",
    "enc.fit(X)"
   ]
  },
  {
   "cell_type": "code",
   "execution_count": 21,
   "id": "fitted-creator",
   "metadata": {},
   "outputs": [
    {
     "data": {
      "text/plain": [
       "array(['Female', 'Male'], dtype='<U6')"
      ]
     },
     "execution_count": 21,
     "metadata": {},
     "output_type": "execute_result"
    }
   ],
   "source": [
    "enc.classes_"
   ]
  },
  {
   "cell_type": "code",
   "execution_count": 27,
   "id": "lonely-quest",
   "metadata": {},
   "outputs": [
    {
     "data": {
      "text/plain": [
       "array([0, 1, 1, 0])"
      ]
     },
     "execution_count": 27,
     "metadata": {},
     "output_type": "execute_result"
    }
   ],
   "source": [
    "enc.transform([\"Female\", \"Male\", \"Male\", \"Female\"])"
   ]
  },
  {
   "cell_type": "code",
   "execution_count": null,
   "id": "interior-timber",
   "metadata": {},
   "outputs": [],
   "source": []
  }
 ],
 "metadata": {
  "kernelspec": {
   "display_name": "Python 3",
   "language": "python",
   "name": "python3"
  },
  "language_info": {
   "codemirror_mode": {
    "name": "ipython",
    "version": 3
   },
   "file_extension": ".py",
   "mimetype": "text/x-python",
   "name": "python",
   "nbconvert_exporter": "python",
   "pygments_lexer": "ipython3",
   "version": "3.8.5"
  }
 },
 "nbformat": 4,
 "nbformat_minor": 5
}
