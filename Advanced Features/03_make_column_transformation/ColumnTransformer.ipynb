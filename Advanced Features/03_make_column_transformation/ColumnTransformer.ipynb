{
 "cells": [
  {
   "cell_type": "markdown",
   "id": "motivated-ranking",
   "metadata": {},
   "source": [
    "## Data Transformation\n",
    "\n",
    "### ``ColumnTransformer``\n",
    "* Applies transformers to columns of an array or pandas DataFrame.\n",
    "```\n",
    "class sklearn.compose.ColumnTransformer(transformers, *, remainder='drop', sparse_threshold=0.3, n_jobs=None, transformer_weights=None, verbose=False)\n",
    "```\n",
    "* [Docs](https://scikit-learn.org/stable/modules/generated/sklearn.compose.ColumnTransformer.html)\n",
    "\n",
    "> **OR**\n",
    "\n",
    "### make_column_transformer\n",
    "\n",
    "```\n",
    "sklearn.compose.make_column_transformer(*transformers, remainder='drop', sparse_threshold=0.3, n_jobs=None, verbose=False)\n",
    "```\n",
    "* [Docs](https://scikit-learn.org/stable/modules/generated/sklearn.compose.make_column_transformer.html)\n"
   ]
  },
  {
   "cell_type": "markdown",
   "id": "starting-beginning",
   "metadata": {},
   "source": [
    "### Example:\n",
    "> Let's make some transformation on our pandas dataframe `social_network_adds.csv` let's say we want to transform **gender** using `OneHotEncoder()`, and **estimated salary**,  **age** and **purchased** columns using the `StandardScaler()`. We can do it as follows."
   ]
  },
  {
   "cell_type": "code",
   "execution_count": 13,
   "id": "covered-variety",
   "metadata": {},
   "outputs": [],
   "source": [
    "import pandas as pd\n",
    "from sklearn.compose import ColumnTransformer, make_column_transformer\n",
    "from sklearn.preprocessing import StandardScaler, OneHotEncoder"
   ]
  },
  {
   "cell_type": "code",
   "execution_count": 9,
   "id": "precious-parts",
   "metadata": {},
   "outputs": [
    {
     "data": {
      "text/html": [
       "<div>\n",
       "<style scoped>\n",
       "    .dataframe tbody tr th:only-of-type {\n",
       "        vertical-align: middle;\n",
       "    }\n",
       "\n",
       "    .dataframe tbody tr th {\n",
       "        vertical-align: top;\n",
       "    }\n",
       "\n",
       "    .dataframe thead th {\n",
       "        text-align: right;\n",
       "    }\n",
       "</style>\n",
       "<table border=\"1\" class=\"dataframe\">\n",
       "  <thead>\n",
       "    <tr style=\"text-align: right;\">\n",
       "      <th></th>\n",
       "      <th>User ID</th>\n",
       "      <th>Gender</th>\n",
       "      <th>Age</th>\n",
       "      <th>EstimatedSalary</th>\n",
       "      <th>Purchased</th>\n",
       "    </tr>\n",
       "  </thead>\n",
       "  <tbody>\n",
       "    <tr>\n",
       "      <th>0</th>\n",
       "      <td>15624510</td>\n",
       "      <td>Male</td>\n",
       "      <td>19</td>\n",
       "      <td>19000</td>\n",
       "      <td>0</td>\n",
       "    </tr>\n",
       "    <tr>\n",
       "      <th>1</th>\n",
       "      <td>15810944</td>\n",
       "      <td>Male</td>\n",
       "      <td>35</td>\n",
       "      <td>20000</td>\n",
       "      <td>0</td>\n",
       "    </tr>\n",
       "    <tr>\n",
       "      <th>2</th>\n",
       "      <td>15668575</td>\n",
       "      <td>Female</td>\n",
       "      <td>26</td>\n",
       "      <td>43000</td>\n",
       "      <td>0</td>\n",
       "    </tr>\n",
       "    <tr>\n",
       "      <th>3</th>\n",
       "      <td>15603246</td>\n",
       "      <td>Female</td>\n",
       "      <td>27</td>\n",
       "      <td>57000</td>\n",
       "      <td>0</td>\n",
       "    </tr>\n",
       "    <tr>\n",
       "      <th>4</th>\n",
       "      <td>15804002</td>\n",
       "      <td>Male</td>\n",
       "      <td>19</td>\n",
       "      <td>76000</td>\n",
       "      <td>0</td>\n",
       "    </tr>\n",
       "  </tbody>\n",
       "</table>\n",
       "</div>"
      ],
      "text/plain": [
       "    User ID  Gender  Age  EstimatedSalary  Purchased\n",
       "0  15624510    Male   19            19000          0\n",
       "1  15810944    Male   35            20000          0\n",
       "2  15668575  Female   26            43000          0\n",
       "3  15603246  Female   27            57000          0\n",
       "4  15804002    Male   19            76000          0"
      ]
     },
     "execution_count": 9,
     "metadata": {},
     "output_type": "execute_result"
    }
   ],
   "source": [
    "dataframe = pd.read_csv('Social_Network_Ads.csv')\n",
    "dataframe.head()"
   ]
  },
  {
   "cell_type": "code",
   "execution_count": 15,
   "id": "protecting-frequency",
   "metadata": {},
   "outputs": [
    {
     "data": {
      "text/plain": [
       "ColumnTransformer(transformers=[('standardscaler', StandardScaler(),\n",
       "                                 ['Age', 'EstimatedSalary']),\n",
       "                                ('onehotencoder', OneHotEncoder(), ['Gender'])])"
      ]
     },
     "execution_count": 15,
     "metadata": {},
     "output_type": "execute_result"
    }
   ],
   "source": [
    "column_transfomer = ColumnTransformer(\n",
    "   [ (\"standardscaler\", StandardScaler(), ['Age', 'EstimatedSalary']),\n",
    "    ('onehotencoder', OneHotEncoder(), ['Gender'])]\n",
    ")\n",
    "column_transfomer"
   ]
  },
  {
   "cell_type": "markdown",
   "id": "rural-tradition",
   "metadata": {},
   "source": [
    "> **OR**"
   ]
  },
  {
   "cell_type": "code",
   "execution_count": 18,
   "id": "incorrect-footage",
   "metadata": {},
   "outputs": [
    {
     "data": {
      "text/plain": [
       "ColumnTransformer(transformers=[('standardscaler', StandardScaler(),\n",
       "                                 ['Age', 'EstimatedSalary', 'Purchased']),\n",
       "                                ('onehotencoder', OneHotEncoder(), ['Gender'])])"
      ]
     },
     "execution_count": 18,
     "metadata": {},
     "output_type": "execute_result"
    }
   ],
   "source": [
    "column_transfomer2 = make_column_transformer(\n",
    "   (StandardScaler(), ['Age', 'EstimatedSalary', 'Purchased']),\n",
    "    (OneHotEncoder(), ['Gender'])\n",
    ")\n",
    "column_transfomer2"
   ]
  },
  {
   "cell_type": "markdown",
   "id": "elementary-reflection",
   "metadata": {},
   "source": [
    "### Fitting the data"
   ]
  },
  {
   "cell_type": "code",
   "execution_count": 19,
   "id": "divided-ground",
   "metadata": {},
   "outputs": [
    {
     "data": {
      "text/plain": [
       "array([[-1.78179743, -1.49004624, -0.74593581,  0.        ,  1.        ],\n",
       "       [-0.25358736, -1.46068138, -0.74593581,  0.        ,  1.        ],\n",
       "       [-1.11320552, -0.78528968, -0.74593581,  1.        ,  0.        ],\n",
       "       ...,\n",
       "       [ 1.17910958, -1.46068138,  1.34059793,  1.        ,  0.        ],\n",
       "       [-0.15807423, -1.07893824, -0.74593581,  0.        ,  1.        ],\n",
       "       [ 1.08359645, -0.99084367,  1.34059793,  1.        ,  0.        ]])"
      ]
     },
     "execution_count": 19,
     "metadata": {},
     "output_type": "execute_result"
    }
   ],
   "source": [
    "newDF = column_transfomer2.fit_transform(dataframe)\n",
    "newDF"
   ]
  },
  {
   "cell_type": "markdown",
   "id": "written-greene",
   "metadata": {},
   "source": [
    "> **Note** - We can split our data into train, then fit on the train data then transform on the train and test data. **Example:**\n",
    "\n",
    "```\n",
    "column_transfomer.fit(X_train)\n",
    "\n",
    "X_train_transformed = column_transfomer.transform(X_train)\n",
    "X_test_transformed = column_transfomer.transform(X_test)\n",
    "\n",
    "```\n",
    "\n",
    "**The transformer always returns a numpy array after all the transformation.**"
   ]
  }
 ],
 "metadata": {
  "kernelspec": {
   "display_name": "Python 3",
   "language": "python",
   "name": "python3"
  },
  "language_info": {
   "codemirror_mode": {
    "name": "ipython",
    "version": 3
   },
   "file_extension": ".py",
   "mimetype": "text/x-python",
   "name": "python",
   "nbconvert_exporter": "python",
   "pygments_lexer": "ipython3",
   "version": "3.8.5"
  }
 },
 "nbformat": 4,
 "nbformat_minor": 5
}
