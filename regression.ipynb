{
 "cells": [
  {
   "cell_type": "markdown",
   "id": "noble-bloom",
   "metadata": {},
   "source": [
    "## Regression\n",
    "> The main difference between **Regression** and **Classification** algorithms that **Regression** algorithms are used to predict the **continuous** values such as **price**, **salary**, **age**, etc. and **Classification** algorithms are used to predict/Classify the discrete values such as **Male or Female**, **True or False**, **Spam or Not Spam**, etc."
   ]
  },
  {
   "cell_type": "code",
   "execution_count": 1,
   "id": "rising-wiring",
   "metadata": {},
   "outputs": [],
   "source": [
    "from sklearn import datasets\n",
    "import seaborn as sns\n",
    "import matplotlib.pyplot as plt\n",
    "import numpy as np\n",
    "import pandas as pd"
   ]
  },
  {
   "cell_type": "code",
   "execution_count": 2,
   "id": "stopped-ministry",
   "metadata": {},
   "outputs": [
    {
     "data": {
      "text/plain": [
       "['__all__',\n",
       " '__builtins__',\n",
       " '__cached__',\n",
       " '__doc__',\n",
       " '__file__',\n",
       " '__loader__',\n",
       " '__name__',\n",
       " '__package__',\n",
       " '__path__',\n",
       " '__spec__',\n",
       " '_base',\n",
       " '_california_housing',\n",
       " '_covtype',\n",
       " '_kddcup99',\n",
       " '_lfw',\n",
       " '_olivetti_faces',\n",
       " '_openml',\n",
       " '_rcv1',\n",
       " '_samples_generator',\n",
       " '_species_distributions',\n",
       " '_svmlight_format_fast',\n",
       " '_svmlight_format_io',\n",
       " '_twenty_newsgroups',\n",
       " 'clear_data_home',\n",
       " 'dump_svmlight_file',\n",
       " 'fetch_20newsgroups',\n",
       " 'fetch_20newsgroups_vectorized',\n",
       " 'fetch_california_housing',\n",
       " 'fetch_covtype',\n",
       " 'fetch_kddcup99',\n",
       " 'fetch_lfw_pairs',\n",
       " 'fetch_lfw_people',\n",
       " 'fetch_olivetti_faces',\n",
       " 'fetch_openml',\n",
       " 'fetch_rcv1',\n",
       " 'fetch_species_distributions',\n",
       " 'get_data_home',\n",
       " 'load_boston',\n",
       " 'load_breast_cancer',\n",
       " 'load_diabetes',\n",
       " 'load_digits',\n",
       " 'load_files',\n",
       " 'load_iris',\n",
       " 'load_linnerud',\n",
       " 'load_sample_image',\n",
       " 'load_sample_images',\n",
       " 'load_svmlight_file',\n",
       " 'load_svmlight_files',\n",
       " 'load_wine',\n",
       " 'make_biclusters',\n",
       " 'make_blobs',\n",
       " 'make_checkerboard',\n",
       " 'make_circles',\n",
       " 'make_classification',\n",
       " 'make_friedman1',\n",
       " 'make_friedman2',\n",
       " 'make_friedman3',\n",
       " 'make_gaussian_quantiles',\n",
       " 'make_hastie_10_2',\n",
       " 'make_low_rank_matrix',\n",
       " 'make_moons',\n",
       " 'make_multilabel_classification',\n",
       " 'make_regression',\n",
       " 'make_s_curve',\n",
       " 'make_sparse_coded_signal',\n",
       " 'make_sparse_spd_matrix',\n",
       " 'make_sparse_uncorrelated',\n",
       " 'make_spd_matrix',\n",
       " 'make_swiss_roll']"
      ]
     },
     "execution_count": 2,
     "metadata": {},
     "output_type": "execute_result"
    }
   ],
   "source": [
    "dir(datasets)"
   ]
  },
  {
   "cell_type": "markdown",
   "id": "alpha-domestic",
   "metadata": {},
   "source": [
    "### Simple Regression Example using Support Vector Regression (SVR)"
   ]
  },
  {
   "cell_type": "code",
   "execution_count": 3,
   "id": "reasonable-yellow",
   "metadata": {},
   "outputs": [],
   "source": [
    "from sklearn.svm import SVR"
   ]
  },
  {
   "cell_type": "code",
   "execution_count": 4,
   "id": "naughty-discharge",
   "metadata": {},
   "outputs": [],
   "source": [
    "X = np.array([[0,0], [2,2], [4, 4], [9,9], [20, 20]])\n",
    "y = np.array([0, 2, 4, 9, 20])"
   ]
  },
  {
   "cell_type": "code",
   "execution_count": 5,
   "id": "opposed-description",
   "metadata": {},
   "outputs": [
    {
     "data": {
      "text/plain": [
       "SVR()"
      ]
     },
     "execution_count": 5,
     "metadata": {},
     "output_type": "execute_result"
    }
   ],
   "source": [
    "model = SVR()\n",
    "model.fit(X, y)"
   ]
  },
  {
   "cell_type": "code",
   "execution_count": 6,
   "id": "centered-fitting",
   "metadata": {},
   "outputs": [
    {
     "data": {
      "text/plain": [
       "array([3.49701406])"
      ]
     },
     "execution_count": 6,
     "metadata": {},
     "output_type": "execute_result"
    }
   ],
   "source": [
    "model.predict(np.array([[2,2]]))"
   ]
  },
  {
   "cell_type": "code",
   "execution_count": 7,
   "id": "vulnerable-tooth",
   "metadata": {},
   "outputs": [
    {
     "data": {
      "text/plain": [
       "0.14982203967374197"
      ]
     },
     "execution_count": 7,
     "metadata": {},
     "output_type": "execute_result"
    }
   ],
   "source": [
    "model.score(X, y)"
   ]
  },
  {
   "cell_type": "markdown",
   "id": "dense-second",
   "metadata": {},
   "source": [
    "### Simple Regression Example using LinearRegression"
   ]
  },
  {
   "cell_type": "code",
   "execution_count": 8,
   "id": "parallel-large",
   "metadata": {},
   "outputs": [],
   "source": [
    "from sklearn.linear_model import LinearRegression"
   ]
  },
  {
   "cell_type": "code",
   "execution_count": 9,
   "id": "loaded-holder",
   "metadata": {},
   "outputs": [
    {
     "data": {
      "text/plain": [
       "LinearRegression()"
      ]
     },
     "execution_count": 9,
     "metadata": {},
     "output_type": "execute_result"
    }
   ],
   "source": [
    "model = LinearRegression()\n",
    "model.fit(X, y)"
   ]
  },
  {
   "cell_type": "code",
   "execution_count": 10,
   "id": "coordinate-governor",
   "metadata": {},
   "outputs": [
    {
     "data": {
      "text/plain": [
       "array([ 2. ,  0.5, 10. ])"
      ]
     },
     "execution_count": 10,
     "metadata": {},
     "output_type": "execute_result"
    }
   ],
   "source": [
    "model.predict(np.array([[2, 2], [0, 1], [10, 10]]))"
   ]
  },
  {
   "cell_type": "code",
   "execution_count": 11,
   "id": "experimental-fourth",
   "metadata": {},
   "outputs": [
    {
     "data": {
      "text/plain": [
       "1.0"
      ]
     },
     "execution_count": 11,
     "metadata": {},
     "output_type": "execute_result"
    }
   ],
   "source": [
    "model.score(X, y)"
   ]
  },
  {
   "cell_type": "markdown",
   "id": "alpha-waters",
   "metadata": {},
   "source": [
    "> **Conclusion**: On linear data `LinearRegression` is the best algorithim for marking predictions"
   ]
  },
  {
   "cell_type": "code",
   "execution_count": 12,
   "id": "extra-edgar",
   "metadata": {},
   "outputs": [
    {
     "data": {
      "text/plain": [
       "([0, 2, 4, 9, 20], [0, 2, 4, 9, 20])"
      ]
     },
     "execution_count": 12,
     "metadata": {},
     "output_type": "execute_result"
    }
   ],
   "source": [
    "x_1, x_2 = [], []\n",
    "for i in X:\n",
    "    x_1.append(i[0])\n",
    "    x_2.append(i[1])\n",
    "x_1, x_2"
   ]
  },
  {
   "cell_type": "code",
   "execution_count": 13,
   "id": "silent-aruba",
   "metadata": {},
   "outputs": [
    {
     "data": {
      "image/png": "[encoded data removed]",
      "text/plain": [
       "<Figure size 432x288 with 1 Axes>"
      ]
     },
     "metadata": {
      "needs_background": "light"
     },
     "output_type": "display_data"
    }
   ],
   "source": [
    "plt.scatter(x_1, y)\n",
    "plt.scatter(x_2, y, marker='x')\n",
    "plt.show()"
   ]
  },
  {
   "cell_type": "markdown",
   "id": "protected-sheffield",
   "metadata": {},
   "source": [
    "### Iris Dataset\n",
    "The different flowers has three different categories and 4 featueres which are:\n",
    "        - sepal length in cm\n",
    "        - sepal width in cm\n",
    "        - petal length in cm\n",
    "        - petal width in cm\n",
    "We want to predict the **petal width** of the flower Iris-Setosa given, **(sepal_length, sepal_width, petal_len)**"
   ]
  },
  {
   "cell_type": "code",
   "execution_count": 144,
   "id": "logical-modeling",
   "metadata": {},
   "outputs": [],
   "source": [
    "# According to the descpr the first 50 flowers are iris_setosa\n",
    "iris = datasets.load_iris()\n",
    "iris_setosa = iris.data[:50]"
   ]
  },
  {
   "cell_type": "code",
   "execution_count": null,
   "id": "correct-timber",
   "metadata": {},
   "outputs": [],
   "source": []
  },
  {
   "cell_type": "code",
   "execution_count": 146,
   "id": "palestinian-triple",
   "metadata": {},
   "outputs": [
    {
     "data": {
      "text/html": [
       "<div>\n",
       "<style scoped>\n",
       "    .dataframe tbody tr th:only-of-type {\n",
       "        vertical-align: middle;\n",
       "    }\n",
       "\n",
       "    .dataframe tbody tr th {\n",
       "        vertical-align: top;\n",
       "    }\n",
       "\n",
       "    .dataframe thead th {\n",
       "        text-align: right;\n",
       "    }\n",
       "</style>\n",
       "<table border=\"1\" class=\"dataframe\">\n",
       "  <thead>\n",
       "    <tr style=\"text-align: right;\">\n",
       "      <th></th>\n",
       "      <th>0</th>\n",
       "      <th>1</th>\n",
       "      <th>2</th>\n",
       "      <th>3</th>\n",
       "    </tr>\n",
       "  </thead>\n",
       "  <tbody>\n",
       "    <tr>\n",
       "      <th>0</th>\n",
       "      <td>5.1</td>\n",
       "      <td>3.5</td>\n",
       "      <td>1.4</td>\n",
       "      <td>0.2</td>\n",
       "    </tr>\n",
       "    <tr>\n",
       "      <th>1</th>\n",
       "      <td>4.9</td>\n",
       "      <td>3.0</td>\n",
       "      <td>1.4</td>\n",
       "      <td>0.2</td>\n",
       "    </tr>\n",
       "    <tr>\n",
       "      <th>2</th>\n",
       "      <td>4.7</td>\n",
       "      <td>3.2</td>\n",
       "      <td>1.3</td>\n",
       "      <td>0.2</td>\n",
       "    </tr>\n",
       "    <tr>\n",
       "      <th>3</th>\n",
       "      <td>4.6</td>\n",
       "      <td>3.1</td>\n",
       "      <td>1.5</td>\n",
       "      <td>0.2</td>\n",
       "    </tr>\n",
       "    <tr>\n",
       "      <th>4</th>\n",
       "      <td>5.0</td>\n",
       "      <td>3.6</td>\n",
       "      <td>1.4</td>\n",
       "      <td>0.2</td>\n",
       "    </tr>\n",
       "  </tbody>\n",
       "</table>\n",
       "</div>"
      ],
      "text/plain": [
       "     0    1    2    3\n",
       "0  5.1  3.5  1.4  0.2\n",
       "1  4.9  3.0  1.4  0.2\n",
       "2  4.7  3.2  1.3  0.2\n",
       "3  4.6  3.1  1.5  0.2\n",
       "4  5.0  3.6  1.4  0.2"
      ]
     },
     "execution_count": 146,
     "metadata": {},
     "output_type": "execute_result"
    }
   ],
   "source": [
    "iris_setosa_dataFrame = pd.DataFrame(iris_setosa)\n",
    "iris_setosa_dataFrame.head()"
   ]
  },
  {
   "cell_type": "code",
   "execution_count": 147,
   "id": "ultimate-mambo",
   "metadata": {},
   "outputs": [
    {
     "data": {
      "image/png": "[encoded data removed]",
      "text/plain": [
       "<Figure size 402.375x360 with 1 Axes>"
      ]
     },
     "metadata": {
      "needs_background": "light"
     },
     "output_type": "display_data"
    }
   ],
   "source": [
    "sns.relplot(data = iris_setosa_dataFrame)\n",
    "plt.show()"
   ]
  },
  {
   "cell_type": "markdown",
   "id": "foster-sculpture",
   "metadata": {},
   "source": [
    "### Splitting data into train and test"
   ]
  },
  {
   "cell_type": "code",
   "execution_count": 148,
   "id": "empty-enforcement",
   "metadata": {},
   "outputs": [],
   "source": [
    "from sklearn.model_selection import train_test_split"
   ]
  },
  {
   "cell_type": "code",
   "execution_count": 149,
   "id": "fleet-distinction",
   "metadata": {},
   "outputs": [
    {
     "data": {
      "text/plain": [
       "([[5.1, 3.5, 1.4], [4.9, 3.0, 1.4]], [0.2, 0.2])"
      ]
     },
     "execution_count": 149,
     "metadata": {},
     "output_type": "execute_result"
    }
   ],
   "source": [
    "X, y = [], []\n",
    "\n",
    "for feature in iris_setosa:\n",
    "    X.append(list(feature[:3]))\n",
    "    y.append(feature[-1])\n",
    "    \n",
    "X[:2], y[:2]"
   ]
  },
  {
   "cell_type": "code",
   "execution_count": 150,
   "id": "permanent-tobacco",
   "metadata": {},
   "outputs": [],
   "source": [
    "X = np.array(X)\n",
    "y = np.array(y)"
   ]
  },
  {
   "cell_type": "code",
   "execution_count": 151,
   "id": "accomplished-fossil",
   "metadata": {},
   "outputs": [
    {
     "data": {
      "text/plain": [
       "((45, 3), (45,), (5, 3))"
      ]
     },
     "execution_count": 151,
     "metadata": {},
     "output_type": "execute_result"
    }
   ],
   "source": [
    "X_train, X_test, y_train, y_test = train_test_split(X, y, test_size= .1, random_state=33)\n",
    "X_train.shape, y_train.shape, X_test.shape, "
   ]
  },
  {
   "cell_type": "code",
   "execution_count": 152,
   "id": "bizarre-edgar",
   "metadata": {},
   "outputs": [],
   "source": [
    "from sklearn.preprocessing import StandardScaler\n",
    "scaler = StandardScaler()"
   ]
  },
  {
   "cell_type": "code",
   "execution_count": 153,
   "id": "constant-cable",
   "metadata": {},
   "outputs": [],
   "source": [
    "X_train = scaler.fit_transform(X_train)\n",
    "X_test = scaler.transform(X_test)"
   ]
  },
  {
   "cell_type": "markdown",
   "id": "welsh-trance",
   "metadata": {},
   "source": [
    "### Predictions using Linear Regression"
   ]
  },
  {
   "cell_type": "code",
   "execution_count": 154,
   "id": "surprising-letter",
   "metadata": {},
   "outputs": [],
   "source": [
    "from sklearn.linear_model import LinearRegression"
   ]
  },
  {
   "cell_type": "code",
   "execution_count": 157,
   "id": "personal-showcase",
   "metadata": {},
   "outputs": [
    {
     "data": {
      "text/plain": [
       "LinearRegression()"
      ]
     },
     "execution_count": 157,
     "metadata": {},
     "output_type": "execute_result"
    }
   ],
   "source": [
    "l_mod = LinearRegression()\n",
    "l_mod.fit(X_train, y_train)"
   ]
  },
  {
   "cell_type": "code",
   "execution_count": 156,
   "id": "medical-extraction",
   "metadata": {},
   "outputs": [
    {
     "data": {
      "text/plain": [
       "(array([-0.52096765, -1.08655837, -0.34163533]), 0.3)"
      ]
     },
     "execution_count": 156,
     "metadata": {},
     "output_type": "execute_result"
    }
   ],
   "source": [
    "X_train[0], y_train[0]"
   ]
  },
  {
   "cell_type": "code",
   "execution_count": 26,
   "id": "minute-landing",
   "metadata": {},
   "outputs": [
    {
     "data": {
      "text/plain": [
       "array([0.22341918])"
      ]
     },
     "execution_count": 26,
     "metadata": {},
     "output_type": "execute_result"
    }
   ],
   "source": [
    "l_mod.predict([[-0.52096765, -1.08655837, -0.34163533]])"
   ]
  },
  {
   "cell_type": "code",
   "execution_count": 158,
   "id": "legal-purpose",
   "metadata": {},
   "outputs": [
    {
     "name": "stdout",
     "output_type": "stream",
     "text": [
      "[0.30018067 0.25745678 0.23071922 0.28104273 0.21719275]\n",
      "[0.4 0.2 0.1 0.4 0.3]\n"
     ]
    }
   ],
   "source": [
    "print(l_mod.predict(X_test))\n",
    "print(y_test)"
   ]
  },
  {
   "cell_type": "code",
   "execution_count": 159,
   "id": "through-radical",
   "metadata": {},
   "outputs": [
    {
     "data": {
      "text/plain": [
       "0.1185275147409538"
      ]
     },
     "execution_count": 159,
     "metadata": {},
     "output_type": "execute_result"
    }
   ],
   "source": [
    "l_mod.score(X_train, y_train)"
   ]
  },
  {
   "cell_type": "code",
   "execution_count": 160,
   "id": "surface-civilian",
   "metadata": {},
   "outputs": [],
   "source": [
    "from sklearn.metrics import f1_score\n"
   ]
  },
  {
   "cell_type": "markdown",
   "id": "parallel-hormone",
   "metadata": {},
   "source": [
    "### Predictions using Support Vector Regression"
   ]
  },
  {
   "cell_type": "code",
   "execution_count": 161,
   "id": "surgical-austin",
   "metadata": {},
   "outputs": [],
   "source": [
    "from sklearn.svm import SVR"
   ]
  },
  {
   "cell_type": "code",
   "execution_count": 162,
   "id": "serial-palestinian",
   "metadata": {},
   "outputs": [
    {
     "data": {
      "text/plain": [
       "SVR()"
      ]
     },
     "execution_count": 162,
     "metadata": {},
     "output_type": "execute_result"
    }
   ],
   "source": [
    "svm_mod = SVR()\n",
    "svm_mod.fit(X_train, y_train)"
   ]
  },
  {
   "cell_type": "code",
   "execution_count": 163,
   "id": "historic-function",
   "metadata": {},
   "outputs": [
    {
     "data": {
      "text/plain": [
       "0.36868764406520393"
      ]
     },
     "execution_count": 163,
     "metadata": {},
     "output_type": "execute_result"
    }
   ],
   "source": [
    "svm_mod.score(X_train, y_train)"
   ]
  },
  {
   "cell_type": "code",
   "execution_count": 164,
   "id": "international-mentor",
   "metadata": {},
   "outputs": [
    {
     "data": {
      "text/plain": [
       "array([0.19985105])"
      ]
     },
     "execution_count": 164,
     "metadata": {},
     "output_type": "execute_result"
    }
   ],
   "source": [
    "svm_mod.predict([X_train[0]])"
   ]
  },
  {
   "cell_type": "code",
   "execution_count": null,
   "id": "enormous-playback",
   "metadata": {},
   "outputs": [],
   "source": []
  },
  {
   "cell_type": "markdown",
   "id": "integral-honor",
   "metadata": {},
   "source": [
    "## LogisticRegression\n",
    "> So we use Logistic Regression when our independent variable is categorical, for example male(1) or female(0).\n",
    "\n",
    "#### Types of Logistic Regression:\n",
    "1. **Binary Logistic Regression**\n",
    "    * Only two possible outcomes(Category). Example: The person will buy a car or not.\n",
    "\n",
    "2. **Multinomial Logistic Regression**\n",
    "    * More than two Categories possible without ordering.\n",
    "\n",
    "3. **Ordinal Logistic Regression**\n",
    "    * More than two Categories possible with ordering"
   ]
  },
  {
   "cell_type": "markdown",
   "id": "italian-celebrity",
   "metadata": {},
   "source": [
    "## The Social_Network_Ads dataset and LogisticRegression\n",
    "> Let's try to predict if a person will by a car or not using `Social_Network_Ads.csv` file downloaded"
   ]
  },
  {
   "cell_type": "code",
   "execution_count": 165,
   "id": "perfect-portsmouth",
   "metadata": {},
   "outputs": [
    {
     "data": {
      "text/html": [
       "<div>\n",
       "<style scoped>\n",
       "    .dataframe tbody tr th:only-of-type {\n",
       "        vertical-align: middle;\n",
       "    }\n",
       "\n",
       "    .dataframe tbody tr th {\n",
       "        vertical-align: top;\n",
       "    }\n",
       "\n",
       "    .dataframe thead th {\n",
       "        text-align: right;\n",
       "    }\n",
       "</style>\n",
       "<table border=\"1\" class=\"dataframe\">\n",
       "  <thead>\n",
       "    <tr style=\"text-align: right;\">\n",
       "      <th></th>\n",
       "      <th>User ID</th>\n",
       "      <th>Gender</th>\n",
       "      <th>Age</th>\n",
       "      <th>EstimatedSalary</th>\n",
       "      <th>Purchased</th>\n",
       "    </tr>\n",
       "  </thead>\n",
       "  <tbody>\n",
       "    <tr>\n",
       "      <th>0</th>\n",
       "      <td>15624510</td>\n",
       "      <td>Male</td>\n",
       "      <td>19</td>\n",
       "      <td>19000</td>\n",
       "      <td>0</td>\n",
       "    </tr>\n",
       "    <tr>\n",
       "      <th>1</th>\n",
       "      <td>15810944</td>\n",
       "      <td>Male</td>\n",
       "      <td>35</td>\n",
       "      <td>20000</td>\n",
       "      <td>0</td>\n",
       "    </tr>\n",
       "    <tr>\n",
       "      <th>2</th>\n",
       "      <td>15668575</td>\n",
       "      <td>Female</td>\n",
       "      <td>26</td>\n",
       "      <td>43000</td>\n",
       "      <td>0</td>\n",
       "    </tr>\n",
       "    <tr>\n",
       "      <th>3</th>\n",
       "      <td>15603246</td>\n",
       "      <td>Female</td>\n",
       "      <td>27</td>\n",
       "      <td>57000</td>\n",
       "      <td>0</td>\n",
       "    </tr>\n",
       "    <tr>\n",
       "      <th>4</th>\n",
       "      <td>15804002</td>\n",
       "      <td>Male</td>\n",
       "      <td>19</td>\n",
       "      <td>76000</td>\n",
       "      <td>0</td>\n",
       "    </tr>\n",
       "  </tbody>\n",
       "</table>\n",
       "</div>"
      ],
      "text/plain": [
       "    User ID  Gender  Age  EstimatedSalary  Purchased\n",
       "0  15624510    Male   19            19000          0\n",
       "1  15810944    Male   35            20000          0\n",
       "2  15668575  Female   26            43000          0\n",
       "3  15603246  Female   27            57000          0\n",
       "4  15804002    Male   19            76000          0"
      ]
     },
     "execution_count": 165,
     "metadata": {},
     "output_type": "execute_result"
    }
   ],
   "source": [
    "data = pd.read_csv('Social_Network_Ads.csv')\n",
    "data.head()"
   ]
  },
  {
   "cell_type": "markdown",
   "id": "complex-timer",
   "metadata": {},
   "source": [
    "> Let's assume that `1` means buying a car and `0` means not buying. In this case our dependent variable is `Purchased` and our independent variables are `gender, age, estimated salary`\n",
    "\n",
    "> So we may want to convert gender quantitative data, which means male can be represended by 1 and 0 otherwise"
   ]
  },
  {
   "cell_type": "code",
   "execution_count": 166,
   "id": "sophisticated-ottawa",
   "metadata": {},
   "outputs": [
    {
     "data": {
      "text/html": [
       "<div>\n",
       "<style scoped>\n",
       "    .dataframe tbody tr th:only-of-type {\n",
       "        vertical-align: middle;\n",
       "    }\n",
       "\n",
       "    .dataframe tbody tr th {\n",
       "        vertical-align: top;\n",
       "    }\n",
       "\n",
       "    .dataframe thead th {\n",
       "        text-align: right;\n",
       "    }\n",
       "</style>\n",
       "<table border=\"1\" class=\"dataframe\">\n",
       "  <thead>\n",
       "    <tr style=\"text-align: right;\">\n",
       "      <th></th>\n",
       "      <th>User ID</th>\n",
       "      <th>Gender</th>\n",
       "      <th>Age</th>\n",
       "      <th>EstimatedSalary</th>\n",
       "      <th>Purchased</th>\n",
       "    </tr>\n",
       "  </thead>\n",
       "  <tbody>\n",
       "    <tr>\n",
       "      <th>0</th>\n",
       "      <td>15624510</td>\n",
       "      <td>1</td>\n",
       "      <td>19</td>\n",
       "      <td>19000</td>\n",
       "      <td>0</td>\n",
       "    </tr>\n",
       "    <tr>\n",
       "      <th>1</th>\n",
       "      <td>15810944</td>\n",
       "      <td>1</td>\n",
       "      <td>35</td>\n",
       "      <td>20000</td>\n",
       "      <td>0</td>\n",
       "    </tr>\n",
       "    <tr>\n",
       "      <th>2</th>\n",
       "      <td>15668575</td>\n",
       "      <td>0</td>\n",
       "      <td>26</td>\n",
       "      <td>43000</td>\n",
       "      <td>0</td>\n",
       "    </tr>\n",
       "    <tr>\n",
       "      <th>3</th>\n",
       "      <td>15603246</td>\n",
       "      <td>0</td>\n",
       "      <td>27</td>\n",
       "      <td>57000</td>\n",
       "      <td>0</td>\n",
       "    </tr>\n",
       "    <tr>\n",
       "      <th>4</th>\n",
       "      <td>15804002</td>\n",
       "      <td>1</td>\n",
       "      <td>19</td>\n",
       "      <td>76000</td>\n",
       "      <td>0</td>\n",
       "    </tr>\n",
       "    <tr>\n",
       "      <th>...</th>\n",
       "      <td>...</td>\n",
       "      <td>...</td>\n",
       "      <td>...</td>\n",
       "      <td>...</td>\n",
       "      <td>...</td>\n",
       "    </tr>\n",
       "    <tr>\n",
       "      <th>395</th>\n",
       "      <td>15691863</td>\n",
       "      <td>0</td>\n",
       "      <td>46</td>\n",
       "      <td>41000</td>\n",
       "      <td>1</td>\n",
       "    </tr>\n",
       "    <tr>\n",
       "      <th>396</th>\n",
       "      <td>15706071</td>\n",
       "      <td>1</td>\n",
       "      <td>51</td>\n",
       "      <td>23000</td>\n",
       "      <td>1</td>\n",
       "    </tr>\n",
       "    <tr>\n",
       "      <th>397</th>\n",
       "      <td>15654296</td>\n",
       "      <td>0</td>\n",
       "      <td>50</td>\n",
       "      <td>20000</td>\n",
       "      <td>1</td>\n",
       "    </tr>\n",
       "    <tr>\n",
       "      <th>398</th>\n",
       "      <td>15755018</td>\n",
       "      <td>1</td>\n",
       "      <td>36</td>\n",
       "      <td>33000</td>\n",
       "      <td>0</td>\n",
       "    </tr>\n",
       "    <tr>\n",
       "      <th>399</th>\n",
       "      <td>15594041</td>\n",
       "      <td>0</td>\n",
       "      <td>49</td>\n",
       "      <td>36000</td>\n",
       "      <td>1</td>\n",
       "    </tr>\n",
       "  </tbody>\n",
       "</table>\n",
       "<p>400 rows × 5 columns</p>\n",
       "</div>"
      ],
      "text/plain": [
       "      User ID  Gender  Age  EstimatedSalary  Purchased\n",
       "0    15624510       1   19            19000          0\n",
       "1    15810944       1   35            20000          0\n",
       "2    15668575       0   26            43000          0\n",
       "3    15603246       0   27            57000          0\n",
       "4    15804002       1   19            76000          0\n",
       "..        ...     ...  ...              ...        ...\n",
       "395  15691863       0   46            41000          1\n",
       "396  15706071       1   51            23000          1\n",
       "397  15654296       0   50            20000          1\n",
       "398  15755018       1   36            33000          0\n",
       "399  15594041       0   49            36000          1\n",
       "\n",
       "[400 rows x 5 columns]"
      ]
     },
     "execution_count": 166,
     "metadata": {},
     "output_type": "execute_result"
    }
   ],
   "source": [
    "\n",
    "data[\"Gender\"] = data['Gender'].replace('Male', 1)\n",
    "data[\"Gender\"] = data['Gender'].replace('Female', 0)\n",
    "data"
   ]
  },
  {
   "cell_type": "code",
   "execution_count": 323,
   "id": "instrumental-software",
   "metadata": {},
   "outputs": [],
   "source": [
    "X = data.iloc[:, 1:4].values\n",
    "y = data.iloc[:, 4].values"
   ]
  },
  {
   "cell_type": "code",
   "execution_count": 324,
   "id": "difficult-sudan",
   "metadata": {},
   "outputs": [],
   "source": [
    "X_balanced = data.iloc[:, 1:4].values\n",
    "y_balanced = data.iloc[:, 4].values"
   ]
  },
  {
   "cell_type": "markdown",
   "id": "chubby-purple",
   "metadata": {},
   "source": [
    "## We buying sample to be equal to not buying sample\n",
    "> This data `allPeople` will be used after evaluating the model at the end of testing the model without balanced cases"
   ]
  },
  {
   "cell_type": "code",
   "execution_count": 325,
   "id": "configured-radius",
   "metadata": {},
   "outputs": [
    {
     "data": {
      "text/plain": [
       "(204, 196)"
      ]
     },
     "execution_count": 325,
     "metadata": {},
     "output_type": "execute_result"
    }
   ],
   "source": [
    "f =0;\n",
    "m = 0\n",
    "for x in X_balanced:\n",
    "    if x[0] == 1:\n",
    "        m +=1\n",
    "    else:\n",
    "        f +=1\n",
    "f, m"
   ]
  },
  {
   "cell_type": "code",
   "execution_count": 326,
   "id": "interracial-arrest",
   "metadata": {},
   "outputs": [
    {
     "data": {
      "text/plain": [
       "(143, 257)"
      ]
     },
     "execution_count": 326,
     "metadata": {},
     "output_type": "execute_result"
    }
   ],
   "source": [
    "cars_count = list(y_balanced).count(1)\n",
    "cars_count, list(y_balanced).count(0)"
   ]
  },
  {
   "cell_type": "markdown",
   "id": "floppy-milwaukee",
   "metadata": {},
   "source": [
    "> 143 people with cars and 257 people without cars"
   ]
  },
  {
   "cell_type": "code",
   "execution_count": 327,
   "id": "chronic-orientation",
   "metadata": {},
   "outputs": [],
   "source": [
    "data_balanced = []\n",
    "for x, y in zip(X_balanced, y_balanced):\n",
    "    data_balanced.append([x, y])"
   ]
  },
  {
   "cell_type": "code",
   "execution_count": 328,
   "id": "quick-headset",
   "metadata": {},
   "outputs": [
    {
     "data": {
      "text/plain": [
       "(143, 143)"
      ]
     },
     "execution_count": 328,
     "metadata": {},
     "output_type": "execute_result"
    }
   ],
   "source": [
    "cars =[]\n",
    "nocars = []\n",
    "for data__ in data_balanced:\n",
    "    x, y = data__\n",
    "    if y == 1:\n",
    "        cars.append(data__)\n",
    "    else:\n",
    "        nocars.append(data__)\n",
    "    \n",
    "nocars = nocars[:cars_count]\n",
    "cars = cars[:cars_count]\n",
    "\n",
    "len(nocars), len(cars)"
   ]
  },
  {
   "cell_type": "code",
   "execution_count": 329,
   "id": "transsexual-museum",
   "metadata": {},
   "outputs": [
    {
     "data": {
      "text/plain": [
       "[[array([    1,    19, 19000], dtype=int64), 0],\n",
       " [array([    1,    35, 20000], dtype=int64), 0],\n",
       " [array([    0,    26, 43000], dtype=int64), 0]]"
      ]
     },
     "execution_count": 329,
     "metadata": {},
     "output_type": "execute_result"
    }
   ],
   "source": [
    "nocars[:3]"
   ]
  },
  {
   "cell_type": "markdown",
   "id": "angry-hamilton",
   "metadata": {},
   "source": [
    "> Number of people with cars are now equal to number of people without cars."
   ]
  },
  {
   "cell_type": "code",
   "execution_count": 330,
   "id": "uniform-passenger",
   "metadata": {},
   "outputs": [
    {
     "data": {
      "text/plain": [
       "286"
      ]
     },
     "execution_count": 330,
     "metadata": {},
     "output_type": "execute_result"
    }
   ],
   "source": [
    "allPeople = nocars + cars\n",
    "len(allPeople)"
   ]
  },
  {
   "cell_type": "code",
   "execution_count": 361,
   "id": "incredible-feedback",
   "metadata": {},
   "outputs": [],
   "source": [
    "from random import shuffle\n",
    "shuffle(allPeople)"
   ]
  },
  {
   "cell_type": "code",
   "execution_count": 362,
   "id": "infrared-accessory",
   "metadata": {},
   "outputs": [
    {
     "data": {
      "text/plain": [
       "(286, 400)"
      ]
     },
     "execution_count": 362,
     "metadata": {},
     "output_type": "execute_result"
    }
   ],
   "source": [
    "len(allPeople), len(y_balanced)"
   ]
  },
  {
   "cell_type": "code",
   "execution_count": 363,
   "id": "conditional-physiology",
   "metadata": {},
   "outputs": [
    {
     "data": {
      "text/plain": [
       "[[array([    0,    28, 44000], dtype=int64), 0],\n",
       " [array([    0,    52, 38000], dtype=int64), 1],\n",
       " [array([    1,    19, 76000], dtype=int64), 0],\n",
       " [array([    1,    35, 50000], dtype=int64), 0],\n",
       " [array([     0,     60, 108000], dtype=int64), 1]]"
      ]
     },
     "execution_count": 363,
     "metadata": {},
     "output_type": "execute_result"
    }
   ],
   "source": [
    "allPeople[:5]"
   ]
  },
  {
   "cell_type": "markdown",
   "id": "collect-designer",
   "metadata": {},
   "source": [
    "### Getting X and y Data for balanced sets"
   ]
  },
  {
   "cell_type": "code",
   "execution_count": 373,
   "id": "independent-hazard",
   "metadata": {},
   "outputs": [
    {
     "data": {
      "text/plain": [
       "(286, 286, 0, array([    0,    28, 44000], dtype=int64))"
      ]
     },
     "execution_count": 373,
     "metadata": {},
     "output_type": "execute_result"
    }
   ],
   "source": [
    "X_balanced_data = []\n",
    "y_balanced_data = []\n",
    "for i, j in allPeople:\n",
    "    X_balanced_data.append(i)\n",
    "    y_balanced_data.append(j)\n",
    "\n",
    "len(X_balanced_data), len(X_balanced_data), y_balanced_data[0], X_balanced_data[0]"
   ]
  },
  {
   "cell_type": "code",
   "execution_count": null,
   "id": "regulation-animal",
   "metadata": {},
   "outputs": [],
   "source": []
  },
  {
   "cell_type": "markdown",
   "id": "collective-appendix",
   "metadata": {},
   "source": [
    "### Predicting with unbalances data"
   ]
  },
  {
   "cell_type": "code",
   "execution_count": 344,
   "id": "demographic-abraham",
   "metadata": {},
   "outputs": [
    {
     "data": {
      "text/plain": [
       "(400, 400)"
      ]
     },
     "execution_count": 344,
     "metadata": {},
     "output_type": "execute_result"
    }
   ],
   "source": [
    "len(X), len(y_balanced)"
   ]
  },
  {
   "cell_type": "code",
   "execution_count": 346,
   "id": "weird-crime",
   "metadata": {},
   "outputs": [],
   "source": [
    "from sklearn.model_selection import train_test_split\n",
    "from sklearn.preprocessing import StandardScaler"
   ]
  },
  {
   "cell_type": "code",
   "execution_count": 347,
   "id": "nasty-binary",
   "metadata": {},
   "outputs": [],
   "source": [
    "X_train, X_test, y_train, y_test = train_test_split(X, y_balanced, random_state=29, test_size=.2)"
   ]
  },
  {
   "cell_type": "code",
   "execution_count": 348,
   "id": "chief-progress",
   "metadata": {},
   "outputs": [],
   "source": [
    "X_train_sclaled = scaler.fit_transform(X_train)\n",
    "X_test_sclaled = scaler.transform(X_test)"
   ]
  },
  {
   "cell_type": "code",
   "execution_count": 349,
   "id": "casual-table",
   "metadata": {},
   "outputs": [],
   "source": [
    "from sklearn.linear_model import LinearRegression, LogisticRegression"
   ]
  },
  {
   "cell_type": "code",
   "execution_count": 350,
   "id": "medium-glance",
   "metadata": {},
   "outputs": [],
   "source": [
    "model = LogisticRegression(random_state=0)"
   ]
  },
  {
   "cell_type": "code",
   "execution_count": 351,
   "id": "wicked-jonathan",
   "metadata": {},
   "outputs": [
    {
     "data": {
      "text/plain": [
       "LogisticRegression(random_state=0)"
      ]
     },
     "execution_count": 351,
     "metadata": {},
     "output_type": "execute_result"
    }
   ],
   "source": [
    "model.fit(X_train_sclaled, y_train)"
   ]
  },
  {
   "cell_type": "code",
   "execution_count": 352,
   "id": "public-enterprise",
   "metadata": {},
   "outputs": [],
   "source": [
    "X_data_test = scaler.transform([[46, 41000,1]])"
   ]
  },
  {
   "cell_type": "code",
   "execution_count": 353,
   "id": "under-appreciation",
   "metadata": {},
   "outputs": [
    {
     "data": {
      "text/plain": [
       "array([1], dtype=int64)"
      ]
     },
     "execution_count": 353,
     "metadata": {},
     "output_type": "execute_result"
    }
   ],
   "source": [
    "model.predict(X_data_test)"
   ]
  },
  {
   "cell_type": "code",
   "execution_count": 354,
   "id": "amended-wrong",
   "metadata": {},
   "outputs": [
    {
     "name": "stdout",
     "output_type": "stream",
     "text": [
      "0 -------> 0\n",
      "0 -------> 0\n",
      "0 -------> 1\n",
      "0 -------> 0\n",
      "0 -------> 1\n",
      "0 -------> 0\n",
      "1 -------> 1\n",
      "0 -------> 1\n",
      "1 -------> 1\n",
      "0 -------> 0\n"
     ]
    }
   ],
   "source": [
    "for _data, _y in  list(zip(X_test_sclaled, y_test))[:10]:\n",
    "    print(model.predict([_data])[0],\"------->\",  _y)"
   ]
  },
  {
   "cell_type": "markdown",
   "id": "tough-serial",
   "metadata": {},
   "source": [
    "### Perfomance"
   ]
  },
  {
   "cell_type": "code",
   "execution_count": 355,
   "id": "packed-torture",
   "metadata": {},
   "outputs": [
    {
     "data": {
      "text/plain": [
       "0.853125"
      ]
     },
     "execution_count": 355,
     "metadata": {},
     "output_type": "execute_result"
    }
   ],
   "source": [
    "model.score(X_train_sclaled, y_train)"
   ]
  },
  {
   "cell_type": "markdown",
   "id": "increasing-given",
   "metadata": {},
   "source": [
    "> The **model** is `85%` accurate on the train data."
   ]
  },
  {
   "cell_type": "code",
   "execution_count": 356,
   "id": "unknown-filename",
   "metadata": {},
   "outputs": [
    {
     "data": {
      "text/plain": [
       "0.7875"
      ]
     },
     "execution_count": 356,
     "metadata": {},
     "output_type": "execute_result"
    }
   ],
   "source": [
    "model.score(X_test_sclaled, y_test)"
   ]
  },
  {
   "cell_type": "markdown",
   "id": "metallic-baptist",
   "metadata": {},
   "source": [
    "> The model is `79%` accurate on the tests data. Which is very reasonable!!"
   ]
  },
  {
   "cell_type": "code",
   "execution_count": 357,
   "id": "precious-vegetarian",
   "metadata": {},
   "outputs": [
    {
     "data": {
      "text/plain": [
       "0.853125"
      ]
     },
     "execution_count": 357,
     "metadata": {},
     "output_type": "execute_result"
    }
   ],
   "source": [
    "from sklearn.metrics import accuracy_score\n",
    "y_train_pred = model.predict(X_train_sclaled)\n",
    "acc = accuracy_score(y_train, y_train_pred)\n",
    "acc"
   ]
  },
  {
   "cell_type": "code",
   "execution_count": 358,
   "id": "municipal-liberty",
   "metadata": {},
   "outputs": [
    {
     "data": {
      "text/plain": [
       "0.7875"
      ]
     },
     "execution_count": 358,
     "metadata": {},
     "output_type": "execute_result"
    }
   ],
   "source": [
    "from sklearn.metrics import accuracy_score\n",
    "y_test_pred = model.predict(X_test_sclaled)\n",
    "acc = accuracy_score(y_test, y_test_pred)\n",
    "acc"
   ]
  },
  {
   "cell_type": "code",
   "execution_count": 359,
   "id": "vocational-mason",
   "metadata": {},
   "outputs": [
    {
     "data": {
      "text/plain": [
       "array([0.85714286, 0.58536585])"
      ]
     },
     "execution_count": 359,
     "metadata": {},
     "output_type": "execute_result"
    }
   ],
   "source": [
    "from sklearn.metrics import f1_score\n",
    "f1_score(y_test, model.predict(X_test_sclaled), \n",
    "         average=None, labels=[0,  1])"
   ]
  },
  {
   "cell_type": "markdown",
   "id": "operational-terminology",
   "metadata": {},
   "source": [
    "### Predicting After Data has been balanced\n",
    "\n",
    "> The model is more biased It's predicting the data more accurate on not buying a car:\n",
    "\n",
    "> **One way to solve this is to use equal number of females and males in the train and test**"
   ]
  },
  {
   "cell_type": "code",
   "execution_count": 377,
   "id": "fresh-complement",
   "metadata": {},
   "outputs": [],
   "source": [
    "from sklearn.model_selection import train_test_split\n",
    "from sklearn.preprocessing import StandardScaler"
   ]
  },
  {
   "cell_type": "code",
   "execution_count": 378,
   "id": "north-washer",
   "metadata": {},
   "outputs": [],
   "source": [
    "X_train_balanced, X_test_balanced, y_train_balanced, y_test_balanced = train_test_split(X_balanced_data, y_balanced_data, random_state=29, test_size=.2)"
   ]
  },
  {
   "cell_type": "code",
   "execution_count": 379,
   "id": "beautiful-hamburg",
   "metadata": {},
   "outputs": [],
   "source": [
    "X_train_sclaled_balanced = scaler.fit_transform(X_train_balanced)\n",
    "X_test_sclaled_balanced = scaler.transform(X_test_balanced)"
   ]
  },
  {
   "cell_type": "code",
   "execution_count": 380,
   "id": "distant-rotation",
   "metadata": {},
   "outputs": [],
   "source": [
    "from sklearn.linear_model import LinearRegression, LogisticRegression"
   ]
  },
  {
   "cell_type": "code",
   "execution_count": 381,
   "id": "designing-stress",
   "metadata": {},
   "outputs": [],
   "source": [
    "model = LogisticRegression(random_state=0)"
   ]
  },
  {
   "cell_type": "code",
   "execution_count": 382,
   "id": "consolidated-retro",
   "metadata": {},
   "outputs": [
    {
     "data": {
      "text/plain": [
       "LogisticRegression(random_state=0)"
      ]
     },
     "execution_count": 382,
     "metadata": {},
     "output_type": "execute_result"
    }
   ],
   "source": [
    "model.fit(X_train_sclaled_balanced, y_train_balanced)"
   ]
  },
  {
   "cell_type": "code",
   "execution_count": 383,
   "id": "sunset-capitol",
   "metadata": {},
   "outputs": [],
   "source": [
    "X_data_test_balanced = scaler.transform([[46, 41000,1]])"
   ]
  },
  {
   "cell_type": "code",
   "execution_count": 384,
   "id": "interior-transfer",
   "metadata": {},
   "outputs": [
    {
     "data": {
      "text/plain": [
       "array([1], dtype=int64)"
      ]
     },
     "execution_count": 384,
     "metadata": {},
     "output_type": "execute_result"
    }
   ],
   "source": [
    "model.predict(X_data_test_balanced)"
   ]
  },
  {
   "cell_type": "code",
   "execution_count": 385,
   "id": "liquid-attachment",
   "metadata": {},
   "outputs": [
    {
     "name": "stdout",
     "output_type": "stream",
     "text": [
      "0 -------> 0\n",
      "0 -------> 0\n",
      "1 -------> 0\n",
      "0 -------> 0\n",
      "0 -------> 0\n",
      "0 -------> 0\n",
      "0 -------> 0\n",
      "0 -------> 0\n",
      "1 -------> 1\n",
      "1 -------> 1\n"
     ]
    }
   ],
   "source": [
    "for _data, _y in  list(zip(X_test_sclaled_balanced, y_test_balanced))[:10]:\n",
    "    print(model.predict([_data])[0],\"------->\",  _y)"
   ]
  },
  {
   "cell_type": "markdown",
   "id": "tamil-soccer",
   "metadata": {},
   "source": [
    "### Perfomance"
   ]
  },
  {
   "cell_type": "code",
   "execution_count": 386,
   "id": "designing-sigma",
   "metadata": {},
   "outputs": [
    {
     "data": {
      "text/plain": [
       "0.9298245614035088"
      ]
     },
     "execution_count": 386,
     "metadata": {},
     "output_type": "execute_result"
    }
   ],
   "source": [
    "model.score(X_train_sclaled_balanced, y_train_balanced)"
   ]
  },
  {
   "cell_type": "markdown",
   "id": "owned-miniature",
   "metadata": {},
   "source": [
    "> The **model** is now `93%` accurate on the train set. We can further imporove the model by balancing the gender"
   ]
  },
  {
   "cell_type": "code",
   "execution_count": 387,
   "id": "informal-edwards",
   "metadata": {},
   "outputs": [
    {
     "data": {
      "text/plain": [
       "0.896551724137931"
      ]
     },
     "execution_count": 387,
     "metadata": {},
     "output_type": "execute_result"
    }
   ],
   "source": [
    "model.score(X_test_sclaled_balanced, y_test_balanced)"
   ]
  },
  {
   "cell_type": "markdown",
   "id": "exceptional-party",
   "metadata": {},
   "source": [
    "> The **model** is now `90%` accurate on the test set. We can improve the model by balancing the gender."
   ]
  },
  {
   "cell_type": "code",
   "execution_count": 390,
   "id": "valued-mother",
   "metadata": {},
   "outputs": [
    {
     "data": {
      "text/plain": [
       "0.9298245614035088"
      ]
     },
     "execution_count": 390,
     "metadata": {},
     "output_type": "execute_result"
    }
   ],
   "source": [
    "from sklearn.metrics import accuracy_score\n",
    "y_train_pred = model.predict(X_train_sclaled_balanced)\n",
    "acc = accuracy_score(y_train_balanced, y_train_pred)\n",
    "acc"
   ]
  },
  {
   "cell_type": "code",
   "execution_count": 391,
   "id": "expired-tender",
   "metadata": {},
   "outputs": [
    {
     "data": {
      "text/plain": [
       "0.896551724137931"
      ]
     },
     "execution_count": 391,
     "metadata": {},
     "output_type": "execute_result"
    }
   ],
   "source": [
    "from sklearn.metrics import accuracy_score\n",
    "y_test_pred = model.predict(X_test_sclaled_balanced)\n",
    "acc = accuracy_score(y_test_balanced, y_test_pred)\n",
    "acc"
   ]
  },
  {
   "cell_type": "code",
   "execution_count": 392,
   "id": "quiet-distance",
   "metadata": {},
   "outputs": [
    {
     "data": {
      "text/plain": [
       "array([0.9       , 0.89285714])"
      ]
     },
     "execution_count": 392,
     "metadata": {},
     "output_type": "execute_result"
    }
   ],
   "source": [
    "from sklearn.metrics import f1_score\n",
    "f1_score(y_test_balanced, model.predict(X_test_sclaled_balanced), \n",
    "         average=None, labels=[0,  1])"
   ]
  },
  {
   "cell_type": "markdown",
   "id": "alpha-mailman",
   "metadata": {},
   "source": [
    "> A lit bit better now"
   ]
  },
  {
   "cell_type": "markdown",
   "id": "alert-baghdad",
   "metadata": {},
   "source": [
    "> Done"
   ]
  },
  {
   "cell_type": "code",
   "execution_count": null,
   "id": "previous-destiny",
   "metadata": {},
   "outputs": [],
   "source": []
  }
 ],
 "metadata": {
  "kernelspec": {
   "display_name": "Python 3",
   "language": "python",
   "name": "python3"
  },
  "language_info": {
   "codemirror_mode": {
    "name": "ipython",
    "version": 3
   },
   "file_extension": ".py",
   "mimetype": "text/x-python",
   "name": "python",
   "nbconvert_exporter": "python",
   "pygments_lexer": "ipython3",
   "version": "3.8.5"
  }
 },
 "nbformat": 4,
 "nbformat_minor": 5
}
