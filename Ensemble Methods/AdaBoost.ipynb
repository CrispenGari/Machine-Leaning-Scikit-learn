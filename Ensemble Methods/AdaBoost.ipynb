{
 "cells": [
  {
   "cell_type": "markdown",
   "id": "realistic-canvas",
   "metadata": {},
   "source": [
    "## AdaBoost\n",
    "An AdaBoost [1] classifier is a meta-estimator that begins by fitting a classifier on the original dataset and then fits additional copies of the classifier on the same dataset but where the weights of incorrectly classified instances are adjusted such that subsequent classifiers focus more on difficult cases.\n",
    "\n",
    "```\n",
    "class sklearn.ensemble.AdaBoostClassifier(base_estimator=None, *, n_estimators=50, learning_rate=1.0, algorithm='SAMME.R', random_state=None)[source]\n",
    "```\n",
    "\n",
    "> [Docs]()"
   ]
  },
  {
   "cell_type": "code",
   "execution_count": null,
   "id": "employed-mailman",
   "metadata": {},
   "outputs": [],
   "source": [
    "### Basic usage"
   ]
  }
 ],
 "metadata": {
  "kernelspec": {
   "display_name": "Python 3",
   "language": "python",
   "name": "python3"
  },
  "language_info": {
   "codemirror_mode": {
    "name": "ipython",
    "version": 3
   },
   "file_extension": ".py",
   "mimetype": "text/x-python",
   "name": "python",
   "nbconvert_exporter": "python",
   "pygments_lexer": "ipython3",
   "version": "3.8.5"
  }
 },
 "nbformat": 4,
 "nbformat_minor": 5
}
