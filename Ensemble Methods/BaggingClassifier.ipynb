{
 "cells": [
  {
   "cell_type": "markdown",
   "id": "armed-sound",
   "metadata": {},
   "source": [
    "## BaggingClassifier\n",
    "A Bagging classifier is an ensemble meta-estimator that fits base classifiers each on random subsets of the original dataset and then aggregate their individual predictions (either by voting or by averaging) to form a final prediction. Such a meta-estimator can typically be used as a way to reduce the variance of a black-box estimator (e.g., a decision tree), by introducing randomization into its construction procedure and then making an ensemble out of it.\n",
    "\n",
    "```\n",
    "class sklearn.ensemble.BaggingClassifier(base_estimator=None, n_estimators=10, *, max_samples=1.0, max_features=1.0, bootstrap=True, bootstrap_features=False, oob_score=False, warm_start=False, n_jobs=None, random_state=None, verbose=0)\n",
    "```\n"
   ]
  },
  {
   "cell_type": "markdown",
   "id": "technical-selling",
   "metadata": {},
   "source": [
    "> **[Docc](https://scikit-learn.org/stable/modules/generated/sklearn.ensemble.BaggingClassifier.html)**"
   ]
  },
  {
   "cell_type": "markdown",
   "id": "normal-baseline",
   "metadata": {},
   "source": [
    "### Basic Usage"
   ]
  },
  {
   "cell_type": "code",
   "execution_count": 33,
   "id": "professional-delta",
   "metadata": {},
   "outputs": [],
   "source": [
    "from sklearn.svm import SVC\n",
    "from sklearn.ensemble import BaggingClassifier\n",
    "from sklearn.datasets import make_classification\n",
    "from sklearn.model_selection import train_test_split"
   ]
  },
  {
   "cell_type": "markdown",
   "id": "nuclear-italian",
   "metadata": {},
   "source": [
    "> Generating some data"
   ]
  },
  {
   "cell_type": "code",
   "execution_count": 30,
   "id": "exclusive-psychiatry",
   "metadata": {},
   "outputs": [],
   "source": [
    "X, y = make_classification(n_samples=100, n_features=10, n_classes=2, random_state=0, shuffle = False)"
   ]
  },
  {
   "cell_type": "code",
   "execution_count": 31,
   "id": "animal-marsh",
   "metadata": {},
   "outputs": [
    {
     "data": {
      "text/plain": [
       "(array([[ 0.42234144, -2.05321581, -2.0391144 , -0.84912305,  0.91017891,\n",
       "          0.31721822,  0.78632796, -0.4664191 , -0.94444626, -0.41004969],\n",
       "        [-1.25732069, -3.19826339, -2.14861012, -3.04373307, -0.01702041,\n",
       "          0.37915174,  2.25930895, -0.04225715, -0.955945  , -0.34598178],\n",
       "        [ 1.23195055, -0.99510532, -1.53949526,  0.51160097, -0.46359597,\n",
       "          0.48148147, -1.54079701,  0.06326199,  0.15650654,  0.23218104],\n",
       "        [-0.04378433, -1.27395967, -1.10110026, -0.8016903 , -0.59731607,\n",
       "         -0.23792173, -1.42406091, -0.49331988, -0.54286148,  0.41605005],\n",
       "        [-1.30819171, -1.28532883, -0.43265956, -1.94473774, -1.15618243,\n",
       "          0.7811981 ,  1.49448454, -2.06998503,  0.42625873,  0.67690804]]),\n",
       " array([0, 0, 0, 0, 0]))"
      ]
     },
     "execution_count": 31,
     "metadata": {},
     "output_type": "execute_result"
    }
   ],
   "source": [
    "X[:5], y[:5]"
   ]
  },
  {
   "cell_type": "code",
   "execution_count": 32,
   "id": "stretch-dublin",
   "metadata": {},
   "outputs": [
    {
     "data": {
      "text/plain": [
       "array([0, 0, 0, 0, 0, 0, 0, 0, 1, 0, 0, 0, 0, 0, 0, 0, 1, 0, 0, 0, 0, 0,\n",
       "       0, 0, 0, 1, 1, 1, 1, 1, 1, 1, 1, 1, 1, 1, 1, 1, 1, 1, 1, 1, 1, 1,\n",
       "       1, 1, 1, 1, 1, 1, 0, 0, 0, 0, 0, 0, 0, 0, 0, 0, 0, 0, 0, 0, 0, 0,\n",
       "       0, 0, 0, 0, 0, 0, 0, 0, 0, 1, 1, 1, 1, 1, 1, 1, 1, 1, 1, 1, 1, 1,\n",
       "       1, 1, 1, 1, 1, 1, 1, 1, 1, 1, 1, 1])"
      ]
     },
     "execution_count": 32,
     "metadata": {},
     "output_type": "execute_result"
    }
   ],
   "source": [
    "y"
   ]
  },
  {
   "cell_type": "markdown",
   "id": "theoretical-praise",
   "metadata": {},
   "source": [
    "> Let's split our data"
   ]
  },
  {
   "cell_type": "code",
   "execution_count": 34,
   "id": "artificial-wednesday",
   "metadata": {},
   "outputs": [],
   "source": [
    "X_train, X_test, y_train, y_test = train_test_split(X, y, test_size = .1, random_state=7)"
   ]
  },
  {
   "cell_type": "markdown",
   "id": "bigger-paris",
   "metadata": {},
   "source": [
    "> Let's create a regular `SVC` classifier"
   ]
  },
  {
   "cell_type": "code",
   "execution_count": 36,
   "id": "bottom-check",
   "metadata": {},
   "outputs": [],
   "source": [
    "from sklearn.preprocessing import StandardScaler\n",
    "from sklearn.pipeline import Pipeline"
   ]
  },
  {
   "cell_type": "code",
   "execution_count": 37,
   "id": "apparent-executive",
   "metadata": {},
   "outputs": [],
   "source": [
    "pipe = Pipeline([\n",
    "    (\"scale\", StandardScaler() ),\n",
    "    (\"clf\",SVC() )\n",
    "])"
   ]
  },
  {
   "cell_type": "code",
   "execution_count": 38,
   "id": "international-scale",
   "metadata": {},
   "outputs": [
    {
     "data": {
      "text/plain": [
       "Pipeline(steps=[('scale', StandardScaler()), ('clf', SVC())])"
      ]
     },
     "execution_count": 38,
     "metadata": {},
     "output_type": "execute_result"
    }
   ],
   "source": [
    "pipe.fit(X_train, y_train)"
   ]
  },
  {
   "cell_type": "code",
   "execution_count": 40,
   "id": "suspended-import",
   "metadata": {},
   "outputs": [
    {
     "data": {
      "text/plain": [
       "(0.9, 0.9666666666666667)"
      ]
     },
     "execution_count": 40,
     "metadata": {},
     "output_type": "execute_result"
    }
   ],
   "source": [
    "pipe.score(X_test, y_test), pipe.score(X_train, y_train)"
   ]
  },
  {
   "cell_type": "code",
   "execution_count": 48,
   "id": "southeast-malpractice",
   "metadata": {},
   "outputs": [
    {
     "data": {
      "text/plain": [
       "(array([0, 1]), array([0, 1]))"
      ]
     },
     "execution_count": 48,
     "metadata": {},
     "output_type": "execute_result"
    }
   ],
   "source": [
    "pipe.predict(X_train[:2]), y_train[:2]"
   ]
  },
  {
   "cell_type": "code",
   "execution_count": 49,
   "id": "prescribed-branch",
   "metadata": {},
   "outputs": [
    {
     "data": {
      "text/plain": [
       "(array([1, 1]), array([1, 1]))"
      ]
     },
     "execution_count": 49,
     "metadata": {},
     "output_type": "execute_result"
    }
   ],
   "source": [
    "pipe.predict(X_test[:2]), y_test[:2]"
   ]
  },
  {
   "cell_type": "markdown",
   "id": "foster-decimal",
   "metadata": {},
   "source": [
    "> Using the `BaggingClassifier`"
   ]
  },
  {
   "cell_type": "code",
   "execution_count": 84,
   "id": "identified-scout",
   "metadata": {},
   "outputs": [],
   "source": [
    "clf = BaggingClassifier(\n",
    "    base_estimator =SVC(),\n",
    "    n_estimators =20,\n",
    "    random_state = 99\n",
    ")"
   ]
  },
  {
   "cell_type": "code",
   "execution_count": 85,
   "id": "canadian-career",
   "metadata": {},
   "outputs": [
    {
     "data": {
      "text/plain": [
       "BaggingClassifier(base_estimator=SVC(), n_estimators=20, random_state=99)"
      ]
     },
     "execution_count": 85,
     "metadata": {},
     "output_type": "execute_result"
    }
   ],
   "source": [
    "clf.fit(X_train, y_train)"
   ]
  },
  {
   "cell_type": "code",
   "execution_count": 86,
   "id": "sustained-insight",
   "metadata": {},
   "outputs": [
    {
     "data": {
      "text/plain": [
       "(0.9555555555555556, 0.9)"
      ]
     },
     "execution_count": 86,
     "metadata": {},
     "output_type": "execute_result"
    }
   ],
   "source": [
    "clf.score(X_train, y_train), clf.score(X_test, y_test)"
   ]
  },
  {
   "cell_type": "code",
   "execution_count": 87,
   "id": "united-happiness",
   "metadata": {},
   "outputs": [
    {
     "data": {
      "text/plain": [
       "(array([1, 1]), array([1, 1]))"
      ]
     },
     "execution_count": 87,
     "metadata": {},
     "output_type": "execute_result"
    }
   ],
   "source": [
    "clf.predict(X_test[:2]), y_test[:2]"
   ]
  },
  {
   "cell_type": "markdown",
   "id": "sublime-pottery",
   "metadata": {},
   "source": [
    "> What if we use `BaggingClassifier` together with the `Pipeline`? **OOh it did't work.**"
   ]
  },
  {
   "cell_type": "code",
   "execution_count": 90,
   "id": "desperate-trash",
   "metadata": {},
   "outputs": [
    {
     "data": {
      "text/plain": [
       "{'base_estimator__C': 1.0,\n",
       " 'base_estimator__break_ties': False,\n",
       " 'base_estimator__cache_size': 200,\n",
       " 'base_estimator__class_weight': None,\n",
       " 'base_estimator__coef0': 0.0,\n",
       " 'base_estimator__decision_function_shape': 'ovr',\n",
       " 'base_estimator__degree': 3,\n",
       " 'base_estimator__gamma': 'scale',\n",
       " 'base_estimator__kernel': 'rbf',\n",
       " 'base_estimator__max_iter': -1,\n",
       " 'base_estimator__probability': False,\n",
       " 'base_estimator__random_state': None,\n",
       " 'base_estimator__shrinking': True,\n",
       " 'base_estimator__tol': 0.001,\n",
       " 'base_estimator__verbose': False,\n",
       " 'base_estimator': SVC(),\n",
       " 'bootstrap': True,\n",
       " 'bootstrap_features': False,\n",
       " 'max_features': 1.0,\n",
       " 'max_samples': 1.0,\n",
       " 'n_estimators': 20,\n",
       " 'n_jobs': None,\n",
       " 'oob_score': False,\n",
       " 'random_state': 99,\n",
       " 'verbose': 0,\n",
       " 'warm_start': False}"
      ]
     },
     "execution_count": 90,
     "metadata": {},
     "output_type": "execute_result"
    }
   ],
   "source": [
    "clf.get_params()"
   ]
  }
 ],
 "metadata": {
  "kernelspec": {
   "display_name": "Python 3",
   "language": "python",
   "name": "python3"
  },
  "language_info": {
   "codemirror_mode": {
    "name": "ipython",
    "version": 3
   },
   "file_extension": ".py",
   "mimetype": "text/x-python",
   "name": "python",
   "nbconvert_exporter": "python",
   "pygments_lexer": "ipython3",
   "version": "3.8.5"
  }
 },
 "nbformat": 4,
 "nbformat_minor": 5
}
