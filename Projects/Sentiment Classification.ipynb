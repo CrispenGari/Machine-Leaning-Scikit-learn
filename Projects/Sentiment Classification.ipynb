{
 "cells": [
  {
   "cell_type": "markdown",
   "id": "applicable-brain",
   "metadata": {},
   "source": [
    "## Sentiment Classification\n",
    "* Using amazon data reviews to classify wether the comment is positive, negative or nutral"
   ]
  },
  {
   "cell_type": "code",
   "execution_count": 1,
   "id": "sized-immune",
   "metadata": {},
   "outputs": [],
   "source": [
    "import pandas as pd\n",
    "import matplotlib.pyplot as plt\n",
    "import numpy as np\n",
    "import seaborn as sns"
   ]
  },
  {
   "cell_type": "code",
   "execution_count": 2,
   "id": "taken-toolbox",
   "metadata": {},
   "outputs": [],
   "source": [
    "class Sentiment:\n",
    "    NEGATIVE= \"NEGATIVE\"\n",
    "    NEUTRAL= \"NEUTRAL\"\n",
    "    POSITIVE= \"POSITIVE\"\n",
    "\n",
    "class Review:\n",
    "    def __init__(self, text, overall):\n",
    "        self.text = text\n",
    "        self.overall = overall\n",
    "        self.sentiment = self.get_sentiment()\n",
    "        \n",
    "    def get_sentiment(self):\n",
    "        if self.overall >=4:\n",
    "            return Sentiment.POSITIVE\n",
    "        elif self.overall == 3:\n",
    "            return Sentiment.NEGATIVE\n",
    "        else:\n",
    "            return Sentiment.NEUTRAL\n",
    "    \n",
    "        "
   ]
  },
  {
   "cell_type": "markdown",
   "id": "handmade-boost",
   "metadata": {},
   "source": [
    "#### lOAD DATA FROM FILES\n",
    "* The data is in json format in the files that are in the files directory"
   ]
  },
  {
   "cell_type": "code",
   "execution_count": 3,
   "id": "secret-width",
   "metadata": {},
   "outputs": [
    {
     "data": {
      "text/plain": [
       "'POSITIVE'"
      ]
     },
     "execution_count": 3,
     "metadata": {},
     "output_type": "execute_result"
    }
   ],
   "source": [
    "import json\n",
    "\n",
    "reviews = []\n",
    "\n",
    "with open(\"files/Books_small_10000.json\") as reader:\n",
    "    for line in reader:\n",
    "        review = json.loads(line)\n",
    "        reviews.append(Review(review[\"reviewText\"], review[\"overall\"] ))\n",
    "\n",
    "reviews[0].sentiment"
   ]
  },
  {
   "cell_type": "code",
   "execution_count": null,
   "id": "responsible-february",
   "metadata": {},
   "outputs": [],
   "source": []
  },
  {
   "cell_type": "markdown",
   "id": "consolidated-bench",
   "metadata": {},
   "source": [
    "#### DATA PREPARATION"
   ]
  },
  {
   "cell_type": "code",
   "execution_count": 5,
   "id": "noted-twelve",
   "metadata": {},
   "outputs": [],
   "source": [
    "from sklearn.model_selection import train_test_split\n",
    "train, test  = train_test_split(reviews, test_size=0.25, random_state=33)"
   ]
  },
  {
   "cell_type": "code",
   "execution_count": 6,
   "id": "contained-project",
   "metadata": {},
   "outputs": [],
   "source": [
    "X_train = [i.text for i in train]\n",
    "y_train = [i.sentiment for i in train]\n",
    "\n",
    "X_test = [i.text for i in test]\n",
    "y_test = [i.sentiment for i in test]"
   ]
  },
  {
   "cell_type": "code",
   "execution_count": 7,
   "id": "decent-local",
   "metadata": {},
   "outputs": [
    {
     "name": "stdout",
     "output_type": "stream",
     "text": [
      "7500 7500 2500 2500\n"
     ]
    }
   ],
   "source": [
    "print(len(X_train), len(y_train), len(X_test), len(y_test))"
   ]
  },
  {
   "cell_type": "code",
   "execution_count": 8,
   "id": "immune-bowling",
   "metadata": {},
   "outputs": [],
   "source": [
    "neg_count_train = len(list(filter(lambda x: x.sentiment == Sentiment.NEGATIVE, train )))\n",
    "neg_count_test = len(list(filter(lambda x: x.sentiment == Sentiment.NEGATIVE, test )))\n",
    "\n",
    "\n",
    "\"\"\"\n",
    "NEG has the lowest freq\n",
    "We want to balance the train and test data for N, P and N\n",
    "\"\"\"\n",
    "\n",
    "pos_train = list(filter(lambda x: x.sentiment == Sentiment.POSITIVE, train))[:neg_count_train]\n",
    "neg_train = list(filter(lambda x: x.sentiment == Sentiment.NEGATIVE, train))[:neg_count_train]\n",
    "\n",
    "pos_test = list(filter(lambda x: x.sentiment == Sentiment.POSITIVE, test))[:neg_count_test]\n",
    "neg_test = list(filter(lambda x: x.sentiment == Sentiment.NEGATIVE, test))[:neg_count_test]"
   ]
  },
  {
   "cell_type": "code",
   "execution_count": 9,
   "id": "spiritual-electricity",
   "metadata": {},
   "outputs": [
    {
     "name": "stdout",
     "output_type": "stream",
     "text": [
      "254 254 724 724\n"
     ]
    }
   ],
   "source": [
    "print(len(neg_test), len(pos_test), len(neg_train), len(pos_train))"
   ]
  },
  {
   "cell_type": "code",
   "execution_count": 10,
   "id": "funky-class",
   "metadata": {},
   "outputs": [
    {
     "data": {
      "text/plain": [
       "'\\nTrain data should change to neg + pos + neu AND SHOULD BE SHUFFLED\\n'"
      ]
     },
     "execution_count": 10,
     "metadata": {},
     "output_type": "execute_result"
    }
   ],
   "source": [
    "\"\"\"\n",
    "Train data should change to neg + pos + neu AND SHOULD BE SHUFFLED\n",
    "\"\"\""
   ]
  },
  {
   "cell_type": "code",
   "execution_count": 11,
   "id": "featured-estimate",
   "metadata": {},
   "outputs": [
    {
     "data": {
      "text/plain": [
       "[<__main__.Review at 0x1c533b98100>, <__main__.Review at 0x1c533b0b880>]"
      ]
     },
     "execution_count": 11,
     "metadata": {},
     "output_type": "execute_result"
    }
   ],
   "source": [
    "from random import shuffle\n",
    "train = pos_train + neg_train\n",
    "shuffle(train)\n",
    "test = pos_test + neg_test\n",
    "shuffle(test)\n",
    "\n",
    "train[:2]"
   ]
  },
  {
   "cell_type": "code",
   "execution_count": 12,
   "id": "united-pioneer",
   "metadata": {},
   "outputs": [],
   "source": [
    "X_train = [i.text for i in train]\n",
    "y_train = [i.sentiment for i in train]\n",
    "\n",
    "X_test = [i.text for i in test]\n",
    "y_test = [i.sentiment for i in test]"
   ]
  },
  {
   "cell_type": "markdown",
   "id": "given-running",
   "metadata": {},
   "source": [
    "#### BAG OF WORD VECTORISATION\n",
    "* We are going to use the `CountVectorizer` from `feature_extraction.text`\n",
    "* Convert a collection of text documents to a matrix of token counts\n",
    "* [Docs](https://scikit-learn.org/stable/modules/generated/sklearn.feature_extraction.text.CountVectorizer.html)"
   ]
  },
  {
   "cell_type": "code",
   "execution_count": 13,
   "id": "ready-confidentiality",
   "metadata": {},
   "outputs": [],
   "source": [
    "from sklearn.feature_extraction.text import CountVectorizer, TfidfVectorizer\n",
    "vectorizer = TfidfVectorizer()\n",
    "X_train_vectors = vectorizer.fit_transform(X_train)\n",
    "# WE DON'T WANT TO FIT A NEW MODEL FOR THE TEST DATA SET SO THAT'S WHY WE JUST TRANSFORM IT FROM THE FTTED MODEL\n",
    "X_test_vectors = vectorizer.transform(X_test)\n"
   ]
  },
  {
   "cell_type": "code",
   "execution_count": null,
   "id": "cognitive-steal",
   "metadata": {},
   "outputs": [],
   "source": []
  },
  {
   "cell_type": "code",
   "execution_count": 14,
   "id": "fundamental-shoot",
   "metadata": {},
   "outputs": [
    {
     "name": "stdout",
     "output_type": "stream",
     "text": [
      "Upon beginning this book, there were a few things that popped into my head: Mr. Spector has an interesting sense of humor, he doesn't back down in his writing, and his storytelling reminds me of my Papa. Grandpapa, my mother's father, is a great storyteller and even though sometimes his humor goes over my head, his enthusiasm and style always made listening that much more enjoyable. Mr. Spector is the same type of storyteller.As a memoir, or an attempt at one, I would have liked more organization. Centering it on one aspect of his life (like the traveling or his military career), I think, would have made the book more enjoyable. That said, his writing isn't bad and I could see everything he described. Granted, some of the stories (mainly in the middle) lacked in spirit. However, that doesn't make him a bad writer or his stories any less important.I loved that he decided to make a memoir for himself and his family. I wouldn't have been able to do this for fear that no one would care, but Mr. Spector doesn't care about that. All that matters to him is that some stories hit a certain resonance in the reader, and a number of those stories do (the story about Cambodia, being one of those).\n",
      "(1, 11542)\n"
     ]
    }
   ],
   "source": [
    "print(X_train[0])\n",
    "print(X_train_vectors[0].toarray().shape)"
   ]
  },
  {
   "cell_type": "markdown",
   "id": "egyptian-evolution",
   "metadata": {},
   "source": [
    "### CASSIFICATION\n",
    "* Now we have our `train_x` and `train_y` we can fit them to a model and do some classification"
   ]
  },
  {
   "cell_type": "code",
   "execution_count": null,
   "id": "changing-scene",
   "metadata": {},
   "outputs": [],
   "source": []
  },
  {
   "cell_type": "code",
   "execution_count": 15,
   "id": "institutional-trust",
   "metadata": {
    "scrolled": false
   },
   "outputs": [
    {
     "data": {
      "image/png": "[encoded data removed]",
      "text/plain": [
       "<Figure size 432x288 with 1 Axes>"
      ]
     },
     "metadata": {
      "needs_background": "light"
     },
     "output_type": "display_data"
    }
   ],
   "source": [
    "sns.countplot(x=y_train)\n",
    "plt.show()"
   ]
  },
  {
   "cell_type": "markdown",
   "id": "tutorial-emphasis",
   "metadata": {},
   "source": [
    "> From the visualisation we can see that the data is more skeweed to positive sentiments. **Let's fix that**"
   ]
  },
  {
   "cell_type": "markdown",
   "id": "dangerous-coordination",
   "metadata": {},
   "source": [
    "##### 1. SVC\n",
    "* **Support Vector Classification.**\n",
    "> [Docs](https://scikit-learn.org/stable/modules/generated/sklearn.svm.SVC.html)"
   ]
  },
  {
   "cell_type": "code",
   "execution_count": 43,
   "id": "little-hearing",
   "metadata": {},
   "outputs": [
    {
     "data": {
      "text/plain": [
       "SVC(C=1, kernel='linear')"
      ]
     },
     "execution_count": 43,
     "metadata": {},
     "output_type": "execute_result"
    }
   ],
   "source": [
    "from sklearn.svm import SVC\n",
    "clf_svm = SVC(kernel=\"linear\", C=1)\n",
    "clf_svm.fit(X_train_vectors, y_train)"
   ]
  },
  {
   "cell_type": "code",
   "execution_count": 44,
   "id": "absent-butter",
   "metadata": {},
   "outputs": [
    {
     "data": {
      "text/plain": [
       "\"I really enjoyed this book, it was fun, funny and well written. I'm looking forward to the next Quincy Mac adventure.\""
      ]
     },
     "execution_count": 44,
     "metadata": {},
     "output_type": "execute_result"
    }
   ],
   "source": [
    "X_test[9]"
   ]
  },
  {
   "cell_type": "code",
   "execution_count": 45,
   "id": "generic-window",
   "metadata": {},
   "outputs": [
    {
     "data": {
      "text/plain": [
       "array(['POSITIVE'], dtype='<U8')"
      ]
     },
     "execution_count": 45,
     "metadata": {},
     "output_type": "execute_result"
    }
   ],
   "source": [
    "clf_svm.predict(X_test_vectors[9])"
   ]
  },
  {
   "cell_type": "markdown",
   "id": "focused-spouse",
   "metadata": {},
   "source": [
    "##### 2. Decision Tree\n",
    "* Decision Trees (DTs) are a non-parametric supervised learning method used for classification and regression.\n",
    "> [Docs](https://scikit-learn.org/stable/modules/tree.html)"
   ]
  },
  {
   "cell_type": "code",
   "execution_count": 46,
   "id": "automated-description",
   "metadata": {},
   "outputs": [
    {
     "data": {
      "text/plain": [
       "DecisionTreeClassifier()"
      ]
     },
     "execution_count": 46,
     "metadata": {},
     "output_type": "execute_result"
    }
   ],
   "source": [
    "from sklearn.tree import DecisionTreeClassifier\n",
    "clf_dec = DecisionTreeClassifier()\n",
    "clf_dec.fit(X_train_vectors, y_train)"
   ]
  },
  {
   "cell_type": "code",
   "execution_count": 47,
   "id": "working-texture",
   "metadata": {},
   "outputs": [
    {
     "data": {
      "text/plain": [
       "array(['POSITIVE'], dtype='<U8')"
      ]
     },
     "execution_count": 47,
     "metadata": {},
     "output_type": "execute_result"
    }
   ],
   "source": [
    "clf_dec.predict(X_test_vectors[0])"
   ]
  },
  {
   "cell_type": "markdown",
   "id": "advanced-aquatic",
   "metadata": {},
   "source": [
    "##### 3. Naive Bayes\n",
    "> [Docs](https://scikit-learn.org/stable/modules/naive_bayes.html)"
   ]
  },
  {
   "cell_type": "code",
   "execution_count": 48,
   "id": "filled-philippines",
   "metadata": {},
   "outputs": [
    {
     "data": {
      "text/plain": [
       "GaussianNB()"
      ]
     },
     "execution_count": 48,
     "metadata": {},
     "output_type": "execute_result"
    }
   ],
   "source": [
    "from sklearn.naive_bayes import GaussianNB\n",
    "clf_gnb = GaussianNB()\n",
    "clf_gnb.fit(X_train_vectors.toarray(), y_train)"
   ]
  },
  {
   "cell_type": "code",
   "execution_count": 49,
   "id": "exotic-syndrome",
   "metadata": {},
   "outputs": [
    {
     "data": {
      "text/plain": [
       "array(['POSITIVE'], dtype='<U8')"
      ]
     },
     "execution_count": 49,
     "metadata": {},
     "output_type": "execute_result"
    }
   ],
   "source": [
    "clf_dec.predict(X_test_vectors[0])"
   ]
  },
  {
   "cell_type": "markdown",
   "id": "careful-fiction",
   "metadata": {},
   "source": [
    "#### 4. Logistic Regression\n",
    "> [Docs](https://scikit-learn.org/stable/modules/generated/sklearn.linear_model.LogisticRegression.html)"
   ]
  },
  {
   "cell_type": "code",
   "execution_count": 50,
   "id": "floral-garlic",
   "metadata": {},
   "outputs": [
    {
     "data": {
      "text/plain": [
       "LogisticRegression()"
      ]
     },
     "execution_count": 50,
     "metadata": {},
     "output_type": "execute_result"
    }
   ],
   "source": [
    "from sklearn.linear_model import LogisticRegression\n",
    "clf_log = LogisticRegression()\n",
    "clf_log.fit(X_train_vectors, y_train)"
   ]
  },
  {
   "cell_type": "code",
   "execution_count": 51,
   "id": "spanish-skirt",
   "metadata": {},
   "outputs": [
    {
     "data": {
      "text/plain": [
       "array(['POSITIVE'], dtype='<U8')"
      ]
     },
     "execution_count": 51,
     "metadata": {},
     "output_type": "execute_result"
    }
   ],
   "source": [
    "clf_dec.predict(X_test_vectors[0])"
   ]
  },
  {
   "cell_type": "markdown",
   "id": "impressive-ticket",
   "metadata": {},
   "source": [
    "## Evaluation"
   ]
  },
  {
   "cell_type": "code",
   "execution_count": 52,
   "id": "pretty-rouge",
   "metadata": {},
   "outputs": [
    {
     "name": "stdout",
     "output_type": "stream",
     "text": [
      "0.7795275590551181\n",
      "0.6161417322834646\n",
      "0.781496062992126\n"
     ]
    }
   ],
   "source": [
    "print(clf_svm.score(X_test_vectors, y_test))\n",
    "print(clf_dec.score(X_test_vectors, y_test))\n",
    "#print(clf_gnb.score(X_test_vectors, y_test))\n",
    "print(clf_log.score(X_test_vectors, y_test))"
   ]
  },
  {
   "cell_type": "code",
   "execution_count": 53,
   "id": "necessary-studio",
   "metadata": {},
   "outputs": [
    {
     "data": {
      "text/plain": [
       "array([0.7704918 , 0.78787879])"
      ]
     },
     "execution_count": 53,
     "metadata": {},
     "output_type": "execute_result"
    }
   ],
   "source": [
    "from sklearn.metrics import f1_score\n",
    "f1_score(y_test, clf_svm.predict(X_test_vectors), \n",
    "         average=None, labels=[Sentiment.POSITIVE,  Sentiment.NEGATIVE])"
   ]
  },
  {
   "cell_type": "markdown",
   "id": "respective-grounds",
   "metadata": {},
   "source": [
    "> With the f1_score, the array values should not be far apart that much"
   ]
  },
  {
   "cell_type": "code",
   "execution_count": 56,
   "id": "matched-resource",
   "metadata": {},
   "outputs": [
    {
     "data": {
      "text/plain": [
       "array(['NEGATIVE'], dtype='<U8')"
      ]
     },
     "execution_count": 56,
     "metadata": {},
     "output_type": "execute_result"
    }
   ],
   "source": [
    "sents = vectorizer.transform([\"bad.\"])\n",
    "clf_log.predict(sents)"
   ]
  },
  {
   "cell_type": "markdown",
   "id": "experienced-saturn",
   "metadata": {},
   "source": [
    "> The modeel is sometimes predicting wrongly. The best way to improve this is to increase the **training data set.**."
   ]
  },
  {
   "cell_type": "code",
   "execution_count": 42,
   "id": "attended-generator",
   "metadata": {},
   "outputs": [
    {
     "data": {
      "text/plain": [
       "GridSearchCV(cv=5, estimator=SVC(),\n",
       "             param_grid={'C': [1, 2, 3, 4, 5, 6, 7, 8, 9, 10, 11, 12, 13, 14,\n",
       "                               15, 16, 17, 18, 19],\n",
       "                         'kernel': ('linear', 'rbf')})"
      ]
     },
     "execution_count": 42,
     "metadata": {},
     "output_type": "execute_result"
    }
   ],
   "source": [
    "### Tuning the model Grid\n",
    "from sklearn.model_selection import GridSearchCV\n",
    "\n",
    "parameters = {'kernel': ('linear', 'rbf'), 'C': list(i+1 for i in range(19))}\n",
    "\n",
    "svc = SVC()\n",
    "clf = GridSearchCV(svc, parameters, cv=5)\n",
    "clf.fit(X_train_vectors, y_train)"
   ]
  },
  {
   "cell_type": "markdown",
   "id": "representative-nursery",
   "metadata": {},
   "source": [
    "### Saving our model"
   ]
  },
  {
   "cell_type": "code",
   "execution_count": 58,
   "id": "quality-supervision",
   "metadata": {},
   "outputs": [
    {
     "name": "stdout",
     "output_type": "stream",
     "text": [
      "MODEL SAVED\n"
     ]
    }
   ],
   "source": [
    "import pickle\n",
    "with open('./models/sentiment_classifier.pkl', 'wb') as f:\n",
    "    pickle.dump(clf, f)\n",
    "    \n",
    "print(\"MODEL SAVED\")"
   ]
  },
  {
   "cell_type": "code",
   "execution_count": null,
   "id": "advisory-native",
   "metadata": {},
   "outputs": [],
   "source": []
  },
  {
   "cell_type": "markdown",
   "id": "significant-rotation",
   "metadata": {},
   "source": [
    "### Using our model Again"
   ]
  },
  {
   "cell_type": "code",
   "execution_count": 64,
   "id": "running-diamond",
   "metadata": {},
   "outputs": [
    {
     "data": {
      "text/plain": [
       "'NEGATIVE'"
      ]
     },
     "execution_count": 64,
     "metadata": {},
     "output_type": "execute_result"
    }
   ],
   "source": [
    "with open('models/sentiment_classifier.pkl', 'rb') as f:\n",
    "    model = pickle.load(f)\n",
    "\n",
    "model.predict(vectorizer.transform([\"bad\"]))[0]"
   ]
  },
  {
   "cell_type": "code",
   "execution_count": null,
   "id": "immediate-tension",
   "metadata": {},
   "outputs": [],
   "source": []
  }
 ],
 "metadata": {
  "kernelspec": {
   "display_name": "Python 3",
   "language": "python",
   "name": "python3"
  },
  "language_info": {
   "codemirror_mode": {
    "name": "ipython",
    "version": 3
   },
   "file_extension": ".py",
   "mimetype": "text/x-python",
   "name": "python",
   "nbconvert_exporter": "python",
   "pygments_lexer": "ipython3",
   "version": "3.8.5"
  }
 },
 "nbformat": 4,
 "nbformat_minor": 5
}
