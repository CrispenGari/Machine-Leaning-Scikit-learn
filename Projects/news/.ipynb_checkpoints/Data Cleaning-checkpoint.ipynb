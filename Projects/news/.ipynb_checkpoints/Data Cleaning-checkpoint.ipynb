{
 "cells": [
  {
   "cell_type": "markdown",
   "id": "extra-complement",
   "metadata": {},
   "source": [
    "## Cleaning Data\n",
    "> We will clean the data from `news_categories.csv` file and take what we will use to classify the `News Categories`"
   ]
  },
  {
   "cell_type": "code",
   "execution_count": null,
   "id": "committed-allen",
   "metadata": {},
   "outputs": [],
   "source": []
  },
  {
   "cell_type": "code",
   "execution_count": 1,
   "id": "bearing-venice",
   "metadata": {},
   "outputs": [],
   "source": [
    "import requests\n",
    "import json\n",
    "import pandas as pd\n",
    "import numpy as np\n",
    "import csv\n",
    "import nltk"
   ]
  },
  {
   "cell_type": "code",
   "execution_count": 2,
   "id": "published-freeware",
   "metadata": {},
   "outputs": [],
   "source": [
    "path_name = \"news_categories.csv\""
   ]
  },
  {
   "cell_type": "code",
   "execution_count": 10,
   "id": "sustainable-caribbean",
   "metadata": {},
   "outputs": [
    {
     "data": {
      "text/html": [
       "<div>\n",
       "<style scoped>\n",
       "    .dataframe tbody tr th:only-of-type {\n",
       "        vertical-align: middle;\n",
       "    }\n",
       "\n",
       "    .dataframe tbody tr th {\n",
       "        vertical-align: top;\n",
       "    }\n",
       "\n",
       "    .dataframe thead th {\n",
       "        text-align: right;\n",
       "    }\n",
       "</style>\n",
       "<table border=\"1\" class=\"dataframe\">\n",
       "  <thead>\n",
       "    <tr style=\"text-align: right;\">\n",
       "      <th></th>\n",
       "      <th>category</th>\n",
       "      <th>country_code</th>\n",
       "      <th>urlToImage</th>\n",
       "      <th>author</th>\n",
       "      <th>title</th>\n",
       "      <th>description</th>\n",
       "      <th>url</th>\n",
       "      <th>publishedAt</th>\n",
       "      <th>content</th>\n",
       "    </tr>\n",
       "  </thead>\n",
       "  <tbody>\n",
       "    <tr>\n",
       "      <th>0</th>\n",
       "      <td>BUSINESS</td>\n",
       "      <td>za</td>\n",
       "      <td>https://cdn.24.co.za/files/Cms/General/d/6839/...</td>\n",
       "      <td>NaN</td>\n",
       "      <td>CEO of $2bn start-up ousted for microdosing LS...</td>\n",
       "      <td>NaN</td>\n",
       "      <td>https://www.news24.com/fin24/economy/world/ceo...</td>\n",
       "      <td>2021-04-28T07:15:39Z</td>\n",
       "      <td>Marketing startup Iterable dismissed its chief...</td>\n",
       "    </tr>\n",
       "    <tr>\n",
       "      <th>1</th>\n",
       "      <td>BUSINESS</td>\n",
       "      <td>za</td>\n",
       "      <td>https://businesstech.co.za/news/wp-content/upl...</td>\n",
       "      <td>https://www.facebook.com/BusinessTechSA</td>\n",
       "      <td>Mango flight booking warning - BusinessTech</td>\n",
       "      <td>State-owned domestic airline Mango is facing f...</td>\n",
       "      <td>https://businesstech.co.za/news/business/48629...</td>\n",
       "      <td>2021-04-28T07:09:14Z</td>\n",
       "      <td>State-owned domestic airline Mango is facing f...</td>\n",
       "    </tr>\n",
       "    <tr>\n",
       "      <th>2</th>\n",
       "      <td>BUSINESS</td>\n",
       "      <td>za</td>\n",
       "      <td>https://businesstech.co.za/news/wp-content/upl...</td>\n",
       "      <td>https://www.facebook.com/BusinessTechSA</td>\n",
       "      <td>Absa launches QR payments - BusinessTech</td>\n",
       "      <td>Absa has launched QR payments as part of a gro...</td>\n",
       "      <td>https://businesstech.co.za/news/banking/486249...</td>\n",
       "      <td>2021-04-28T06:08:33Z</td>\n",
       "      <td>Absa has launched QR payments as part of a pus...</td>\n",
       "    </tr>\n",
       "    <tr>\n",
       "      <th>3</th>\n",
       "      <td>BUSINESS</td>\n",
       "      <td>za</td>\n",
       "      <td>https://cdn.24.co.za/files/Cms/General/d/8065/...</td>\n",
       "      <td>NaN</td>\n",
       "      <td>Spotify undercuts Apple with new ways for podc...</td>\n",
       "      <td>Spotify is rolling out new ways for podcasters...</td>\n",
       "      <td>https://www.news24.com/fin24/companies/ict/spo...</td>\n",
       "      <td>2021-04-28T03:19:30Z</td>\n",
       "      <td>Spotify is rolling out new ways for podcasters...</td>\n",
       "    </tr>\n",
       "    <tr>\n",
       "      <th>4</th>\n",
       "      <td>BUSINESS</td>\n",
       "      <td>za</td>\n",
       "      <td>https://cdn.24.co.za/files/Cms/General/d/2925/...</td>\n",
       "      <td>NaN</td>\n",
       "      <td>REVIEW | Subaru Forester is a formidable SUV, ...</td>\n",
       "      <td>The Subaru Forester has been refreshed for 202...</td>\n",
       "      <td>https://www.news24.com/wheels/offroad_and_4x4/...</td>\n",
       "      <td>2021-04-28T02:31:13Z</td>\n",
       "      <td>• Subaru's new, updated Forester is now availa...</td>\n",
       "    </tr>\n",
       "    <tr>\n",
       "      <th>5</th>\n",
       "      <td>BUSINESS</td>\n",
       "      <td>za</td>\n",
       "      <td>https://www.dailymaverick.co.za/wp-content/upl...</td>\n",
       "      <td>J Brooks Spector</td>\n",
       "      <td>Scams, cons and stupidities: History is replet...</td>\n",
       "      <td>The White Spiritual Boy Trust offers a way to ...</td>\n",
       "      <td>https://www.dailymaverick.co.za/article/2021-0...</td>\n",
       "      <td>2021-04-27T19:54:28Z</td>\n",
       "      <td>(Photo: Adobe Stock) \\r\\nThe point is, ladies ...</td>\n",
       "    </tr>\n",
       "    <tr>\n",
       "      <th>6</th>\n",
       "      <td>BUSINESS</td>\n",
       "      <td>za</td>\n",
       "      <td>http://cdn.24.co.za/files/Cms/General/d/11141/...</td>\n",
       "      <td>NaN</td>\n",
       "      <td>SpaceX was approved to fly thousands more sate...</td>\n",
       "      <td>After a near-miss earlier this month, several ...</td>\n",
       "      <td>https://www.businessinsider.com/elon-musk-spac...</td>\n",
       "      <td>2021-04-27T19:11:07Z</td>\n",
       "      <td>The American Federal Communications Commission...</td>\n",
       "    </tr>\n",
       "    <tr>\n",
       "      <th>7</th>\n",
       "      <td>BUSINESS</td>\n",
       "      <td>za</td>\n",
       "      <td>https://mybroadband.co.za/news/wp-content/uplo...</td>\n",
       "      <td>https://www.facebook.com/mybroadband</td>\n",
       "      <td>One in four mobile subscriptions fraudulent in...</td>\n",
       "      <td>Mobile subscription fraud continues to remain ...</td>\n",
       "      <td>https://mybroadband.co.za/news/cellular/394507...</td>\n",
       "      <td>2021-04-27T14:04:17Z</td>\n",
       "      <td>Mobile subscription fraud continues to remain ...</td>\n",
       "    </tr>\n",
       "    <tr>\n",
       "      <th>8</th>\n",
       "      <td>BUSINESS</td>\n",
       "      <td>za</td>\n",
       "      <td>https://businesstech.co.za/news/wp-content/upl...</td>\n",
       "      <td>https://www.facebook.com/BusinessTechSA</td>\n",
       "      <td>Why offshore investments continue to be an att...</td>\n",
       "      <td>In the current investment environment offshore...</td>\n",
       "      <td>https://businesstech.co.za/news/banking/483135...</td>\n",
       "      <td>2021-04-27T09:00:30Z</td>\n",
       "      <td>In the current investment environment offshore...</td>\n",
       "    </tr>\n",
       "    <tr>\n",
       "      <th>9</th>\n",
       "      <td>BUSINESS</td>\n",
       "      <td>za</td>\n",
       "      <td>https://mybroadband.co.za/news/wp-content/uplo...</td>\n",
       "      <td>https://www.facebook.com/mybroadband</td>\n",
       "      <td>Tesla sold Bitcoin to prove cryptocurrency’s l...</td>\n",
       "      <td>Elon Musk said Tesla Inc. sold 10% of its Bitc...</td>\n",
       "      <td>https://mybroadband.co.za/news/cryptocurrency/...</td>\n",
       "      <td>2021-04-27T05:26:22Z</td>\n",
       "      <td>Elon Musk said Tesla Inc. sold 10% of its Bitc...</td>\n",
       "    </tr>\n",
       "  </tbody>\n",
       "</table>\n",
       "</div>"
      ],
      "text/plain": [
       "   category country_code                                         urlToImage  \\\n",
       "0  BUSINESS           za  https://cdn.24.co.za/files/Cms/General/d/6839/...   \n",
       "1  BUSINESS           za  https://businesstech.co.za/news/wp-content/upl...   \n",
       "2  BUSINESS           za  https://businesstech.co.za/news/wp-content/upl...   \n",
       "3  BUSINESS           za  https://cdn.24.co.za/files/Cms/General/d/8065/...   \n",
       "4  BUSINESS           za  https://cdn.24.co.za/files/Cms/General/d/2925/...   \n",
       "5  BUSINESS           za  https://www.dailymaverick.co.za/wp-content/upl...   \n",
       "6  BUSINESS           za  http://cdn.24.co.za/files/Cms/General/d/11141/...   \n",
       "7  BUSINESS           za  https://mybroadband.co.za/news/wp-content/uplo...   \n",
       "8  BUSINESS           za  https://businesstech.co.za/news/wp-content/upl...   \n",
       "9  BUSINESS           za  https://mybroadband.co.za/news/wp-content/uplo...   \n",
       "\n",
       "                                    author  \\\n",
       "0                                      NaN   \n",
       "1  https://www.facebook.com/BusinessTechSA   \n",
       "2  https://www.facebook.com/BusinessTechSA   \n",
       "3                                      NaN   \n",
       "4                                      NaN   \n",
       "5                         J Brooks Spector   \n",
       "6                                      NaN   \n",
       "7     https://www.facebook.com/mybroadband   \n",
       "8  https://www.facebook.com/BusinessTechSA   \n",
       "9     https://www.facebook.com/mybroadband   \n",
       "\n",
       "                                               title  \\\n",
       "0  CEO of $2bn start-up ousted for microdosing LS...   \n",
       "1        Mango flight booking warning - BusinessTech   \n",
       "2           Absa launches QR payments - BusinessTech   \n",
       "3  Spotify undercuts Apple with new ways for podc...   \n",
       "4  REVIEW | Subaru Forester is a formidable SUV, ...   \n",
       "5  Scams, cons and stupidities: History is replet...   \n",
       "6  SpaceX was approved to fly thousands more sate...   \n",
       "7  One in four mobile subscriptions fraudulent in...   \n",
       "8  Why offshore investments continue to be an att...   \n",
       "9  Tesla sold Bitcoin to prove cryptocurrency’s l...   \n",
       "\n",
       "                                         description  \\\n",
       "0                                                NaN   \n",
       "1  State-owned domestic airline Mango is facing f...   \n",
       "2  Absa has launched QR payments as part of a gro...   \n",
       "3  Spotify is rolling out new ways for podcasters...   \n",
       "4  The Subaru Forester has been refreshed for 202...   \n",
       "5  The White Spiritual Boy Trust offers a way to ...   \n",
       "6  After a near-miss earlier this month, several ...   \n",
       "7  Mobile subscription fraud continues to remain ...   \n",
       "8  In the current investment environment offshore...   \n",
       "9  Elon Musk said Tesla Inc. sold 10% of its Bitc...   \n",
       "\n",
       "                                                 url           publishedAt  \\\n",
       "0  https://www.news24.com/fin24/economy/world/ceo...  2021-04-28T07:15:39Z   \n",
       "1  https://businesstech.co.za/news/business/48629...  2021-04-28T07:09:14Z   \n",
       "2  https://businesstech.co.za/news/banking/486249...  2021-04-28T06:08:33Z   \n",
       "3  https://www.news24.com/fin24/companies/ict/spo...  2021-04-28T03:19:30Z   \n",
       "4  https://www.news24.com/wheels/offroad_and_4x4/...  2021-04-28T02:31:13Z   \n",
       "5  https://www.dailymaverick.co.za/article/2021-0...  2021-04-27T19:54:28Z   \n",
       "6  https://www.businessinsider.com/elon-musk-spac...  2021-04-27T19:11:07Z   \n",
       "7  https://mybroadband.co.za/news/cellular/394507...  2021-04-27T14:04:17Z   \n",
       "8  https://businesstech.co.za/news/banking/483135...  2021-04-27T09:00:30Z   \n",
       "9  https://mybroadband.co.za/news/cryptocurrency/...  2021-04-27T05:26:22Z   \n",
       "\n",
       "                                             content  \n",
       "0  Marketing startup Iterable dismissed its chief...  \n",
       "1  State-owned domestic airline Mango is facing f...  \n",
       "2  Absa has launched QR payments as part of a pus...  \n",
       "3  Spotify is rolling out new ways for podcasters...  \n",
       "4  • Subaru's new, updated Forester is now availa...  \n",
       "5  (Photo: Adobe Stock) \\r\\nThe point is, ladies ...  \n",
       "6  The American Federal Communications Commission...  \n",
       "7  Mobile subscription fraud continues to remain ...  \n",
       "8  In the current investment environment offshore...  \n",
       "9  Elon Musk said Tesla Inc. sold 10% of its Bitc...  "
      ]
     },
     "execution_count": 10,
     "metadata": {},
     "output_type": "execute_result"
    }
   ],
   "source": [
    "news = pd.read_csv(path_name)\n",
    "news.head(10)"
   ]
  },
  {
   "cell_type": "markdown",
   "id": "major-sight",
   "metadata": {},
   "source": [
    "> We are interested in `category` and `description`, which means we will classify our news based on `description`"
   ]
  },
  {
   "cell_type": "code",
   "execution_count": 12,
   "id": "according-cookbook",
   "metadata": {},
   "outputs": [],
   "source": [
    "categories = news.category.values\n",
    "description = news.description.values"
   ]
  },
  {
   "cell_type": "code",
   "execution_count": 14,
   "id": "careful-guest",
   "metadata": {},
   "outputs": [
    {
     "data": {
      "text/plain": [
       "(5279,\n",
       " 5279,\n",
       " array([nan,\n",
       "        'State-owned domestic airline Mango is facing financial uncertainty, raising questions about how much longer it can stay in the air.'],\n",
       "       dtype=object),\n",
       " array(['BUSINESS', 'BUSINESS'], dtype=object))"
      ]
     },
     "execution_count": 14,
     "metadata": {},
     "output_type": "execute_result"
    }
   ],
   "source": [
    "len(categories), len(description), description[:2], categories[:2]"
   ]
  },
  {
   "cell_type": "markdown",
   "id": "laden-parks",
   "metadata": {},
   "source": [
    "> We want to remove all news with `nan` description from our data"
   ]
  },
  {
   "cell_type": "code",
   "execution_count": 62,
   "id": "ongoing-livestock",
   "metadata": {},
   "outputs": [],
   "source": [
    "news = []\n",
    "\n",
    "for i in range(len(categories)):\n",
    "    if str(description[i]) != 'nan':\n",
    "        news.append([categories[i], description[i]])\n",
    "        "
   ]
  },
  {
   "cell_type": "code",
   "execution_count": 63,
   "id": "atomic-working",
   "metadata": {},
   "outputs": [
    {
     "data": {
      "text/plain": [
       "(4706,\n",
       " [['BUSINESS',\n",
       "   'State-owned domestic airline Mango is facing financial uncertainty, raising questions about how much longer it can stay in the air.'],\n",
       "  ['BUSINESS',\n",
       "   'Absa has launched QR payments as part of a growing push to reduce physical transactions.'],\n",
       "  ['BUSINESS',\n",
       "   'Spotify is rolling out new ways for podcasters to make money from their shows, stepping up efforts after a recent move by Apple to attract talent to its platform.'],\n",
       "  ['BUSINESS',\n",
       "   'The Subaru Forester has been refreshed for 2021. We drive the version with the small(er) 2.0-litre petrol engine.'],\n",
       "  ['BUSINESS',\n",
       "   'The White Spiritual Boy Trust offers a way to think about scams and cons — and to realise this current imbroglio has lots of historical antecedents.']])"
      ]
     },
     "execution_count": 63,
     "metadata": {},
     "output_type": "execute_result"
    }
   ],
   "source": [
    "len(news),  news[:5]"
   ]
  },
  {
   "cell_type": "markdown",
   "id": "ethical-morgan",
   "metadata": {},
   "source": [
    "> Now we are left with `4706` news list. Let's think also about what else can we remove, numbers and punctuations, converting all sents to lowercase."
   ]
  },
  {
   "cell_type": "code",
   "execution_count": 64,
   "id": "pressing-springer",
   "metadata": {},
   "outputs": [],
   "source": [
    "import re"
   ]
  },
  {
   "cell_type": "code",
   "execution_count": 82,
   "id": "sound-practice",
   "metadata": {},
   "outputs": [],
   "source": [
    "news_lower_clean = []\n",
    "for cat, desc in news:\n",
    "    # remove non-word characters, punctuations\n",
    "    new__1 = re.sub(r\"\\W\", \" \",desc.lower())\n",
    "    # remove digits\n",
    "    new__2 = re.sub(r\"\\d\", \"\",new__1)\n",
    "    news_lower_clean.append([cat, new__2])"
   ]
  },
  {
   "cell_type": "code",
   "execution_count": 83,
   "id": "horizontal-roots",
   "metadata": {},
   "outputs": [
    {
     "data": {
      "text/plain": [
       "(4706,\n",
       " [['BUSINESS',\n",
       "   'state owned domestic airline mango is facing financial uncertainty  raising questions about how much longer it can stay in the air '],\n",
       "  ['BUSINESS',\n",
       "   'absa has launched qr payments as part of a growing push to reduce physical transactions '],\n",
       "  ['BUSINESS',\n",
       "   'spotify is rolling out new ways for podcasters to make money from their shows  stepping up efforts after a recent move by apple to attract talent to its platform '],\n",
       "  ['BUSINESS',\n",
       "   'the subaru forester has been refreshed for   we drive the version with the small er    litre petrol engine '],\n",
       "  ['BUSINESS',\n",
       "   'the white spiritual boy trust offers a way to think about scams and cons   and to realise this current imbroglio has lots of historical antecedents ']])"
      ]
     },
     "execution_count": 83,
     "metadata": {},
     "output_type": "execute_result"
    }
   ],
   "source": [
    "len(news_lower_clean),  news_lower_clean[:5]"
   ]
  },
  {
   "cell_type": "markdown",
   "id": "pregnant-humanity",
   "metadata": {},
   "source": [
    "> Remove `stopwords` from the each news description"
   ]
  },
  {
   "cell_type": "code",
   "execution_count": 100,
   "id": "bulgarian-float",
   "metadata": {},
   "outputs": [],
   "source": [
    "from nltk.corpus import stopwords\n",
    "from nltk.tokenize import word_tokenize\n",
    "stop_words = stopwords.words()"
   ]
  },
  {
   "cell_type": "markdown",
   "id": "international-aruba",
   "metadata": {},
   "source": [
    "> We want to remove all `stopwords` for all languages."
   ]
  },
  {
   "cell_type": "code",
   "execution_count": 116,
   "id": "coated-project",
   "metadata": {},
   "outputs": [],
   "source": [
    "news_lower_clean_stopwords = []\n",
    "for cat, desc in news_lower_clean:\n",
    "    word_tokens =[ word for word in word_tokenize(desc) if word not in stop_words]\n",
    "    new__1 = ' '.join(word_tokens)\n",
    "\n",
    "    news_lower_clean_stopwords.append([cat, new__1])\n"
   ]
  },
  {
   "cell_type": "code",
   "execution_count": 117,
   "id": "alpine-hotel",
   "metadata": {},
   "outputs": [
    {
     "data": {
      "text/plain": [
       "(4706,\n",
       " [['BUSINESS',\n",
       "   'state owned domestic airline mango facing financial uncertainty raising questions much longer stay air'],\n",
       "  ['BUSINESS',\n",
       "   'absa launched qr payments part growing push reduce physical transactions'],\n",
       "  ['BUSINESS',\n",
       "   'spotify rolling new ways podcasters make money shows stepping efforts recent move apple attract talent platform'],\n",
       "  ['BUSINESS',\n",
       "   'subaru forester refreshed drive version small litre petrol engine'],\n",
       "  ['BUSINESS',\n",
       "   'white spiritual boy trust offers way think scams cons realise current imbroglio lots historical antecedents']])"
      ]
     },
     "execution_count": 117,
     "metadata": {},
     "output_type": "execute_result"
    }
   ],
   "source": [
    "len(news_lower_clean_stopwords),  news_lower_clean_stopwords[:5]"
   ]
  },
  {
   "cell_type": "markdown",
   "id": "fifty-amazon",
   "metadata": {},
   "source": [
    "> Now our data is becoming more `cleaner` what if we `lemmatize` some words. We can also correct spellings. We are going to use the `WordnetLemmatizer` to do that."
   ]
  },
  {
   "cell_type": "code",
   "execution_count": 118,
   "id": "bottom-ukraine",
   "metadata": {},
   "outputs": [],
   "source": [
    "from nltk.stem import WordNetLemmatizer"
   ]
  },
  {
   "cell_type": "code",
   "execution_count": 119,
   "id": "portuguese-relationship",
   "metadata": {},
   "outputs": [],
   "source": [
    "lemmatizer = WordNetLemmatizer()"
   ]
  },
  {
   "cell_type": "code",
   "execution_count": null,
   "id": "square-carter",
   "metadata": {},
   "outputs": [],
   "source": [
    "cleaned_news = []\n",
    "for cat, desc in news_lower_clean:\n",
    "    word_tokens =[ word for word in word_tokenize(desc) if word not in stop_words]\n",
    "    new__1 = ' '.join(word_tokens)\n",
    "\n",
    "    cleaned_news.append([cat, new__1])\n"
   ]
  }
 ],
 "metadata": {
  "kernelspec": {
   "display_name": "Python 3",
   "language": "python",
   "name": "python3"
  },
  "language_info": {
   "codemirror_mode": {
    "name": "ipython",
    "version": 3
   },
   "file_extension": ".py",
   "mimetype": "text/x-python",
   "name": "python",
   "nbconvert_exporter": "python",
   "pygments_lexer": "ipython3",
   "version": "3.8.5"
  }
 },
 "nbformat": 4,
 "nbformat_minor": 5
}
