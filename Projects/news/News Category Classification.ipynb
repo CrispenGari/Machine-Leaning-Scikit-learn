{
 "cells": [
  {
   "cell_type": "markdown",
   "id": "potential-ceramic",
   "metadata": {},
   "source": [
    "### News Classification\n",
    "> We are going to classify news categories\n",
    "> We are going to use `naive_bayes` algo"
   ]
  },
  {
   "cell_type": "code",
   "execution_count": 1,
   "id": "reverse-constant",
   "metadata": {},
   "outputs": [],
   "source": [
    "import requests\n",
    "import json\n",
    "import pandas as pd\n",
    "import numpy as np\n",
    "import csv\n",
    "import nltk\n",
    "import pickle"
   ]
  },
  {
   "cell_type": "markdown",
   "id": "functioning-wellington",
   "metadata": {},
   "source": [
    "### Loading data"
   ]
  },
  {
   "cell_type": "code",
   "execution_count": 97,
   "id": "sweet-brake",
   "metadata": {},
   "outputs": [],
   "source": [
    "path = 'news_after_stemming.pkl'"
   ]
  },
  {
   "cell_type": "code",
   "execution_count": 112,
   "id": "crucial-participant",
   "metadata": {},
   "outputs": [
    {
     "data": {
      "text/plain": [
       "4706"
      ]
     },
     "execution_count": 112,
     "metadata": {},
     "output_type": "execute_result"
    }
   ],
   "source": [
    "with open(path, 'rb') as f:\n",
    "    news = pickle.load(f)\n",
    "len(news)"
   ]
  },
  {
   "cell_type": "markdown",
   "id": "driven-passing",
   "metadata": {},
   "source": [
    "#### Changing categories into numbers for example [0, 1, 2....], [BUSINESS...]"
   ]
  },
  {
   "cell_type": "code",
   "execution_count": 118,
   "id": "royal-thing",
   "metadata": {},
   "outputs": [
    {
     "data": {
      "text/plain": [
       "(['state owned domestic airline mango facing financial uncertainty raising questions much longer stay air',\n",
       "  'absa launched qr payments part growing push reduce physical transactions'],)"
      ]
     },
     "execution_count": 118,
     "metadata": {},
     "output_type": "execute_result"
    }
   ],
   "source": [
    "categories =[]\n",
    "description =[]\n",
    "for cat, desc in news:\n",
    "    categories.append(cat)\n",
    "    description.append(desc)\n",
    "    \n",
    "description[:2], "
   ]
  },
  {
   "cell_type": "code",
   "execution_count": 119,
   "id": "underlying-harassment",
   "metadata": {},
   "outputs": [],
   "source": [
    "categories_dict = {'GENERAL':0,\n",
    "  'TECHNOLOGY':1,\n",
    "  'HEALTH':2,\n",
    "  'ENTERTAINMENT':3,\n",
    "  'BUSINESS':4,\n",
    "  'SCIENCE':5,\n",
    "  'SPORTS':6\n",
    "}"
   ]
  },
  {
   "cell_type": "code",
   "execution_count": 120,
   "id": "excited-cherry",
   "metadata": {},
   "outputs": [
    {
     "data": {
      "text/plain": [
       "4706"
      ]
     },
     "execution_count": 120,
     "metadata": {},
     "output_type": "execute_result"
    }
   ],
   "source": [
    "categories_in_numbers = [categories_dict[i] for i in categories]\n",
    "len(categories_in_numbers)"
   ]
  },
  {
   "cell_type": "markdown",
   "id": "direct-platform",
   "metadata": {},
   "source": [
    "> Now let's join the descriptions with their respective categories_in_numbers"
   ]
  },
  {
   "cell_type": "code",
   "execution_count": 121,
   "id": "boxed-washer",
   "metadata": {},
   "outputs": [
    {
     "data": {
      "text/plain": [
       "(['state owned domestic airline mango facing financial uncertainty raising questions much longer stay air',\n",
       "  'absa launched qr payments part growing push reduce physical transactions'],\n",
       " [4, 4],\n",
       " 4706,\n",
       " 4706)"
      ]
     },
     "execution_count": 121,
     "metadata": {},
     "output_type": "execute_result"
    }
   ],
   "source": [
    "X = description\n",
    "y = categories_in_numbers\n",
    "X[:2], y[:2], len(X), len(y)"
   ]
  },
  {
   "cell_type": "code",
   "execution_count": 122,
   "id": "considered-essence",
   "metadata": {},
   "outputs": [],
   "source": [
    "from sklearn.feature_extraction.text import TfidfVectorizer, CountVectorizer, HashingVectorizer\n",
    "from sklearn.model_selection import train_test_split\n",
    "from sklearn.metrics import f1_score, accuracy_score\n",
    "from sklearn.naive_bayes import MultinomialNB\n",
    "from sklearn.pipeline import Pipeline"
   ]
  },
  {
   "cell_type": "code",
   "execution_count": 123,
   "id": "revised-imaging",
   "metadata": {},
   "outputs": [
    {
     "data": {
      "text/plain": [
       "(3764, 942, 3764, 942)"
      ]
     },
     "execution_count": 123,
     "metadata": {},
     "output_type": "execute_result"
    }
   ],
   "source": [
    "X_train, X_test, y_train, y_test = train_test_split(X, y, random_state=29, test_size =.20)\n",
    "len(X_train), len(X_test), len(y_train), len(y_test)"
   ]
  },
  {
   "cell_type": "code",
   "execution_count": 124,
   "id": "reduced-third",
   "metadata": {},
   "outputs": [
    {
     "data": {
      "text/plain": [
       "(['иорданский боксер рашед аль свайсат умер боя молодежном чемпионате мира польше апреля летний спортсмен потерял сознание время поединка весовой категории килограмма против эстонца андрея виноградова боксера госпитализировали б',\n",
       "  'καλεσμένος happy day ήταν σήμερα νίκος κοκλώνης οποίος ανακοίνωσε σταματίνα τσιμτσιλή απόφασή φύγει από open',\n",
       "  'quebec recorded new covid cases tuesday second time row new daily infections remained past month',\n",
       "  'child first covid pediatric death minnesota involve underlying health conditions',\n",
       "  'alongside episode act'],\n",
       " ['新浪娱乐讯月日晚 小浪带领北京地区团员提前观看了电影 阳光劫匪 影片由李玉执导 马丽 宋佳 张海宇 谢锐韬主演 讲述了阳光 马丽饰 经营着一家寻宠事务所 接受委托帮忙寻找丢失的宠物 有天 晓雪 宋佳饰 找到了阳光 请她找回自己相依为',\n",
       "  'έκδοση πιστοποιητικού κτηματογραφούμενου ακινήτου είναι απαραίτητος προηγούμενος εντοπισμός ακινήτου επί προσωρινών κτηματολογικών στοιχείων απόδοση αυτό κωδικού αριθμού εθνικού κτηματολογίου καεκ',\n",
       "  'نريد محمد رمضان نريد الفنان نريد صاحب الأخلاق العالية الفيديوهات صادفتها انستجرام يومين عفاني الله مؤقتا فيسبوك قدمت خبر وفاة الطيار أشرف أبو اليسر مرتبطا ملخص أزمته الشهيرة محمد رمضان بدا الرجل هز',\n",
       "  'judge dismissed lawsuit wade robson two alleged leaving neverland michael jackson sexually abused boys',\n",
       "  'ελλάδα ξεπέρασε φράγμα θανάτων από επιπλοκές της πανδημίας διασωληνωμένοι ασθενείς αυξήθηκαν στους ενώ ασθενείς έχασαν τη ζωή τους τελευταίο ωρο έγιναν εισαγωγές νέων ασθενών κέντρο της αθήνας νέα κρούσμα'],\n",
       " [6, 3, 4, 2, 1],\n",
       " [3, 4, 3, 3, 5])"
      ]
     },
     "execution_count": 124,
     "metadata": {},
     "output_type": "execute_result"
    }
   ],
   "source": [
    "X_train[:5], X_test[:5], y_train[:5], y_test[:5]"
   ]
  },
  {
   "cell_type": "code",
   "execution_count": 125,
   "id": "challenging-bachelor",
   "metadata": {},
   "outputs": [
    {
     "data": {
      "text/plain": [
       "Pipeline(steps=[('vect',\n",
       "                 CountVectorizer(ngram_range=(1, 3), stop_words='english')),\n",
       "                ('clf', MultinomialNB())])"
      ]
     },
     "execution_count": 125,
     "metadata": {},
     "output_type": "execute_result"
    }
   ],
   "source": [
    "pipe = Pipeline([\n",
    "    ('vect', CountVectorizer(stop_words=\"english\", ngram_range=(1, 3))),\n",
    "    ('clf', MultinomialNB()),\n",
    "])\n",
    "pipe"
   ]
  },
  {
   "cell_type": "code",
   "execution_count": 126,
   "id": "fitted-retirement",
   "metadata": {},
   "outputs": [
    {
     "data": {
      "text/plain": [
       "Pipeline(steps=[('vect',\n",
       "                 CountVectorizer(ngram_range=(1, 3), stop_words='english')),\n",
       "                ('clf', MultinomialNB())])"
      ]
     },
     "execution_count": 126,
     "metadata": {},
     "output_type": "execute_result"
    }
   ],
   "source": [
    "pipe.fit(X_train, y_train)"
   ]
  },
  {
   "cell_type": "markdown",
   "id": "polished-glossary",
   "metadata": {},
   "source": [
    "> Scoring the model"
   ]
  },
  {
   "cell_type": "code",
   "execution_count": 127,
   "id": "meaningful-secondary",
   "metadata": {},
   "outputs": [
    {
     "data": {
      "text/plain": [
       "0.941817215727949"
      ]
     },
     "execution_count": 127,
     "metadata": {},
     "output_type": "execute_result"
    }
   ],
   "source": [
    "pipe.score(X_train, y_train)"
   ]
  },
  {
   "cell_type": "markdown",
   "id": "vocational-bearing",
   "metadata": {},
   "source": [
    "> `94%` accurate on the train dataset."
   ]
  },
  {
   "cell_type": "code",
   "execution_count": 84,
   "id": "unnecessary-anthropology",
   "metadata": {},
   "outputs": [
    {
     "data": {
      "text/plain": [
       "0.5912951167728238"
      ]
     },
     "execution_count": 84,
     "metadata": {},
     "output_type": "execute_result"
    }
   ],
   "source": [
    "pipe.score(X_test, y_test)"
   ]
  },
  {
   "cell_type": "markdown",
   "id": "turned-solid",
   "metadata": {},
   "source": [
    "> `59%` accurate on the test dataset."
   ]
  },
  {
   "cell_type": "code",
   "execution_count": 88,
   "id": "alleged-tattoo",
   "metadata": {},
   "outputs": [
    {
     "data": {
      "text/plain": [
       "array([0.09929078, 0.59101655, 0.64676617, 0.67272727, 0.49541284,\n",
       "       0.64944649, 0.71333333])"
      ]
     },
     "execution_count": 88,
     "metadata": {},
     "output_type": "execute_result"
    }
   ],
   "source": [
    "y_pred = pipe.predict(X_test)\n",
    "f1_score(y_test, y_pred, average=None, labels =list(categories_dict.values()))"
   ]
  },
  {
   "cell_type": "markdown",
   "id": "greenhouse-stuff",
   "metadata": {},
   "source": [
    "> Making predictions"
   ]
  },
  {
   "cell_type": "code",
   "execution_count": 90,
   "id": "boring-baseball",
   "metadata": {},
   "outputs": [
    {
     "data": {
      "text/plain": [
       "('иорданский боксер рашед аль свайсат умер боя молодежном чемпионате мира польше апреля летний спортсмен потерял сознание время поединка весовой категории килограмма против эстонца андрея виноградова боксера госпитализировали б',\n",
       " 6)"
      ]
     },
     "execution_count": 90,
     "metadata": {},
     "output_type": "execute_result"
    }
   ],
   "source": [
    "X_train[0], y_train[0]"
   ]
  },
  {
   "cell_type": "code",
   "execution_count": 91,
   "id": "fitting-plain",
   "metadata": {},
   "outputs": [
    {
     "data": {
      "text/plain": [
       "array([6])"
      ]
     },
     "execution_count": 91,
     "metadata": {},
     "output_type": "execute_result"
    }
   ],
   "source": [
    "pipe.predict([X_train[0]])"
   ]
  },
  {
   "cell_type": "code",
   "execution_count": 92,
   "id": "grateful-liberty",
   "metadata": {},
   "outputs": [
    {
     "data": {
      "text/plain": [
       "('patron spacex donné quelques détails objectif envoyer hommes mars ici quelques années visiblement voyage tout repos',\n",
       " 1)"
      ]
     },
     "execution_count": 92,
     "metadata": {},
     "output_type": "execute_result"
    }
   ],
   "source": [
    "X_train[10], y_train[10]"
   ]
  },
  {
   "cell_type": "code",
   "execution_count": 93,
   "id": "southeast-continuity",
   "metadata": {},
   "outputs": [
    {
     "data": {
      "text/plain": [
       "array([1])"
      ]
     },
     "execution_count": 93,
     "metadata": {},
     "output_type": "execute_result"
    }
   ],
   "source": [
    "pipe.predict([X_train[10]])"
   ]
  },
  {
   "cell_type": "code",
   "execution_count": 95,
   "id": "imported-ranch",
   "metadata": {},
   "outputs": [
    {
     "data": {
      "text/plain": [
       "('астробиологи показали недра марса могут поддерживать микробную жизнь обеспечивая энергией всеми необходимыми веществами марсианские породы будут постоянно контактировать водой смогут производить побочные соединения важные жизнеде',\n",
       " 5)"
      ]
     },
     "execution_count": 95,
     "metadata": {},
     "output_type": "execute_result"
    }
   ],
   "source": [
    "X_test[10], y_test[10]"
   ]
  },
  {
   "cell_type": "code",
   "execution_count": 94,
   "id": "suited-consumer",
   "metadata": {},
   "outputs": [
    {
     "data": {
      "text/plain": [
       "array([5])"
      ]
     },
     "execution_count": 94,
     "metadata": {},
     "output_type": "execute_result"
    }
   ],
   "source": [
    "pipe.predict([X_test[10]])"
   ]
  },
  {
   "cell_type": "markdown",
   "id": "vocational-hospital",
   "metadata": {},
   "source": [
    "> The model is predicting well so far."
   ]
  },
  {
   "cell_type": "code",
   "execution_count": null,
   "id": "comparative-tourism",
   "metadata": {},
   "outputs": [],
   "source": []
  }
 ],
 "metadata": {
  "kernelspec": {
   "display_name": "Python 3",
   "language": "python",
   "name": "python3"
  },
  "language_info": {
   "codemirror_mode": {
    "name": "ipython",
    "version": 3
   },
   "file_extension": ".py",
   "mimetype": "text/x-python",
   "name": "python",
   "nbconvert_exporter": "python",
   "pygments_lexer": "ipython3",
   "version": "3.8.5"
  }
 },
 "nbformat": 4,
 "nbformat_minor": 5
}
