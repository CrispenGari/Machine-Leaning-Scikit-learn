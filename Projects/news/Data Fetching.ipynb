{
 "cells": [
  {
   "cell_type": "markdown",
   "id": "sustained-shore",
   "metadata": {},
   "source": [
    "## NEWS DATA FETCHING\n",
    "* We are going to fetch news based on category from a news api using the `requests` python module.\n",
    "> [API](https://newsapi.org/)"
   ]
  },
  {
   "cell_type": "code",
   "execution_count": 81,
   "id": "photographic-gazette",
   "metadata": {},
   "outputs": [],
   "source": [
    "import requests\n",
    "import json\n",
    "import pandas as pd\n",
    "import numpy as np\n",
    "import csv"
   ]
  },
  {
   "cell_type": "code",
   "execution_count": 30,
   "id": "nearby-norfolk",
   "metadata": {},
   "outputs": [],
   "source": [
    "class News:\n",
    "    def __init__(self, urlToImage, author, title, description, url, publishedAt, content):\n",
    "        self.urlToImage = urlToImage\n",
    "        self.author = author\n",
    "        self.title = title\n",
    "        self.description = description\n",
    "        self.url = url\n",
    "        self.content = content"
   ]
  },
  {
   "cell_type": "markdown",
   "id": "amber-puppy",
   "metadata": {},
   "source": [
    "## Get all countries\n",
    "> get the list of countries in the `countries.csv` file."
   ]
  },
  {
   "cell_type": "code",
   "execution_count": 48,
   "id": "bound-brain",
   "metadata": {},
   "outputs": [
    {
     "data": {
      "text/plain": [
       "['ae', 'ar']"
      ]
     },
     "execution_count": 48,
     "metadata": {},
     "output_type": "execute_result"
    }
   ],
   "source": [
    "df = pd.read_csv('countries.csv')\n",
    "countries =[\n",
    "'ae','ar','at','au','be','bg', 'br',\n",
    "'ca','ch','cn','co','cu','cz', 'de', 'eg', 'fr', 'gb',\n",
    "'gr','hk', 'hu', 'id','ie','il','in','it','jp','kr','lt','lv',\n",
    "'ma','mx','my','ng','nl','no','nz','ph','pl','pt','ro','rs','ru','sa','se','sg','si','sk',\n",
    "'th','tr','tw','ua','us','ve','za'\n",
    "]\n",
    "countries[:2]"
   ]
  },
  {
   "cell_type": "code",
   "execution_count": 71,
   "id": "stretch-rogers",
   "metadata": {},
   "outputs": [],
   "source": [
    "countries = ['za', 'us', 'gb', 'eg', 'fr', 'rs', 'gr', 'ca', 'ng', 'ru','sa','cn','co','no']"
   ]
  },
  {
   "cell_type": "code",
   "execution_count": 72,
   "id": "opposite-suggestion",
   "metadata": {},
   "outputs": [
    {
     "data": {
      "text/plain": [
       "14"
      ]
     },
     "execution_count": 72,
     "metadata": {},
     "output_type": "execute_result"
    }
   ],
   "source": [
    "len(countries)"
   ]
  },
  {
   "cell_type": "code",
   "execution_count": 73,
   "id": "loose-howard",
   "metadata": {},
   "outputs": [],
   "source": [
    "API_KEY = \"bb90b68b8d384ef78bc42501584aea44\"\n",
    "categories = [\"business\",\"entertainment\",\"general\",\"health\",\"science\",\"sports\",\"technology\"]"
   ]
  },
  {
   "cell_type": "code",
   "execution_count": 74,
   "id": "addressed-batman",
   "metadata": {},
   "outputs": [],
   "source": [
    "END_POINT = \"https://newsapi.org/v2/top-headlines?country=us&category=business&apiKey=150acdfbe4964f5b94b9c5fab701191b&pageSize=100\""
   ]
  },
  {
   "cell_type": "markdown",
   "id": "straight-regular",
   "metadata": {},
   "source": [
    "## Now let's fetch data and create "
   ]
  },
  {
   "cell_type": "code",
   "execution_count": 76,
   "id": "continued-winter",
   "metadata": {},
   "outputs": [],
   "source": [
    "news = []\n",
    "\n",
    "for category in categories:\n",
    "    for country in countries:\n",
    "        END_POINT = f\"https://newsapi.org/v2/top-headlines?country={country}&category={category}&apiKey={API_KEY}&pageSize=100\"\n",
    "        res = requests.get(END_POINT)\n",
    "        data = json.loads(res.content)[\"articles\"]\n",
    "        for new in data:\n",
    "            news_dict ={\n",
    "                \"category\": category.upper(),\n",
    "                \"country_code\": country,\n",
    "                'urlToImage': new['urlToImage'],\n",
    "                'author': new['author'], \n",
    "                'title': new['title'], \n",
    "                'description':new['description'],\n",
    "                'url':new['url'], \n",
    "                'publishedAt':new['publishedAt'], \n",
    "                'content':new['content']\n",
    "            }\n",
    "            news.append(news_dict)"
   ]
  },
  {
   "cell_type": "code",
   "execution_count": 77,
   "id": "united-length",
   "metadata": {},
   "outputs": [
    {
     "data": {
      "text/plain": [
       "5279"
      ]
     },
     "execution_count": 77,
     "metadata": {},
     "output_type": "execute_result"
    }
   ],
   "source": [
    "len(news)"
   ]
  },
  {
   "cell_type": "markdown",
   "id": "identical-collins",
   "metadata": {},
   "source": [
    "> Now we have `5279` news from 14 different countries and 7 different categories."
   ]
  },
  {
   "cell_type": "code",
   "execution_count": 78,
   "id": "local-contractor",
   "metadata": {},
   "outputs": [
    {
     "data": {
      "text/plain": [
       "{'category': 'BUSINESS',\n",
       " 'country_code': 'za',\n",
       " 'urlToImage': 'https://cdn.24.co.za/files/Cms/General/d/6839/a8b85dc80ca641c78aa261c139ce8da5.jpg',\n",
       " 'author': None,\n",
       " 'title': 'CEO of $2bn start-up ousted for microdosing LSD at work - News24',\n",
       " 'description': '',\n",
       " 'url': 'https://www.news24.com/fin24/economy/world/ceo-of-2bn-start-up-ousted-for-microdosing-lsd-at-work-20210428',\n",
       " 'publishedAt': '2021-04-28T07:15:39Z',\n",
       " 'content': 'Marketing startup Iterable dismissed its chief executive officer over violations of company policy, Iterable said in a note to employees on Monday.\\xa0\\r\\nThe fired CEO, Justin Zhu, said the board’s chief… [+1553 chars]'}"
      ]
     },
     "execution_count": 78,
     "metadata": {},
     "output_type": "execute_result"
    }
   ],
   "source": [
    "news[0]"
   ]
  },
  {
   "cell_type": "code",
   "execution_count": null,
   "id": "noted-argentina",
   "metadata": {},
   "outputs": [],
   "source": []
  },
  {
   "cell_type": "markdown",
   "id": "aging-screening",
   "metadata": {},
   "source": [
    "### Save News\n",
    "> We are going to save our news as `news_categories.csv`"
   ]
  },
  {
   "cell_type": "code",
   "execution_count": 79,
   "id": "spoken-glance",
   "metadata": {},
   "outputs": [
    {
     "data": {
      "text/plain": [
       "dict_keys(['category', 'country_code', 'urlToImage', 'author', 'title', 'description', 'url', 'publishedAt', 'content'])"
      ]
     },
     "execution_count": 79,
     "metadata": {},
     "output_type": "execute_result"
    }
   ],
   "source": [
    "path_name = \"news_categories.csv\"\n",
    "keys = news[0].keys()\n",
    "keys"
   ]
  },
  {
   "cell_type": "code",
   "execution_count": 91,
   "id": "documentary-favor",
   "metadata": {},
   "outputs": [
    {
     "name": "stdout",
     "output_type": "stream",
     "text": [
      "A NEWS csv FILE HAS BEEN CREATED!!\n"
     ]
    }
   ],
   "source": [
    "with open(path_name, 'w', newline='', encoding=\"utf-8\")  as writter:\n",
    "    dict_writer = csv.DictWriter(writter, keys)\n",
    "    dict_writer.writeheader()\n",
    "    dict_writer.writerows(news)\n",
    "\n",
    "print(\"A NEWS csv FILE HAS BEEN CREATED!!\")"
   ]
  },
  {
   "cell_type": "markdown",
   "id": "controlling-composer",
   "metadata": {},
   "source": [
    "> Done fetching data, now we need to do some cleaning on the data"
   ]
  },
  {
   "cell_type": "code",
   "execution_count": null,
   "id": "fewer-australia",
   "metadata": {},
   "outputs": [],
   "source": []
  },
  {
   "cell_type": "code",
   "execution_count": null,
   "id": "saved-baseline",
   "metadata": {},
   "outputs": [],
   "source": []
  },
  {
   "cell_type": "code",
   "execution_count": null,
   "id": "statutory-hunger",
   "metadata": {},
   "outputs": [],
   "source": []
  },
  {
   "cell_type": "code",
   "execution_count": null,
   "id": "moral-message",
   "metadata": {},
   "outputs": [],
   "source": []
  },
  {
   "cell_type": "code",
   "execution_count": null,
   "id": "prepared-ownership",
   "metadata": {},
   "outputs": [],
   "source": []
  }
 ],
 "metadata": {
  "kernelspec": {
   "display_name": "Python 3",
   "language": "python",
   "name": "python3"
  },
  "language_info": {
   "codemirror_mode": {
    "name": "ipython",
    "version": 3
   },
   "file_extension": ".py",
   "mimetype": "text/x-python",
   "name": "python",
   "nbconvert_exporter": "python",
   "pygments_lexer": "ipython3",
   "version": "3.8.5"
  }
 },
 "nbformat": 4,
 "nbformat_minor": 5
}
