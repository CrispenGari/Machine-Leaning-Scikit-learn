{
 "cells": [
  {
   "cell_type": "code",
   "execution_count": 93,
   "id": "rental-badge",
   "metadata": {},
   "outputs": [],
   "source": [
    "import csv\n",
    "import pandas as pd\n",
    "import os\n",
    "import matplotlib.pyplot as plt\n",
    "import numpy as np\n",
    "import cv2"
   ]
  },
  {
   "cell_type": "code",
   "execution_count": 94,
   "id": "computational-bridge",
   "metadata": {},
   "outputs": [],
   "source": [
    "cats_path_gray = 'cats_gray'\n",
    "dogs_path_gray = 'dogs_gray'"
   ]
  },
  {
   "cell_type": "code",
   "execution_count": 95,
   "id": "figured-manchester",
   "metadata": {},
   "outputs": [
    {
     "data": {
      "text/plain": [
       "['cat1.png', 'cat10.png']"
      ]
     },
     "execution_count": 95,
     "metadata": {},
     "output_type": "execute_result"
    }
   ],
   "source": [
    "os.listdir(cats_path_gray)[:2]"
   ]
  },
  {
   "cell_type": "code",
   "execution_count": 96,
   "id": "extensive-driving",
   "metadata": {},
   "outputs": [],
   "source": [
    "class Labels:\n",
    "    DOG= \"DOG\"\n",
    "    CAT = 'CAT'"
   ]
  },
  {
   "cell_type": "code",
   "execution_count": null,
   "id": "regional-conspiracy",
   "metadata": {},
   "outputs": [],
   "source": []
  },
  {
   "cell_type": "markdown",
   "id": "alone-reliance",
   "metadata": {},
   "source": [
    "### Labling cats"
   ]
  },
  {
   "cell_type": "code",
   "execution_count": 97,
   "id": "prospective-convenience",
   "metadata": {},
   "outputs": [],
   "source": [
    "data = []\n",
    "target = []\n",
    "for img in os.listdir(cats_path_gray):\n",
    "    image = cv2.imread(cats_path_gray+'/'+img, -1)\n",
    "    image_as_array = np.array(image)\n",
    "    data.append(image_as_array)\n",
    "    target.append(Labels.CAT)"
   ]
  },
  {
   "cell_type": "markdown",
   "id": "micro-earthquake",
   "metadata": {},
   "source": [
    "## Labling Dogs"
   ]
  },
  {
   "cell_type": "code",
   "execution_count": 98,
   "id": "interesting-thousand",
   "metadata": {},
   "outputs": [],
   "source": [
    "for img in os.listdir(dogs_path_gray):\n",
    "    image = cv2.imread(dogs_path_gray+'/'+img, -1)\n",
    "    image_as_array = np.array(image)\n",
    "    data.append(image_as_array)\n",
    "    target.append(Labels.DOG)"
   ]
  },
  {
   "cell_type": "code",
   "execution_count": 29,
   "id": "sized-saskatchewan",
   "metadata": {},
   "outputs": [
    {
     "data": {
      "text/plain": [
       "([array([[107, 127, 122, ..., 131, 145, 148],\n",
       "         [112, 123, 117, ..., 131, 139, 141],\n",
       "         [120, 117, 111, ..., 132, 131, 131],\n",
       "         ...,\n",
       "         [199, 200, 201, ..., 217, 218, 218],\n",
       "         [199, 196, 191, ..., 218, 218, 218],\n",
       "         [199, 192, 184, ..., 219, 219, 219]], dtype=uint8),\n",
       "  array([[224, 233, 239, ..., 171, 177, 171],\n",
       "         [223, 231, 237, ..., 164, 164, 158],\n",
       "         [221, 229, 235, ..., 152, 142, 137],\n",
       "         ...,\n",
       "         [174, 180, 178, ..., 157, 166, 167],\n",
       "         [179, 182, 176, ..., 161, 164, 166],\n",
       "         [182, 183, 175, ..., 163, 163, 165]], dtype=uint8)],\n",
       " ['DOG', 'DOG'])"
      ]
     },
     "execution_count": 29,
     "metadata": {},
     "output_type": "execute_result"
    }
   ],
   "source": [
    "data[-2:], target[-2:]"
   ]
  },
  {
   "cell_type": "code",
   "execution_count": 99,
   "id": "unlimited-baseline",
   "metadata": {},
   "outputs": [
    {
     "data": {
      "text/plain": [
       "(100, 100)"
      ]
     },
     "execution_count": 99,
     "metadata": {},
     "output_type": "execute_result"
    }
   ],
   "source": [
    "target.count(Labels.DOG), target.count(Labels.CAT)"
   ]
  },
  {
   "cell_type": "code",
   "execution_count": 110,
   "id": "eleven-trail",
   "metadata": {},
   "outputs": [],
   "source": [
    "target_binary = []\n",
    "for t in target:\n",
    "    target_binary.append(0 if t == Labels.CAT else 1)"
   ]
  },
  {
   "cell_type": "markdown",
   "id": "funky-bibliography",
   "metadata": {},
   "source": [
    "> **0** will represent a cat and **1** will represent a dog.\n",
    "> Target Names are `['CAT', 'DOG']`"
   ]
  },
  {
   "cell_type": "markdown",
   "id": "structural-relative",
   "metadata": {},
   "source": [
    "> **THE ARRAYS OF IMAGES SHOULD BE RESHAPED INTO A 1-D ARRAY**"
   ]
  },
  {
   "cell_type": "code",
   "execution_count": 111,
   "id": "mysterious-intensity",
   "metadata": {},
   "outputs": [],
   "source": [
    "reshaped_data = []\n",
    "for d in data:\n",
    "    reshaped_data.append(np.array(d).reshape(-1))"
   ]
  },
  {
   "cell_type": "code",
   "execution_count": 112,
   "id": "respected-admission",
   "metadata": {},
   "outputs": [
    {
     "data": {
      "text/plain": [
       "([array([40, 42, 45, ..., 72, 71, 71], dtype=uint8),\n",
       "  array([14, 15, 16, ..., 39, 46, 48], dtype=uint8)],\n",
       " ['CAT', 'CAT'])"
      ]
     },
     "execution_count": 112,
     "metadata": {},
     "output_type": "execute_result"
    }
   ],
   "source": [
    "reshaped_data[:2], target[:2]"
   ]
  },
  {
   "cell_type": "code",
   "execution_count": 113,
   "id": "damaged-timothy",
   "metadata": {},
   "outputs": [],
   "source": [
    "class CatDog:\n",
    "    def __init__(self, reshaped_data, target, target_names):\n",
    "        self.data = reshaped_data\n",
    "        self.target = target\n",
    "        self.target_names = target_names\n",
    "        "
   ]
  },
  {
   "cell_type": "code",
   "execution_count": 116,
   "id": "traditional-insulin",
   "metadata": {},
   "outputs": [
    {
     "data": {
      "text/plain": [
       "(200, 40000)"
      ]
     },
     "execution_count": 116,
     "metadata": {},
     "output_type": "execute_result"
    }
   ],
   "source": [
    "np.array(reshaped_data).shape"
   ]
  },
  {
   "cell_type": "code",
   "execution_count": 117,
   "id": "visible-recommendation",
   "metadata": {},
   "outputs": [],
   "source": [
    "load_cats_dog = CatDog(np.array(reshaped_data), np.array(target_binary),np.array([Labels.CAT, Labels.DOG]))"
   ]
  },
  {
   "cell_type": "code",
   "execution_count": 124,
   "id": "extra-maximum",
   "metadata": {
    "scrolled": true
   },
   "outputs": [
    {
     "data": {
      "text/plain": [
       "(array([40, 42, 45, ..., 72, 71, 71], dtype=uint8),\n",
       " array(['CAT', 'DOG'], dtype='<U3'),\n",
       " (200,))"
      ]
     },
     "execution_count": 124,
     "metadata": {},
     "output_type": "execute_result"
    }
   ],
   "source": [
    "load_cats_dog.data[0],load_cats_dog.target_names, load_cats_dog.target.shape"
   ]
  },
  {
   "cell_type": "markdown",
   "id": "intellectual-disney",
   "metadata": {},
   "source": [
    "### Tranning a model"
   ]
  },
  {
   "cell_type": "code",
   "execution_count": 125,
   "id": "patent-article",
   "metadata": {},
   "outputs": [],
   "source": [
    "from sklearn.svm import SVC\n",
    "from sklearn.model_selection import train_test_split\n",
    "from sklearn.metrics import accuracy_score, f1_score"
   ]
  },
  {
   "cell_type": "code",
   "execution_count": 126,
   "id": "tamil-better",
   "metadata": {},
   "outputs": [
    {
     "data": {
      "text/plain": [
       "array([40, 42, 45, ..., 72, 71, 71], dtype=uint8)"
      ]
     },
     "execution_count": 126,
     "metadata": {},
     "output_type": "execute_result"
    }
   ],
   "source": [
    "load_cats_dog.data[0]"
   ]
  },
  {
   "cell_type": "code",
   "execution_count": 128,
   "id": "compressed-volunteer",
   "metadata": {},
   "outputs": [
    {
     "data": {
      "text/plain": [
       "((200, 40000), (200,))"
      ]
     },
     "execution_count": 128,
     "metadata": {},
     "output_type": "execute_result"
    }
   ],
   "source": [
    "X = load_cats_dog.data\n",
    "y = load_cats_dog.target\n",
    "X.shape, y.shape"
   ]
  },
  {
   "cell_type": "code",
   "execution_count": 129,
   "id": "thorough-wayne",
   "metadata": {},
   "outputs": [
    {
     "data": {
      "text/plain": [
       "((150, 40000), (50, 40000), (150,), (50,))"
      ]
     },
     "execution_count": 129,
     "metadata": {},
     "output_type": "execute_result"
    }
   ],
   "source": [
    "X_train, X_test, y_train, y_test = train_test_split(X, y, random_state=29, test_size= .25)\n",
    "\n",
    "X_train.shape, X_test.shape, y_train.shape, y_test.shape"
   ]
  },
  {
   "cell_type": "code",
   "execution_count": 130,
   "id": "broke-induction",
   "metadata": {},
   "outputs": [
    {
     "data": {
      "text/plain": [
       "SVC(kernel='linear')"
      ]
     },
     "execution_count": 130,
     "metadata": {},
     "output_type": "execute_result"
    }
   ],
   "source": [
    "model =  SVC(kernel='linear')\n",
    "model"
   ]
  },
  {
   "cell_type": "code",
   "execution_count": 131,
   "id": "infinite-firewall",
   "metadata": {},
   "outputs": [
    {
     "data": {
      "text/plain": [
       "SVC(kernel='linear')"
      ]
     },
     "execution_count": 131,
     "metadata": {},
     "output_type": "execute_result"
    }
   ],
   "source": [
    "model.fit(X_train, y_train)"
   ]
  },
  {
   "cell_type": "markdown",
   "id": "portuguese-brooks",
   "metadata": {},
   "source": [
    "### Making Predictions"
   ]
  },
  {
   "cell_type": "code",
   "execution_count": 135,
   "id": "challenging-myanmar",
   "metadata": {},
   "outputs": [
    {
     "data": {
      "text/plain": [
       "(array([ 37,  36,  36, ..., 156, 158, 157], dtype=uint8), 1)"
      ]
     },
     "execution_count": 135,
     "metadata": {},
     "output_type": "execute_result"
    }
   ],
   "source": [
    "X_train[0], y_train[0]"
   ]
  },
  {
   "cell_type": "code",
   "execution_count": 136,
   "id": "celtic-awareness",
   "metadata": {},
   "outputs": [
    {
     "data": {
      "text/plain": [
       "array([1])"
      ]
     },
     "execution_count": 136,
     "metadata": {},
     "output_type": "execute_result"
    }
   ],
   "source": [
    "model.predict([X_train[0]])"
   ]
  },
  {
   "cell_type": "code",
   "execution_count": 137,
   "id": "asian-processor",
   "metadata": {},
   "outputs": [
    {
     "data": {
      "text/plain": [
       "(array([232, 233, 233, ..., 217, 215, 215], dtype=uint8), 1)"
      ]
     },
     "execution_count": 137,
     "metadata": {},
     "output_type": "execute_result"
    }
   ],
   "source": [
    "X_test[0], y_test[0]"
   ]
  },
  {
   "cell_type": "code",
   "execution_count": 138,
   "id": "mathematical-madness",
   "metadata": {},
   "outputs": [
    {
     "data": {
      "text/plain": [
       "array([1])"
      ]
     },
     "execution_count": 138,
     "metadata": {},
     "output_type": "execute_result"
    }
   ],
   "source": [
    "model.predict([X_test[0]])"
   ]
  },
  {
   "cell_type": "code",
   "execution_count": 144,
   "id": "sustained-establishment",
   "metadata": {},
   "outputs": [],
   "source": [
    "labels = load_cats_dog.target_names"
   ]
  },
  {
   "cell_type": "code",
   "execution_count": 147,
   "id": "generous-banner",
   "metadata": {},
   "outputs": [
    {
     "name": "stdout",
     "output_type": "stream",
     "text": [
      "actual\t| predicted\n",
      "DOG\t| DOG\n",
      "DOG\t| DOG\n",
      "CAT\t| CAT\n",
      "DOG\t| DOG\n"
     ]
    }
   ],
   "source": [
    "\n",
    "print(\"actual\\t| predicted\")\n",
    "for x,y in list(zip(X_test, y_test))[:4]:\n",
    "    prediction = model.predict([x])[0]\n",
    "    \n",
    "    print(f\"{labels[y]}\\t| {labels[prediction]}\")"
   ]
  },
  {
   "cell_type": "markdown",
   "id": "purple-plasma",
   "metadata": {},
   "source": [
    "### Predicting a dog with the image that it never seen before"
   ]
  },
  {
   "cell_type": "code",
   "execution_count": 155,
   "id": "adequate-correspondence",
   "metadata": {},
   "outputs": [
    {
     "data": {
      "text/plain": [
       "array([147, 111,  53, ..., 141, 125, 125], dtype=uint8)"
      ]
     },
     "execution_count": 155,
     "metadata": {},
     "output_type": "execute_result"
    }
   ],
   "source": [
    "dog = cv2.imread('dog.jpg', -1)\n",
    "dog = cv2.resize(cv2.cvtColor(dog, cv2.COLOR_BGR2GRAY), (200, 200))\n",
    "dog = dog.reshape(-1)\n",
    "dog"
   ]
  },
  {
   "cell_type": "code",
   "execution_count": 156,
   "id": "palestinian-finnish",
   "metadata": {},
   "outputs": [
    {
     "data": {
      "text/plain": [
       "array([1])"
      ]
     },
     "execution_count": 156,
     "metadata": {},
     "output_type": "execute_result"
    }
   ],
   "source": [
    "model.predict([dog])"
   ]
  },
  {
   "cell_type": "markdown",
   "id": "flexible-accommodation",
   "metadata": {},
   "source": [
    "### Evaluating a model"
   ]
  },
  {
   "cell_type": "code",
   "execution_count": 133,
   "id": "green-clerk",
   "metadata": {},
   "outputs": [
    {
     "data": {
      "text/plain": [
       "1.0"
      ]
     },
     "execution_count": 133,
     "metadata": {},
     "output_type": "execute_result"
    }
   ],
   "source": [
    "model.score(X_train, y_train)"
   ]
  },
  {
   "cell_type": "code",
   "execution_count": 134,
   "id": "extended-muscle",
   "metadata": {},
   "outputs": [
    {
     "data": {
      "text/plain": [
       "0.66"
      ]
     },
     "execution_count": 134,
     "metadata": {},
     "output_type": "execute_result"
    }
   ],
   "source": [
    "model.score(X_test, y_test)"
   ]
  },
  {
   "cell_type": "code",
   "execution_count": 159,
   "id": "english-playback",
   "metadata": {},
   "outputs": [
    {
     "data": {
      "text/plain": [
       "0.66"
      ]
     },
     "execution_count": 159,
     "metadata": {},
     "output_type": "execute_result"
    }
   ],
   "source": [
    "accuracy_score(y_test, model.predict(X_test))"
   ]
  },
  {
   "cell_type": "code",
   "execution_count": 160,
   "id": "regulation-requirement",
   "metadata": {},
   "outputs": [
    {
     "data": {
      "text/plain": [
       "1.0"
      ]
     },
     "execution_count": 160,
     "metadata": {},
     "output_type": "execute_result"
    }
   ],
   "source": [
    "accuracy_score(y_train, model.predict(X_train))"
   ]
  },
  {
   "cell_type": "code",
   "execution_count": 165,
   "id": "loose-proposal",
   "metadata": {},
   "outputs": [
    {
     "data": {
      "text/plain": [
       "1.0"
      ]
     },
     "execution_count": 165,
     "metadata": {},
     "output_type": "execute_result"
    }
   ],
   "source": [
    "f1_score(y_train, model.predict(X_train), average=\"binary\", labels=[\"CAT\", \"DOG\"])"
   ]
  },
  {
   "cell_type": "code",
   "execution_count": 166,
   "id": "buried-nurse",
   "metadata": {},
   "outputs": [
    {
     "data": {
      "text/plain": [
       "0.6666666666666666"
      ]
     },
     "execution_count": 166,
     "metadata": {},
     "output_type": "execute_result"
    }
   ],
   "source": [
    "f1_score(y_test, model.predict(X_test), average=\"binary\", labels=[\"CAT\", \"DOG\"])"
   ]
  },
  {
   "cell_type": "markdown",
   "id": "junior-singing",
   "metadata": {},
   "source": [
    "## Saving our model"
   ]
  },
  {
   "cell_type": "code",
   "execution_count": 173,
   "id": "characteristic-savannah",
   "metadata": {},
   "outputs": [
    {
     "name": "stdout",
     "output_type": "stream",
     "text": [
      "MODEL SAVED\n"
     ]
    }
   ],
   "source": [
    "import pickle\n",
    "with open('./models/cats_dogs.pkl', 'wb') as f:\n",
    "    pickle.dump(model, f)\n",
    "    \n",
    "print(\"MODEL SAVED\")"
   ]
  },
  {
   "cell_type": "code",
   "execution_count": 174,
   "id": "mysterious-sharing",
   "metadata": {},
   "outputs": [],
   "source": [
    "with open('./models/cats_dogs.pkl', 'rb') as f:\n",
    "    clf = pickle.load(f)"
   ]
  },
  {
   "cell_type": "markdown",
   "id": "helpful-bullet",
   "metadata": {},
   "source": [
    "### Testing our saved model"
   ]
  },
  {
   "cell_type": "code",
   "execution_count": 177,
   "id": "finished-action",
   "metadata": {},
   "outputs": [
    {
     "name": "stdout",
     "output_type": "stream",
     "text": [
      "actual\t| predicted\n",
      "--------------------\n",
      "DOG\t| DOG\n",
      "DOG\t| DOG\n",
      "CAT\t| CAT\n",
      "DOG\t| DOG\n",
      "DOG\t| DOG\n",
      "CAT\t| CAT\n",
      "CAT\t| DOG\n",
      "CAT\t| CAT\n",
      "DOG\t| CAT\n",
      "DOG\t| DOG\n"
     ]
    }
   ],
   "source": [
    "print(\"actual\\t| predicted\")\n",
    "print(\"--------------------\")\n",
    "for x,y in list(zip(X_test, y_test))[:10]:\n",
    "    prediction = clf.predict([x])[0]\n",
    "    \n",
    "    print(f\"{labels[y]}\\t| {labels[prediction]}\")"
   ]
  },
  {
   "cell_type": "markdown",
   "id": "smaller-electronics",
   "metadata": {},
   "source": [
    "> Done "
   ]
  },
  {
   "cell_type": "code",
   "execution_count": null,
   "id": "prime-horse",
   "metadata": {},
   "outputs": [],
   "source": []
  }
 ],
 "metadata": {
  "kernelspec": {
   "display_name": "Python 3",
   "language": "python",
   "name": "python3"
  },
  "language_info": {
   "codemirror_mode": {
    "name": "ipython",
    "version": 3
   },
   "file_extension": ".py",
   "mimetype": "text/x-python",
   "name": "python",
   "nbconvert_exporter": "python",
   "pygments_lexer": "ipython3",
   "version": "3.8.5"
  }
 },
 "nbformat": 4,
 "nbformat_minor": 5
}
