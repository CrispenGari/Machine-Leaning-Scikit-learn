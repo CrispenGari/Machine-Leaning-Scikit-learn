{
 "cells": [
  {
   "cell_type": "markdown",
   "id": "according-perception",
   "metadata": {},
   "source": [
    "## Classifying Cars\n",
    "* Classifying the class of a car using a file called `vehicle_csv.csv` using **Stochastic Gradient Descent** (**SGD**)Classifier\n"
   ]
  },
  {
   "cell_type": "code",
   "execution_count": 116,
   "id": "sweet-tutorial",
   "metadata": {},
   "outputs": [],
   "source": [
    "import pandas as pd\n",
    "import seaborn as sns\n",
    "import numpy as np\n",
    "import matplotlib.pyplot as plt"
   ]
  },
  {
   "cell_type": "code",
   "execution_count": 117,
   "id": "written-communist",
   "metadata": {},
   "outputs": [
    {
     "data": {
      "text/html": [
       "<div>\n",
       "<style scoped>\n",
       "    .dataframe tbody tr th:only-of-type {\n",
       "        vertical-align: middle;\n",
       "    }\n",
       "\n",
       "    .dataframe tbody tr th {\n",
       "        vertical-align: top;\n",
       "    }\n",
       "\n",
       "    .dataframe thead th {\n",
       "        text-align: right;\n",
       "    }\n",
       "</style>\n",
       "<table border=\"1\" class=\"dataframe\">\n",
       "  <thead>\n",
       "    <tr style=\"text-align: right;\">\n",
       "      <th></th>\n",
       "      <th>COMPACTNESS</th>\n",
       "      <th>CIRCULARITY</th>\n",
       "      <th>DISTANCE_CIRCULARITY</th>\n",
       "      <th>RADIUS_RATIO</th>\n",
       "      <th>PR.AXIS_ASPECT_RATIO</th>\n",
       "      <th>MAX.LENGTH_ASPECT_RATIO</th>\n",
       "      <th>SCATTER_RATIO</th>\n",
       "      <th>ELONGATEDNESS</th>\n",
       "      <th>PR.AXIS_RECTANGULARITY</th>\n",
       "      <th>MAX.LENGTH_RECTANGULARITY</th>\n",
       "      <th>SCALED_VARIANCE_MAJOR</th>\n",
       "      <th>SCALED_VARIANCE_MINOR</th>\n",
       "      <th>SCALED_RADIUS_OF_GYRATION</th>\n",
       "      <th>SKEWNESS_ABOUT_MAJOR</th>\n",
       "      <th>SKEWNESS_ABOUT_MINOR</th>\n",
       "      <th>KURTOSIS_ABOUT_MAJOR</th>\n",
       "      <th>KURTOSIS_ABOUT_MINOR</th>\n",
       "      <th>HOLLOWS_RATIO</th>\n",
       "      <th>Class</th>\n",
       "    </tr>\n",
       "  </thead>\n",
       "  <tbody>\n",
       "    <tr>\n",
       "      <th>0</th>\n",
       "      <td>95</td>\n",
       "      <td>48</td>\n",
       "      <td>83</td>\n",
       "      <td>178</td>\n",
       "      <td>72</td>\n",
       "      <td>10</td>\n",
       "      <td>162</td>\n",
       "      <td>42</td>\n",
       "      <td>20</td>\n",
       "      <td>159</td>\n",
       "      <td>176</td>\n",
       "      <td>379</td>\n",
       "      <td>184</td>\n",
       "      <td>70</td>\n",
       "      <td>6</td>\n",
       "      <td>16</td>\n",
       "      <td>187</td>\n",
       "      <td>197</td>\n",
       "      <td>van</td>\n",
       "    </tr>\n",
       "    <tr>\n",
       "      <th>1</th>\n",
       "      <td>91</td>\n",
       "      <td>41</td>\n",
       "      <td>84</td>\n",
       "      <td>141</td>\n",
       "      <td>57</td>\n",
       "      <td>9</td>\n",
       "      <td>149</td>\n",
       "      <td>45</td>\n",
       "      <td>19</td>\n",
       "      <td>143</td>\n",
       "      <td>170</td>\n",
       "      <td>330</td>\n",
       "      <td>158</td>\n",
       "      <td>72</td>\n",
       "      <td>9</td>\n",
       "      <td>14</td>\n",
       "      <td>189</td>\n",
       "      <td>199</td>\n",
       "      <td>van</td>\n",
       "    </tr>\n",
       "    <tr>\n",
       "      <th>2</th>\n",
       "      <td>104</td>\n",
       "      <td>50</td>\n",
       "      <td>106</td>\n",
       "      <td>209</td>\n",
       "      <td>66</td>\n",
       "      <td>10</td>\n",
       "      <td>207</td>\n",
       "      <td>32</td>\n",
       "      <td>23</td>\n",
       "      <td>158</td>\n",
       "      <td>223</td>\n",
       "      <td>635</td>\n",
       "      <td>220</td>\n",
       "      <td>73</td>\n",
       "      <td>14</td>\n",
       "      <td>9</td>\n",
       "      <td>188</td>\n",
       "      <td>196</td>\n",
       "      <td>saab</td>\n",
       "    </tr>\n",
       "    <tr>\n",
       "      <th>3</th>\n",
       "      <td>93</td>\n",
       "      <td>41</td>\n",
       "      <td>82</td>\n",
       "      <td>159</td>\n",
       "      <td>63</td>\n",
       "      <td>9</td>\n",
       "      <td>144</td>\n",
       "      <td>46</td>\n",
       "      <td>19</td>\n",
       "      <td>143</td>\n",
       "      <td>160</td>\n",
       "      <td>309</td>\n",
       "      <td>127</td>\n",
       "      <td>63</td>\n",
       "      <td>6</td>\n",
       "      <td>10</td>\n",
       "      <td>199</td>\n",
       "      <td>207</td>\n",
       "      <td>van</td>\n",
       "    </tr>\n",
       "    <tr>\n",
       "      <th>4</th>\n",
       "      <td>85</td>\n",
       "      <td>44</td>\n",
       "      <td>70</td>\n",
       "      <td>205</td>\n",
       "      <td>103</td>\n",
       "      <td>52</td>\n",
       "      <td>149</td>\n",
       "      <td>45</td>\n",
       "      <td>19</td>\n",
       "      <td>144</td>\n",
       "      <td>241</td>\n",
       "      <td>325</td>\n",
       "      <td>188</td>\n",
       "      <td>127</td>\n",
       "      <td>9</td>\n",
       "      <td>11</td>\n",
       "      <td>180</td>\n",
       "      <td>183</td>\n",
       "      <td>bus</td>\n",
       "    </tr>\n",
       "    <tr>\n",
       "      <th>5</th>\n",
       "      <td>107</td>\n",
       "      <td>57</td>\n",
       "      <td>106</td>\n",
       "      <td>172</td>\n",
       "      <td>50</td>\n",
       "      <td>6</td>\n",
       "      <td>255</td>\n",
       "      <td>26</td>\n",
       "      <td>28</td>\n",
       "      <td>169</td>\n",
       "      <td>280</td>\n",
       "      <td>957</td>\n",
       "      <td>264</td>\n",
       "      <td>85</td>\n",
       "      <td>5</td>\n",
       "      <td>9</td>\n",
       "      <td>181</td>\n",
       "      <td>183</td>\n",
       "      <td>bus</td>\n",
       "    </tr>\n",
       "    <tr>\n",
       "      <th>6</th>\n",
       "      <td>97</td>\n",
       "      <td>43</td>\n",
       "      <td>73</td>\n",
       "      <td>173</td>\n",
       "      <td>65</td>\n",
       "      <td>6</td>\n",
       "      <td>153</td>\n",
       "      <td>42</td>\n",
       "      <td>19</td>\n",
       "      <td>143</td>\n",
       "      <td>176</td>\n",
       "      <td>361</td>\n",
       "      <td>172</td>\n",
       "      <td>66</td>\n",
       "      <td>13</td>\n",
       "      <td>1</td>\n",
       "      <td>200</td>\n",
       "      <td>204</td>\n",
       "      <td>bus</td>\n",
       "    </tr>\n",
       "    <tr>\n",
       "      <th>7</th>\n",
       "      <td>90</td>\n",
       "      <td>43</td>\n",
       "      <td>66</td>\n",
       "      <td>157</td>\n",
       "      <td>65</td>\n",
       "      <td>9</td>\n",
       "      <td>137</td>\n",
       "      <td>48</td>\n",
       "      <td>18</td>\n",
       "      <td>146</td>\n",
       "      <td>162</td>\n",
       "      <td>281</td>\n",
       "      <td>164</td>\n",
       "      <td>67</td>\n",
       "      <td>3</td>\n",
       "      <td>3</td>\n",
       "      <td>193</td>\n",
       "      <td>202</td>\n",
       "      <td>van</td>\n",
       "    </tr>\n",
       "    <tr>\n",
       "      <th>8</th>\n",
       "      <td>86</td>\n",
       "      <td>34</td>\n",
       "      <td>62</td>\n",
       "      <td>140</td>\n",
       "      <td>61</td>\n",
       "      <td>7</td>\n",
       "      <td>122</td>\n",
       "      <td>54</td>\n",
       "      <td>17</td>\n",
       "      <td>127</td>\n",
       "      <td>141</td>\n",
       "      <td>223</td>\n",
       "      <td>112</td>\n",
       "      <td>64</td>\n",
       "      <td>2</td>\n",
       "      <td>14</td>\n",
       "      <td>200</td>\n",
       "      <td>208</td>\n",
       "      <td>van</td>\n",
       "    </tr>\n",
       "    <tr>\n",
       "      <th>9</th>\n",
       "      <td>93</td>\n",
       "      <td>44</td>\n",
       "      <td>98</td>\n",
       "      <td>197</td>\n",
       "      <td>62</td>\n",
       "      <td>11</td>\n",
       "      <td>183</td>\n",
       "      <td>36</td>\n",
       "      <td>22</td>\n",
       "      <td>146</td>\n",
       "      <td>202</td>\n",
       "      <td>505</td>\n",
       "      <td>152</td>\n",
       "      <td>64</td>\n",
       "      <td>4</td>\n",
       "      <td>14</td>\n",
       "      <td>195</td>\n",
       "      <td>204</td>\n",
       "      <td>saab</td>\n",
       "    </tr>\n",
       "    <tr>\n",
       "      <th>10</th>\n",
       "      <td>86</td>\n",
       "      <td>36</td>\n",
       "      <td>70</td>\n",
       "      <td>143</td>\n",
       "      <td>61</td>\n",
       "      <td>9</td>\n",
       "      <td>133</td>\n",
       "      <td>50</td>\n",
       "      <td>18</td>\n",
       "      <td>130</td>\n",
       "      <td>153</td>\n",
       "      <td>266</td>\n",
       "      <td>127</td>\n",
       "      <td>66</td>\n",
       "      <td>2</td>\n",
       "      <td>10</td>\n",
       "      <td>194</td>\n",
       "      <td>202</td>\n",
       "      <td>van</td>\n",
       "    </tr>\n",
       "    <tr>\n",
       "      <th>11</th>\n",
       "      <td>90</td>\n",
       "      <td>34</td>\n",
       "      <td>66</td>\n",
       "      <td>136</td>\n",
       "      <td>55</td>\n",
       "      <td>6</td>\n",
       "      <td>123</td>\n",
       "      <td>54</td>\n",
       "      <td>17</td>\n",
       "      <td>118</td>\n",
       "      <td>148</td>\n",
       "      <td>224</td>\n",
       "      <td>118</td>\n",
       "      <td>65</td>\n",
       "      <td>5</td>\n",
       "      <td>26</td>\n",
       "      <td>196</td>\n",
       "      <td>202</td>\n",
       "      <td>saab</td>\n",
       "    </tr>\n",
       "    <tr>\n",
       "      <th>12</th>\n",
       "      <td>88</td>\n",
       "      <td>46</td>\n",
       "      <td>74</td>\n",
       "      <td>171</td>\n",
       "      <td>68</td>\n",
       "      <td>6</td>\n",
       "      <td>152</td>\n",
       "      <td>43</td>\n",
       "      <td>19</td>\n",
       "      <td>148</td>\n",
       "      <td>180</td>\n",
       "      <td>349</td>\n",
       "      <td>192</td>\n",
       "      <td>71</td>\n",
       "      <td>5</td>\n",
       "      <td>11</td>\n",
       "      <td>189</td>\n",
       "      <td>195</td>\n",
       "      <td>bus</td>\n",
       "    </tr>\n",
       "    <tr>\n",
       "      <th>13</th>\n",
       "      <td>89</td>\n",
       "      <td>42</td>\n",
       "      <td>85</td>\n",
       "      <td>144</td>\n",
       "      <td>58</td>\n",
       "      <td>10</td>\n",
       "      <td>152</td>\n",
       "      <td>44</td>\n",
       "      <td>19</td>\n",
       "      <td>144</td>\n",
       "      <td>173</td>\n",
       "      <td>345</td>\n",
       "      <td>161</td>\n",
       "      <td>72</td>\n",
       "      <td>8</td>\n",
       "      <td>13</td>\n",
       "      <td>187</td>\n",
       "      <td>197</td>\n",
       "      <td>van</td>\n",
       "    </tr>\n",
       "    <tr>\n",
       "      <th>14</th>\n",
       "      <td>94</td>\n",
       "      <td>49</td>\n",
       "      <td>79</td>\n",
       "      <td>203</td>\n",
       "      <td>71</td>\n",
       "      <td>5</td>\n",
       "      <td>174</td>\n",
       "      <td>37</td>\n",
       "      <td>21</td>\n",
       "      <td>154</td>\n",
       "      <td>196</td>\n",
       "      <td>465</td>\n",
       "      <td>206</td>\n",
       "      <td>71</td>\n",
       "      <td>6</td>\n",
       "      <td>2</td>\n",
       "      <td>197</td>\n",
       "      <td>199</td>\n",
       "      <td>bus</td>\n",
       "    </tr>\n",
       "  </tbody>\n",
       "</table>\n",
       "</div>"
      ],
      "text/plain": [
       "    COMPACTNESS  CIRCULARITY  DISTANCE_CIRCULARITY  RADIUS_RATIO  \\\n",
       "0            95           48                    83           178   \n",
       "1            91           41                    84           141   \n",
       "2           104           50                   106           209   \n",
       "3            93           41                    82           159   \n",
       "4            85           44                    70           205   \n",
       "5           107           57                   106           172   \n",
       "6            97           43                    73           173   \n",
       "7            90           43                    66           157   \n",
       "8            86           34                    62           140   \n",
       "9            93           44                    98           197   \n",
       "10           86           36                    70           143   \n",
       "11           90           34                    66           136   \n",
       "12           88           46                    74           171   \n",
       "13           89           42                    85           144   \n",
       "14           94           49                    79           203   \n",
       "\n",
       "    PR.AXIS_ASPECT_RATIO  MAX.LENGTH_ASPECT_RATIO  SCATTER_RATIO  \\\n",
       "0                     72                       10            162   \n",
       "1                     57                        9            149   \n",
       "2                     66                       10            207   \n",
       "3                     63                        9            144   \n",
       "4                    103                       52            149   \n",
       "5                     50                        6            255   \n",
       "6                     65                        6            153   \n",
       "7                     65                        9            137   \n",
       "8                     61                        7            122   \n",
       "9                     62                       11            183   \n",
       "10                    61                        9            133   \n",
       "11                    55                        6            123   \n",
       "12                    68                        6            152   \n",
       "13                    58                       10            152   \n",
       "14                    71                        5            174   \n",
       "\n",
       "    ELONGATEDNESS  PR.AXIS_RECTANGULARITY  MAX.LENGTH_RECTANGULARITY  \\\n",
       "0              42                      20                        159   \n",
       "1              45                      19                        143   \n",
       "2              32                      23                        158   \n",
       "3              46                      19                        143   \n",
       "4              45                      19                        144   \n",
       "5              26                      28                        169   \n",
       "6              42                      19                        143   \n",
       "7              48                      18                        146   \n",
       "8              54                      17                        127   \n",
       "9              36                      22                        146   \n",
       "10             50                      18                        130   \n",
       "11             54                      17                        118   \n",
       "12             43                      19                        148   \n",
       "13             44                      19                        144   \n",
       "14             37                      21                        154   \n",
       "\n",
       "    SCALED_VARIANCE_MAJOR  SCALED_VARIANCE_MINOR  SCALED_RADIUS_OF_GYRATION  \\\n",
       "0                     176                    379                        184   \n",
       "1                     170                    330                        158   \n",
       "2                     223                    635                        220   \n",
       "3                     160                    309                        127   \n",
       "4                     241                    325                        188   \n",
       "5                     280                    957                        264   \n",
       "6                     176                    361                        172   \n",
       "7                     162                    281                        164   \n",
       "8                     141                    223                        112   \n",
       "9                     202                    505                        152   \n",
       "10                    153                    266                        127   \n",
       "11                    148                    224                        118   \n",
       "12                    180                    349                        192   \n",
       "13                    173                    345                        161   \n",
       "14                    196                    465                        206   \n",
       "\n",
       "    SKEWNESS_ABOUT_MAJOR  SKEWNESS_ABOUT_MINOR  KURTOSIS_ABOUT_MAJOR  \\\n",
       "0                     70                     6                    16   \n",
       "1                     72                     9                    14   \n",
       "2                     73                    14                     9   \n",
       "3                     63                     6                    10   \n",
       "4                    127                     9                    11   \n",
       "5                     85                     5                     9   \n",
       "6                     66                    13                     1   \n",
       "7                     67                     3                     3   \n",
       "8                     64                     2                    14   \n",
       "9                     64                     4                    14   \n",
       "10                    66                     2                    10   \n",
       "11                    65                     5                    26   \n",
       "12                    71                     5                    11   \n",
       "13                    72                     8                    13   \n",
       "14                    71                     6                     2   \n",
       "\n",
       "    KURTOSIS_ABOUT_MINOR  HOLLOWS_RATIO Class  \n",
       "0                    187            197   van  \n",
       "1                    189            199   van  \n",
       "2                    188            196  saab  \n",
       "3                    199            207   van  \n",
       "4                    180            183   bus  \n",
       "5                    181            183   bus  \n",
       "6                    200            204   bus  \n",
       "7                    193            202   van  \n",
       "8                    200            208   van  \n",
       "9                    195            204  saab  \n",
       "10                   194            202   van  \n",
       "11                   196            202  saab  \n",
       "12                   189            195   bus  \n",
       "13                   187            197   van  \n",
       "14                   197            199   bus  "
      ]
     },
     "execution_count": 117,
     "metadata": {},
     "output_type": "execute_result"
    }
   ],
   "source": [
    "cars = pd.read_csv(\"vehicle_csv.csv\")\n",
    "cars.head(15)"
   ]
  },
  {
   "cell_type": "markdown",
   "id": "veterinary-bailey",
   "metadata": {},
   "source": [
    "#### In the csv File we have FOUR clases which are\n",
    "* OPEL, SAAB, BUS, VAN"
   ]
  },
  {
   "cell_type": "code",
   "execution_count": 118,
   "id": "going-zimbabwe",
   "metadata": {},
   "outputs": [
    {
     "data": {
      "text/plain": [
       "array(['van', 'saab', 'bus', 'opel'], dtype=object)"
      ]
     },
     "execution_count": 118,
     "metadata": {},
     "output_type": "execute_result"
    }
   ],
   "source": [
    "cars[\"Class\"].unique()"
   ]
  },
  {
   "cell_type": "markdown",
   "id": "ordinary-capitol",
   "metadata": {},
   "source": [
    "#### ATTRIBUTES\n",
    "* 19 ATTRIBUTES"
   ]
  },
  {
   "cell_type": "code",
   "execution_count": 119,
   "id": "excess-angle",
   "metadata": {},
   "outputs": [
    {
     "data": {
      "text/plain": [
       "Index(['COMPACTNESS', 'CIRCULARITY', 'DISTANCE_CIRCULARITY', 'RADIUS_RATIO',\n",
       "       'PR.AXIS_ASPECT_RATIO', 'MAX.LENGTH_ASPECT_RATIO', 'SCATTER_RATIO',\n",
       "       'ELONGATEDNESS', 'PR.AXIS_RECTANGULARITY', 'MAX.LENGTH_RECTANGULARITY',\n",
       "       'SCALED_VARIANCE_MAJOR', 'SCALED_VARIANCE_MINOR',\n",
       "       'SCALED_RADIUS_OF_GYRATION', 'SKEWNESS_ABOUT_MAJOR',\n",
       "       'SKEWNESS_ABOUT_MINOR', 'KURTOSIS_ABOUT_MAJOR', 'KURTOSIS_ABOUT_MINOR',\n",
       "       'HOLLOWS_RATIO', 'Class'],\n",
       "      dtype='object')"
      ]
     },
     "execution_count": 119,
     "metadata": {},
     "output_type": "execute_result"
    }
   ],
   "source": [
    "cars.columns"
   ]
  },
  {
   "cell_type": "markdown",
   "id": "sublime-zimbabwe",
   "metadata": {},
   "source": [
    "> We want to predict the class of the car based on 18 attributes which are:\n",
    "    \n",
    "\n",
    "    * COMPACTNESS\n",
    "    * CIRCULARITY\n",
    "    * DISTANCE_CIRCULARITY\n",
    "    * RADIUS_RATIO\n",
    "    * PR.AXIS_ASPECT_RATIO\n",
    "    * MAX.LENGTH_ASPECT_RATIO\n",
    "    * SCATTER_RATIO\n",
    "    * ELONGATEDNESS\n",
    "    * PR.AXIS_RECTANGULARITY\n",
    "    * MAX.LENGTH_RECTANGULARITY\n",
    "    * SCALED_VARIANCE_MAJOR\n",
    "    * SCALED_VARIANCE_MINOR\n",
    "    * SCALED_RADIUS_OF_GYRATION\n",
    "    * SKEWNESS_ABOUT_MAJOR\n",
    "    * SKEWNESS_ABOUT_MINOR\n",
    "    * KURTOSIS_ABOUT_MAJOR\n",
    "    * KURTOSIS_ABOUT_MINOR\n",
    "    * HOLLOWS_RATIO"
   ]
  },
  {
   "cell_type": "code",
   "execution_count": 120,
   "id": "recorded-premises",
   "metadata": {},
   "outputs": [
    {
     "data": {
      "text/plain": [
       "Index(['COMPACTNESS', 'CIRCULARITY', 'DISTANCE_CIRCULARITY', 'RADIUS_RATIO',\n",
       "       'PR.AXIS_ASPECT_RATIO', 'MAX.LENGTH_ASPECT_RATIO', 'SCATTER_RATIO',\n",
       "       'ELONGATEDNESS', 'PR.AXIS_RECTANGULARITY', 'MAX.LENGTH_RECTANGULARITY',\n",
       "       'SCALED_VARIANCE_MAJOR', 'SCALED_VARIANCE_MINOR',\n",
       "       'SCALED_RADIUS_OF_GYRATION', 'SKEWNESS_ABOUT_MAJOR',\n",
       "       'SKEWNESS_ABOUT_MINOR', 'KURTOSIS_ABOUT_MAJOR', 'KURTOSIS_ABOUT_MINOR',\n",
       "       'HOLLOWS_RATIO'],\n",
       "      dtype='object')"
      ]
     },
     "execution_count": 120,
     "metadata": {},
     "output_type": "execute_result"
    }
   ],
   "source": [
    "cars.columns[:-1]"
   ]
  },
  {
   "cell_type": "code",
   "execution_count": 121,
   "id": "binary-street",
   "metadata": {},
   "outputs": [
    {
     "data": {
      "text/plain": [
       "array([0, 0, 1, 0], dtype=int64)"
      ]
     },
     "execution_count": 121,
     "metadata": {},
     "output_type": "execute_result"
    }
   ],
   "source": [
    "### Convert the classes to categorial data\n",
    "pd.factorize(cars.Class)[0][:4]"
   ]
  },
  {
   "cell_type": "code",
   "execution_count": 122,
   "id": "historic-approach",
   "metadata": {},
   "outputs": [],
   "source": [
    "from sklearn.model_selection import train_test_split\n",
    "from sklearn import preprocessing"
   ]
  },
  {
   "cell_type": "code",
   "execution_count": 123,
   "id": "proud-thompson",
   "metadata": {},
   "outputs": [],
   "source": [
    "y_cars = pd.factorize(cars.Class)[0]"
   ]
  },
  {
   "cell_type": "code",
   "execution_count": 124,
   "id": "caring-documentary",
   "metadata": {},
   "outputs": [
    {
     "data": {
      "text/plain": [
       "array([[ 95,  48,  83, 178,  72,  10, 162,  42,  20, 159, 176, 379, 184,\n",
       "         70,   6,  16, 187, 197],\n",
       "       [ 91,  41,  84, 141,  57,   9, 149,  45,  19, 143, 170, 330, 158,\n",
       "         72,   9,  14, 189, 199],\n",
       "       [104,  50, 106, 209,  66,  10, 207,  32,  23, 158, 223, 635, 220,\n",
       "         73,  14,   9, 188, 196],\n",
       "       [ 93,  41,  82, 159,  63,   9, 144,  46,  19, 143, 160, 309, 127,\n",
       "         63,   6,  10, 199, 207],\n",
       "       [ 85,  44,  70, 205, 103,  52, 149,  45,  19, 144, 241, 325, 188,\n",
       "        127,   9,  11, 180, 183],\n",
       "       [107,  57, 106, 172,  50,   6, 255,  26,  28, 169, 280, 957, 264,\n",
       "         85,   5,   9, 181, 183],\n",
       "       [ 97,  43,  73, 173,  65,   6, 153,  42,  19, 143, 176, 361, 172,\n",
       "         66,  13,   1, 200, 204]], dtype=int64)"
      ]
     },
     "execution_count": 124,
     "metadata": {},
     "output_type": "execute_result"
    }
   ],
   "source": [
    "\n",
    "# X_cat=rs = cars[[\"COMPACTNESS\", \"CIRCULARITY\", \"DISTANCE_CIRCULARITY\", ....]]\n",
    "X_cars = np.array(cars[list(cars.columns[:-1])])\n",
    "X_cars[:7]"
   ]
  },
  {
   "cell_type": "code",
   "execution_count": 125,
   "id": "christian-perfume",
   "metadata": {},
   "outputs": [
    {
     "data": {
      "text/plain": [
       "array([0, 0, 1, 0, 2, 2, 2, 0, 0, 1, 0, 1, 2, 0, 2, 3, 0, 2, 1, 3, 2, 0,\n",
       "       2, 2, 1, 0, 1, 1, 2, 1, 0, 1, 3, 3, 3, 0, 2, 0, 1, 2, 3, 0, 0, 1,\n",
       "       1, 0, 0, 2, 0, 1, 1, 1, 3, 2, 2, 0, 1, 0, 3, 0, 3, 3, 0, 2, 2, 3,\n",
       "       2, 3, 0, 2, 3, 3, 3, 3, 0, 3, 1, 1, 2, 2, 2, 2, 0, 3, 2, 2, 0, 0,\n",
       "       2, 3, 1, 3, 1, 0, 2, 3, 1, 2, 3, 2, 2, 0, 0, 0, 2, 1, 3, 3, 2, 2,\n",
       "       0, 0, 3, 3, 0, 0, 3, 1, 2, 2, 1, 0, 0, 1, 0, 0, 2, 2, 0, 2, 1, 1,\n",
       "       1, 0, 3, 0, 0, 0, 1, 0, 1, 2, 3, 2, 3, 3, 0, 2, 1, 0, 1, 2, 3, 1,\n",
       "       0, 2, 3, 0, 1, 3, 3, 3, 1, 1, 3, 3, 1, 1, 2, 0, 3, 2, 0, 2, 0, 2,\n",
       "       3, 2, 2, 0, 1, 3, 2, 1, 1, 2, 2, 3, 3, 3, 3, 0, 1, 2, 1, 2, 1, 2,\n",
       "       2, 2, 0, 1, 3, 3, 0, 0, 3, 2, 2, 3, 3, 0, 2, 2, 3, 3, 1, 3, 2, 0,\n",
       "       3, 0, 2, 2, 1, 0, 1, 0, 1, 1, 0, 1, 2, 1, 0, 0, 2, 2, 3, 2, 3, 3,\n",
       "       2, 1, 0, 0, 2, 1, 3, 1, 0, 3, 0, 2, 0, 1, 1, 3, 1, 3, 1, 1, 0, 0,\n",
       "       1, 2, 2, 1, 0, 0, 2, 1, 0, 0, 2, 2, 2, 3, 1, 2, 3, 2, 2, 1, 0, 1,\n",
       "       2, 0, 3, 1, 0, 0, 2, 0, 2, 2, 2, 1, 1, 2, 1, 3, 2, 0, 2, 2, 1, 3,\n",
       "       3, 3, 1, 0, 2, 3, 2, 0, 0, 1, 0, 2, 1, 2, 2, 1, 1, 2, 3, 3, 0, 1,\n",
       "       0, 3, 3, 2, 2, 1, 0, 2, 0, 2, 2, 3, 1, 3, 3, 2, 1, 3, 0, 3, 3, 1,\n",
       "       0, 2, 1, 3, 2, 1, 3, 3, 1, 1, 1, 0, 3, 1, 0, 1, 2, 3, 2, 2, 0, 2,\n",
       "       0, 2, 1, 1, 1, 3, 3, 2, 2, 3, 3, 0, 1, 0, 0, 3, 2, 0, 0, 2, 1, 3,\n",
       "       2, 2, 2, 0, 1, 3, 3, 0, 3, 2, 3, 1, 2, 1, 1, 3, 2, 3, 0, 3, 2, 2,\n",
       "       2, 1, 0, 3, 1, 2, 3, 3, 3, 3, 1, 0, 1, 2, 1, 2, 1, 0, 0, 3, 3, 1,\n",
       "       1, 0, 0, 3, 2, 0, 1, 3, 2, 0, 2, 3, 3, 2, 1, 2, 0, 0, 3, 1, 0, 3,\n",
       "       3, 3, 2, 2, 2, 3, 1, 0, 0, 3, 2, 3, 3, 1, 3, 0, 2, 2, 1, 3, 3, 0,\n",
       "       0, 2, 3, 1, 3, 3, 1, 1, 2, 3, 2, 2, 3, 0, 0, 3, 3, 3, 3, 1, 3, 1,\n",
       "       1, 3, 0, 3, 2, 3, 3, 1, 0, 3, 3, 1, 1, 0, 1, 0, 1, 0, 3, 1, 1, 3,\n",
       "       2, 2, 1, 2, 1, 0, 0, 0, 1, 0, 3, 2, 2, 0, 1, 1, 2, 0, 0, 2, 2, 1,\n",
       "       0, 3, 1, 2, 1, 3, 2, 1, 2, 1, 3, 3, 1, 3, 2, 1, 1, 1, 2, 0, 1, 1,\n",
       "       0, 0, 3, 1, 1, 3, 3, 3, 2, 0, 1, 1, 2, 0, 3, 3, 3, 3, 2, 3, 2, 1,\n",
       "       0, 3, 3, 0, 2, 1, 2, 0, 3, 1, 3, 1, 0, 0, 3, 2, 3, 0, 3, 2, 1, 3,\n",
       "       3, 0, 0, 3, 1, 0, 1, 1, 1, 1, 2, 2, 2, 0, 1, 3, 2, 3, 3, 0, 1, 2,\n",
       "       2, 3, 3, 2, 1, 2, 0, 3, 2, 1, 1, 1, 1, 1, 3, 3, 1, 0, 2, 0, 0, 1,\n",
       "       0, 1, 1, 1, 0, 0, 3, 1, 0, 2, 3, 3, 2, 3, 1, 3, 2, 2, 2, 2, 0, 2,\n",
       "       0, 2, 2, 2, 3, 2, 1, 1, 1, 2, 1, 0, 1, 0, 1, 2, 2, 3, 3, 1, 3, 0,\n",
       "       3, 1, 0, 0, 0, 3, 2, 1, 1, 1, 2, 3, 1, 2, 3, 1, 3, 1, 0, 3, 0, 0,\n",
       "       1, 2, 3, 3, 3, 2, 0, 2, 0, 3, 1, 2, 2, 0, 1, 2, 3, 1, 0, 2, 0, 2,\n",
       "       0, 1, 1, 0, 2, 1, 0, 0, 1, 1, 2, 0, 3, 1, 0, 3, 1, 2, 1, 2, 3, 1,\n",
       "       2, 3, 3, 2, 0, 2, 1, 2, 1, 0, 1, 0, 3, 1, 0, 2, 1, 0, 1, 1, 2, 0,\n",
       "       3, 2, 2, 0, 3, 1, 3, 2, 0, 3, 3, 2, 3, 2, 1, 1, 2, 1, 3, 3, 2, 0,\n",
       "       2, 2, 0, 1, 3, 1, 1, 3, 0, 3, 3, 3, 3, 3, 0, 0, 2, 2, 1, 1, 1, 2,\n",
       "       0, 1, 0, 0, 3, 1, 0, 1, 1, 0], dtype=int64)"
      ]
     },
     "execution_count": 125,
     "metadata": {},
     "output_type": "execute_result"
    }
   ],
   "source": [
    "y_cars"
   ]
  },
  {
   "cell_type": "code",
   "execution_count": null,
   "id": "independent-basic",
   "metadata": {},
   "outputs": [],
   "source": [
    "### Splitting data into Testing and training"
   ]
  },
  {
   "cell_type": "code",
   "execution_count": 126,
   "id": "illegal-patrick",
   "metadata": {},
   "outputs": [],
   "source": [
    "X_train, X_test, y_train, y_test = train_test_split(X_cars, y_cars, test_size=0.25, random_state=37)"
   ]
  },
  {
   "cell_type": "code",
   "execution_count": 127,
   "id": "similar-short",
   "metadata": {},
   "outputs": [
    {
     "data": {
      "text/plain": [
       "(634, 18)"
      ]
     },
     "execution_count": 127,
     "metadata": {},
     "output_type": "execute_result"
    }
   ],
   "source": [
    "X_train.shape"
   ]
  },
  {
   "cell_type": "code",
   "execution_count": 128,
   "id": "quarterly-equality",
   "metadata": {},
   "outputs": [
    {
     "data": {
      "text/plain": [
       "(634,)"
      ]
     },
     "execution_count": 128,
     "metadata": {},
     "output_type": "execute_result"
    }
   ],
   "source": [
    "y_train.shape"
   ]
  },
  {
   "cell_type": "code",
   "execution_count": 129,
   "id": "global-respect",
   "metadata": {},
   "outputs": [
    {
     "data": {
      "text/plain": [
       "StandardScaler()"
      ]
     },
     "execution_count": 129,
     "metadata": {},
     "output_type": "execute_result"
    }
   ],
   "source": [
    "scaler = preprocessing.StandardScaler().fit(X_train)\n",
    "scaler"
   ]
  },
  {
   "cell_type": "code",
   "execution_count": 130,
   "id": "abroad-daily",
   "metadata": {},
   "outputs": [],
   "source": [
    "X_train = scaler.transform(X_train)\n",
    "X_test = scaler.transform(X_test)"
   ]
  },
  {
   "cell_type": "code",
   "execution_count": 131,
   "id": "remarkable-throw",
   "metadata": {},
   "outputs": [
    {
     "data": {
      "text/plain": [
       "array([[ 1.10435706,  1.15248686,  1.31662479,  0.0162843 , -1.21954987,\n",
       "        -0.35225696,  1.99165827, -1.64695316,  2.05004485,  0.82199311,\n",
       "         2.07437151,  2.09438355,  2.31299079,  1.31459688, -0.7027996 ,\n",
       "         1.12929276, -0.97304678, -1.57198006],\n",
       "       [-1.87962852, -0.30143532, -0.78583467, -0.6641102 ,  0.41192717,\n",
       "        -0.13500899, -0.66926207,  0.66884643, -0.62036872, -0.21284333,\n",
       "        -0.63991478, -0.69484083, -0.20386387,  0.63300183, -1.10694921,\n",
       "        -0.08796964, -1.29876571, -1.30413933]])"
      ]
     },
     "execution_count": 131,
     "metadata": {},
     "output_type": "execute_result"
    }
   ],
   "source": [
    "X_train[:2]"
   ]
  },
  {
   "cell_type": "code",
   "execution_count": 132,
   "id": "public-observer",
   "metadata": {},
   "outputs": [],
   "source": [
    "import seaborn as sns\n",
    "colors = [\"red\", \"green\", \"blue\", \"black\"]"
   ]
  },
  {
   "cell_type": "code",
   "execution_count": 133,
   "id": "level-smile",
   "metadata": {},
   "outputs": [
    {
     "data": {
      "image/png": "[encoded data removed]",
      "text/plain": [
       "<Figure size 432x288 with 1 Axes>"
      ]
     },
     "metadata": {
      "needs_background": "light"
     },
     "output_type": "display_data"
    }
   ],
   "source": [
    "for i in range(len(colors)):\n",
    "    xs = X_train[:,0][y_train== i]\n",
    "    ys = X_train[:, 1][y_train == i]\n",
    "    sns.lineplot(x=xs, y=ys)\n",
    "plt.legend(cars[\"Class\"].unique())\n",
    "plt.title(\"Line Plot\")\n",
    "plt.show()"
   ]
  },
  {
   "cell_type": "code",
   "execution_count": 134,
   "id": "anticipated-scheduling",
   "metadata": {},
   "outputs": [
    {
     "data": {
      "image/png": "[encoded data removed]",
      "text/plain": [
       "<Figure size 432x288 with 1 Axes>"
      ]
     },
     "metadata": {
      "needs_background": "light"
     },
     "output_type": "display_data"
    }
   ],
   "source": [
    "for i in range(len(colors)):\n",
    "    xs = X_train[:,0][y_train== i]\n",
    "    ys = X_train[:, 1][y_train == i]\n",
    "    sns.scatterplot(x=xs, y=ys)\n",
    "plt.legend(cars[\"Class\"].unique())\n",
    "plt.title(\"Scatter Plot\")\n",
    "plt.show()"
   ]
  },
  {
   "cell_type": "code",
   "execution_count": 135,
   "id": "collect-george",
   "metadata": {},
   "outputs": [],
   "source": [
    "from sklearn.linear_model import SGDClassifier\n",
    "clf = SGDClassifier()"
   ]
  },
  {
   "cell_type": "code",
   "execution_count": 136,
   "id": "placed-environment",
   "metadata": {},
   "outputs": [
    {
     "data": {
      "text/plain": [
       "SGDClassifier()"
      ]
     },
     "execution_count": 136,
     "metadata": {},
     "output_type": "execute_result"
    }
   ],
   "source": [
    "clf.fit(X_train , y_train)"
   ]
  },
  {
   "cell_type": "code",
   "execution_count": 137,
   "id": "qualified-canberra",
   "metadata": {},
   "outputs": [
    {
     "data": {
      "text/plain": [
       "array([[  9.9110698 ,  -4.25973972,  14.80069789,  -8.93138298,\n",
       "          4.58513136,   0.11934908, -12.56009802,   4.50816766,\n",
       "        -14.65215353,  28.32192165,  -4.81398455, -13.19921535,\n",
       "        -13.01147423,  10.73608367,   1.41517349,  -4.67021924,\n",
       "         -7.52344999,  15.72395134],\n",
       "       [  2.08732312,  -3.76531198,  -1.37399609,   7.90467761,\n",
       "         -6.01718888,  -1.53272201,   1.56264274,  -3.31123079,\n",
       "          4.25630101,  -1.80280876,  -4.24467639,  -8.19685597,\n",
       "          4.16429536,  -1.8610555 ,   1.10572699,   0.48596947,\n",
       "         -8.38503474,   5.96705036],\n",
       "       [ -1.0089124 ,   2.53535091,  -8.20621867, -34.6212628 ,\n",
       "         22.24502344,  -2.33374787,   5.48758252, -22.14065673,\n",
       "         -3.92908333,  -3.02416031,   4.4264962 ,   5.57436933,\n",
       "          3.75169531,  -2.46964949,  -3.09208048,   2.87679337,\n",
       "         17.54165585, -18.88794381],\n",
       "       [ -3.56879883,   5.05114038,  -0.97852935,   7.23580451,\n",
       "         -6.85339174,   0.57343228,   4.03769419,  -0.60208581,\n",
       "         -1.61066544,  -2.18115598,  -5.50387123,   0.35801741,\n",
       "         -3.28460382,  -3.0742308 ,   1.43122606,  -0.29393708,\n",
       "         -2.05528075,  -1.95977031]])"
      ]
     },
     "execution_count": 137,
     "metadata": {},
     "output_type": "execute_result"
    }
   ],
   "source": [
    "clf.coef_"
   ]
  },
  {
   "cell_type": "code",
   "execution_count": 138,
   "id": "tutorial-infection",
   "metadata": {},
   "outputs": [
    {
     "data": {
      "text/plain": [
       "array([-29.06030494,  -4.55238628, -11.71698387,  -3.04120685])"
      ]
     },
     "execution_count": 138,
     "metadata": {},
     "output_type": "execute_result"
    }
   ],
   "source": [
    "clf.intercept_"
   ]
  },
  {
   "cell_type": "markdown",
   "id": "tight-compiler",
   "metadata": {},
   "source": [
    "### Making predictions with our model\n",
    "* We want to predic what class the car is at index 0 in the dataframe\n",
    "> If the model is correct the car should be a `van`"
   ]
  },
  {
   "cell_type": "code",
   "execution_count": 139,
   "id": "numerous-killing",
   "metadata": {},
   "outputs": [
    {
     "data": {
      "text/plain": [
       "COMPACTNESS                   95\n",
       "CIRCULARITY                   48\n",
       "DISTANCE_CIRCULARITY          83\n",
       "RADIUS_RATIO                 178\n",
       "PR.AXIS_ASPECT_RATIO          72\n",
       "MAX.LENGTH_ASPECT_RATIO       10\n",
       "SCATTER_RATIO                162\n",
       "ELONGATEDNESS                 42\n",
       "PR.AXIS_RECTANGULARITY        20\n",
       "MAX.LENGTH_RECTANGULARITY    159\n",
       "SCALED_VARIANCE_MAJOR        176\n",
       "SCALED_VARIANCE_MINOR        379\n",
       "SCALED_RADIUS_OF_GYRATION    184\n",
       "SKEWNESS_ABOUT_MAJOR          70\n",
       "SKEWNESS_ABOUT_MINOR           6\n",
       "KURTOSIS_ABOUT_MAJOR          16\n",
       "KURTOSIS_ABOUT_MINOR         187\n",
       "HOLLOWS_RATIO                197\n",
       "Class                        van\n",
       "Name: 0, dtype: object"
      ]
     },
     "execution_count": 139,
     "metadata": {},
     "output_type": "execute_result"
    }
   ],
   "source": [
    "cars.iloc[0]"
   ]
  },
  {
   "cell_type": "code",
   "execution_count": 140,
   "id": "empirical-stuff",
   "metadata": {},
   "outputs": [
    {
     "data": {
      "text/plain": [
       "array([95, 48, 83, 178, 72, 10, 162, 42, 20, 159, 176, 379, 184, 70, 6,\n",
       "       16, 187, 197], dtype=object)"
      ]
     },
     "execution_count": 140,
     "metadata": {},
     "output_type": "execute_result"
    }
   ],
   "source": [
    "_van = cars.iloc[0].values[:-1]\n",
    "_van"
   ]
  },
  {
   "cell_type": "code",
   "execution_count": 141,
   "id": "operating-mercury",
   "metadata": {},
   "outputs": [
    {
     "data": {
      "text/plain": [
       "array([0], dtype=int64)"
      ]
     },
     "execution_count": 141,
     "metadata": {},
     "output_type": "execute_result"
    }
   ],
   "source": [
    "scaled_data = scaler.transform([_van])\n",
    "\n",
    "prediction = clf.predict(scaled_data)\n",
    "prediction ## Yes it is a van"
   ]
  },
  {
   "cell_type": "code",
   "execution_count": 142,
   "id": "understood-monitor",
   "metadata": {},
   "outputs": [],
   "source": [
    "_bus = cars.iloc[15].values[:-1]"
   ]
  },
  {
   "cell_type": "code",
   "execution_count": 143,
   "id": "excited-interference",
   "metadata": {},
   "outputs": [
    {
     "data": {
      "text/plain": [
       "array([1], dtype=int64)"
      ]
     },
     "execution_count": 143,
     "metadata": {},
     "output_type": "execute_result"
    }
   ],
   "source": [
    "scaled_data = scaler.transform([_bus])\n",
    "\n",
    "prediction = clf.predict(scaled_data)\n",
    "prediction"
   ]
  },
  {
   "cell_type": "code",
   "execution_count": 144,
   "id": "canadian-tyler",
   "metadata": {},
   "outputs": [
    {
     "data": {
      "text/plain": [
       "array([1], dtype=int64)"
      ]
     },
     "execution_count": 144,
     "metadata": {},
     "output_type": "execute_result"
    }
   ],
   "source": [
    "_bus = cars.iloc[2].values[:-1]\n",
    "scaled_data = scaler.transform([_bus])\n",
    "\n",
    "prediction = clf.predict(scaled_data)\n",
    "prediction"
   ]
  },
  {
   "cell_type": "code",
   "execution_count": 146,
   "id": "alternate-singapore",
   "metadata": {},
   "outputs": [
    {
     "data": {
      "text/plain": [
       "array([2], dtype=int64)"
      ]
     },
     "execution_count": 146,
     "metadata": {},
     "output_type": "execute_result"
    }
   ],
   "source": [
    "_bus = cars.iloc[5].values[:-1]\n",
    "scaled_data = scaler.transform([_bus])\n",
    "\n",
    "prediction = clf.predict(scaled_data)\n",
    "prediction"
   ]
  },
  {
   "cell_type": "markdown",
   "id": "clinical-logan",
   "metadata": {},
   "source": [
    "> Conclusion\n",
    "* The model is not 100% accurate let's evaluate it"
   ]
  },
  {
   "cell_type": "code",
   "execution_count": 147,
   "id": "alone-friendship",
   "metadata": {},
   "outputs": [
    {
     "data": {
      "text/plain": [
       "0.7476340694006309"
      ]
     },
     "execution_count": 147,
     "metadata": {},
     "output_type": "execute_result"
    }
   ],
   "source": [
    "# Checking accuracy based on train data\n",
    "from sklearn.metrics import accuracy_score\n",
    "y_train_pred = clf.predict(X_train)\n",
    "\n",
    "acc = accuracy_score(y_train, y_train_pred)\n",
    "acc"
   ]
  },
  {
   "cell_type": "code",
   "execution_count": 148,
   "id": "shaped-kidney",
   "metadata": {},
   "outputs": [
    {
     "data": {
      "text/plain": [
       "0.7641509433962265"
      ]
     },
     "execution_count": 148,
     "metadata": {},
     "output_type": "execute_result"
    }
   ],
   "source": [
    "# Checking accuracy based on test data\n",
    "y_predict = clf.predict(X_test)\n",
    "acc = accuracy_score(y_test, y_predict)\n",
    "acc"
   ]
  },
  {
   "cell_type": "code",
   "execution_count": null,
   "id": "latin-decimal",
   "metadata": {},
   "outputs": [],
   "source": []
  },
  {
   "cell_type": "code",
   "execution_count": null,
   "id": "disabled-albany",
   "metadata": {},
   "outputs": [],
   "source": []
  }
 ],
 "metadata": {
  "kernelspec": {
   "display_name": "Python 3",
   "language": "python",
   "name": "python3"
  },
  "language_info": {
   "codemirror_mode": {
    "name": "ipython",
    "version": 3
   },
   "file_extension": ".py",
   "mimetype": "text/x-python",
   "name": "python",
   "nbconvert_exporter": "python",
   "pygments_lexer": "ipython3",
   "version": "3.8.5"
  }
 },
 "nbformat": 4,
 "nbformat_minor": 5
}
