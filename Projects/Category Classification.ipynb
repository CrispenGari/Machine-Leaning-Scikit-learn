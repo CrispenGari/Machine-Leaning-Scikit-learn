{
 "cells": [
  {
   "cell_type": "markdown",
   "id": "republican-delight",
   "metadata": {},
   "source": [
    "## Sentiment Classification - NLP\n",
    "* we want to categorise which category the product belongs to \n"
   ]
  },
  {
   "cell_type": "code",
   "execution_count": 2,
   "id": "julian-domain",
   "metadata": {},
   "outputs": [],
   "source": [
    "import numpy as np\n",
    "import seaborn as sns\n",
    "import pickle\n",
    "import matplotlib.pyplot as plt\n",
    "import sklearn as sk\n",
    "from random import shuffle\n",
    "import json"
   ]
  },
  {
   "cell_type": "code",
   "execution_count": 3,
   "id": "palestinian-overall",
   "metadata": {},
   "outputs": [],
   "source": [
    "class Category:\n",
    "    ELECTRONICS = \"ELECTRONICS\"\n",
    "    BOOKS = \"BOOKS\"\n",
    "    CLOTHING = \"CLOTHING\"\n",
    "    GROCERY = \"GROCERY\"\n",
    "    PATIO = \"PATIO\"\n",
    "    \n",
    "class CategoryObject:\n",
    "    def __init__(self, category, text):\n",
    "        self.category = category\n",
    "        self.text = text"
   ]
  },
  {
   "cell_type": "code",
   "execution_count": 4,
   "id": "embedded-model",
   "metadata": {},
   "outputs": [],
   "source": [
    "file_names =[\n",
    "  'files/category/Electronics_small.json',\n",
    "    'files/category/Books_small.json', \n",
    "    'files/category/Clothing_small.json',\n",
    "    'files/category/Grocery_small.json', \n",
    "    'files/category/Patio_small.json'\n",
    "]\n",
    "\n",
    "list_categories = [\n",
    "    Category.ELECTRONICS,\n",
    "    Category.BOOKS, \n",
    "    Category.CLOTHING, \n",
    "    Category.GROCERY, \n",
    "    Category.PATIO\n",
    "]\n",
    "categories = []\n",
    "\n",
    "for i in range(len(file_names)):\n",
    "    category = list_categories[i]\n",
    "    with open(file_names[i], 'r') as reader:\n",
    "        for line in reader:\n",
    "            category_json = json.loads(line)\n",
    "            cate = CategoryObject(category, category_json[\"reviewText\"])\n",
    "            categories.append(cate)\n",
    "\n",
    "shuffle(categories)"
   ]
  },
  {
   "cell_type": "markdown",
   "id": "recreational-panic",
   "metadata": {},
   "source": [
    "### Data Preparation"
   ]
  },
  {
   "cell_type": "code",
   "execution_count": 6,
   "id": "alike-taste",
   "metadata": {},
   "outputs": [],
   "source": [
    "from sklearn.model_selection import train_test_split\n",
    "train, test = train_test_split(categories, test_size = .2, random_state=33)"
   ]
  },
  {
   "cell_type": "code",
   "execution_count": 7,
   "id": "fifth-friendly",
   "metadata": {},
   "outputs": [
    {
     "data": {
      "text/plain": [
       "(4000, 1000)"
      ]
     },
     "execution_count": 7,
     "metadata": {},
     "output_type": "execute_result"
    }
   ],
   "source": [
    "len(train), len(test)"
   ]
  },
  {
   "cell_type": "code",
   "execution_count": 8,
   "id": "viral-charleston",
   "metadata": {},
   "outputs": [],
   "source": [
    "X_train = [i.text for i in train]\n",
    "y_train = [i.category for i in train]\n",
    "\n",
    "X_test = [i.text for i in test]\n",
    "y_test = [i.category for i in test]"
   ]
  },
  {
   "cell_type": "code",
   "execution_count": 9,
   "id": "lucky-singles",
   "metadata": {},
   "outputs": [
    {
     "data": {
      "text/plain": [
       "['GROCERY', 'BOOKS', 'ELECTRONICS', 'ELECTRONICS', 'GROCERY']"
      ]
     },
     "execution_count": 9,
     "metadata": {},
     "output_type": "execute_result"
    }
   ],
   "source": [
    "y_train[:5]"
   ]
  },
  {
   "cell_type": "markdown",
   "id": "careful-wonder",
   "metadata": {},
   "source": [
    "### Bag of word Vectorisation"
   ]
  },
  {
   "cell_type": "code",
   "execution_count": 10,
   "id": "atlantic-times",
   "metadata": {},
   "outputs": [],
   "source": [
    "from sklearn.feature_extraction.text import CountVectorizer\n",
    "vectorizer = CountVectorizer()\n",
    "\n",
    "X_train_vectors = vectorizer.fit_transform(X_train)\n",
    "X_test_vectors = vectorizer.transform(X_test)"
   ]
  },
  {
   "cell_type": "code",
   "execution_count": null,
   "id": "stuck-leisure",
   "metadata": {},
   "outputs": [],
   "source": []
  },
  {
   "cell_type": "code",
   "execution_count": 11,
   "id": "second-credit",
   "metadata": {},
   "outputs": [
    {
     "data": {
      "text/plain": [
       "(4000, 4000)"
      ]
     },
     "execution_count": 11,
     "metadata": {},
     "output_type": "execute_result"
    }
   ],
   "source": [
    "len(y_train), len(X_train)"
   ]
  },
  {
   "cell_type": "markdown",
   "id": "surrounded-carter",
   "metadata": {},
   "source": [
    "### Classification of Categories\n",
    "* In this one im going to use SVC from sklearn.svm"
   ]
  },
  {
   "cell_type": "code",
   "execution_count": 12,
   "id": "focused-thunder",
   "metadata": {},
   "outputs": [
    {
     "data": {
      "text/plain": [
       "SVC()"
      ]
     },
     "execution_count": 12,
     "metadata": {},
     "output_type": "execute_result"
    }
   ],
   "source": [
    "from sklearn.svm import SVC\n",
    "clf = SVC()\n",
    "clf.fit(X_train_vectors, y_train)"
   ]
  },
  {
   "cell_type": "code",
   "execution_count": 18,
   "id": "controlling-consent",
   "metadata": {},
   "outputs": [
    {
     "data": {
      "text/plain": [
       "array(['ELECTRONICS'], dtype='<U11')"
      ]
     },
     "execution_count": 18,
     "metadata": {},
     "output_type": "execute_result"
    }
   ],
   "source": [
    "sent = \"cell phone\"\n",
    "clf.predict(vectorizer.transform([sent]))\n"
   ]
  },
  {
   "cell_type": "code",
   "execution_count": 14,
   "id": "pregnant-groove",
   "metadata": {},
   "outputs": [
    {
     "data": {
      "text/plain": [
       "0.895"
      ]
     },
     "execution_count": 14,
     "metadata": {},
     "output_type": "execute_result"
    }
   ],
   "source": [
    "clf.score(X_train_vectors, y_train)"
   ]
  },
  {
   "cell_type": "markdown",
   "id": "listed-sequence",
   "metadata": {},
   "source": [
    "### Perfomance"
   ]
  },
  {
   "cell_type": "code",
   "execution_count": 17,
   "id": "british-april",
   "metadata": {},
   "outputs": [
    {
     "data": {
      "text/plain": [
       "array([0.94021739, 0.77218225, 0.70725995, 0.81428571, 0.72282609])"
      ]
     },
     "execution_count": 17,
     "metadata": {},
     "output_type": "execute_result"
    }
   ],
   "source": [
    "from sklearn.metrics import f1_score\n",
    "y_pred = clf.predict(X_test_vectors)\n",
    "\n",
    "f1_score(y_test, y_pred, average=None)"
   ]
  },
  {
   "cell_type": "code",
   "execution_count": 20,
   "id": "valid-kelly",
   "metadata": {},
   "outputs": [
    {
     "data": {
      "text/plain": [
       "array(['ELECTRONICS', 'CLOTHING', 'ELECTRONICS'], dtype='<U11')"
      ]
     },
     "execution_count": 20,
     "metadata": {},
     "output_type": "execute_result"
    }
   ],
   "source": [
    "sents = [ \"cell phone\", \"shirt\", \"computer\"]\n",
    "sents_vects = vectorizer.transform(sents)\n",
    "clf.predict(sents_vects)"
   ]
  },
  {
   "cell_type": "markdown",
   "id": "diagnostic-arthritis",
   "metadata": {},
   "source": [
    "> **Conclusion:** - The more the train data the better the **model**."
   ]
  },
  {
   "cell_type": "code",
   "execution_count": null,
   "id": "associate-colors",
   "metadata": {},
   "outputs": [],
   "source": []
  }
 ],
 "metadata": {
  "kernelspec": {
   "display_name": "Python 3",
   "language": "python",
   "name": "python3"
  },
  "language_info": {
   "codemirror_mode": {
    "name": "ipython",
    "version": 3
   },
   "file_extension": ".py",
   "mimetype": "text/x-python",
   "name": "python",
   "nbconvert_exporter": "python",
   "pygments_lexer": "ipython3",
   "version": "3.8.5"
  }
 },
 "nbformat": 4,
 "nbformat_minor": 5
}
